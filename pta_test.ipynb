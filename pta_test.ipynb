{
 "cells": [
  {
   "cell_type": "code",
   "execution_count": 1,
   "metadata": {},
   "outputs": [
    {
     "name": "stdout",
     "output_type": "stream",
     "text": [
      "Do not have acor package\n"
     ]
    }
   ],
   "source": [
    "%load_ext autoreload\n",
    "%autoreload 2\n",
    "import pickle, json\n",
    "from enterprise_extensions.models import model_2a\n",
    "from enterprise.signals.parameter import sample as sample_params\n",
    "import numpy as np\n",
    "from impulse.impulse import sample, parallel_sample, pt_sample, parallel_pt_sample\n",
    "import matplotlib.pyplot as plt\n",
    "from emcee.autocorr import integrated_time\n",
    "\n",
    "from PTMCMCSampler.PTMCMCSampler import PTSampler as ptmcmc"
   ]
  },
  {
   "cell_type": "code",
   "execution_count": 2,
   "metadata": {},
   "outputs": [
    {
     "name": "stderr",
     "output_type": "stream",
     "text": [
      "WARNING: AstropyDeprecationWarning: The private astropy._erfa module has been made into its own package, pyerfa, which is a dependency of astropy and can be imported directly using \"import erfa\" [astropy._erfa]\n"
     ]
    }
   ],
   "source": [
    "with open('/Users/aaron/Documents/GitHub/12p5yr_stochastic_analysis/tutorials/data/psrs.pkl', 'rb') as f:\n",
    "    psrs = pickle.load(f)\n",
    "\n",
    "with open('/Users/aaron/Documents/GitHub/12p5yr_stochastic_analysis/tutorials/data/channelized_12p5yr_v3_full_noisedict.json', 'r') as f:\n",
    "    params = json.load(f)"
   ]
  },
  {
   "cell_type": "code",
   "execution_count": 3,
   "metadata": {},
   "outputs": [],
   "source": [
    "pta = model_2a([psrs[0]], noisedict=params, gamma_common=4.33, n_gwbfreqs=5, tm_marg=True, tnequad=True, tm_svd=True)"
   ]
  },
  {
   "cell_type": "code",
   "execution_count": 4,
   "metadata": {},
   "outputs": [],
   "source": [
    "x0 = np.array(list(sample_params(pta.params).values()))"
   ]
  },
  {
   "cell_type": "code",
   "execution_count": 50,
   "metadata": {},
   "outputs": [
    {
     "name": "stderr",
     "output_type": "stream",
     "text": [
      "100%|██████████| 1000/1000 [02:59<00:00,  5.56it/s]\n"
     ]
    }
   ],
   "source": [
    "res = sample(pta.get_lnlikelihood, pta.get_lnprior, len(x0), x0, num_samples=1_000_000)"
   ]
  },
  {
   "cell_type": "code",
   "execution_count": 12,
   "metadata": {},
   "outputs": [],
   "source": [
    "ndim = len(x0)\n",
    "cov = np.diag(np.ones(ndim) * 0.01**2)\n",
    "\n",
    "outDir = './chains/sngl/'\n",
    "\n",
    "sampler = ptmcmc(ndim, pta.get_lnlikelihood, pta.get_lnprior, cov,\n",
    "                 outDir=outDir, resume=False)"
   ]
  },
  {
   "cell_type": "code",
   "execution_count": 13,
   "metadata": {},
   "outputs": [
    {
     "name": "stdout",
     "output_type": "stream",
     "text": [
      "Finished 1.00 percent in 2.036206 s Acceptance rate = 0.365456Adding DE jump with weight 50\n",
      "Finished 99.90 percent in 175.722410 s Acceptance rate = 0.209965\n",
      "Run Complete\n"
     ]
    }
   ],
   "source": [
    "N = int(1e6)\n",
    "x0 = np.hstack([p.sample() for p in pta.params])\n",
    "sampler.sample(x0, N, SCAMweight=30, AMweight=15, DEweight=50, )"
   ]
  },
  {
   "cell_type": "code",
   "execution_count": 51,
   "metadata": {},
   "outputs": [],
   "source": [
    "outDir = './chains/sngl/'\n",
    "with open(outDir + 'chain_1.txt', 'r') as f:\n",
    "    chain2 = np.loadtxt(f)"
   ]
  },
  {
   "cell_type": "code",
   "execution_count": 52,
   "metadata": {},
   "outputs": [
    {
     "data": {
      "image/png": "[encoded data removed]",
      "text/plain": [
       "<Figure size 432x288 with 1 Axes>"
      ]
     },
     "metadata": {
      "needs_background": "light"
     },
     "output_type": "display_data"
    },
    {
     "data": {
      "image/png": "[encoded data removed]",
      "text/plain": [
       "<Figure size 432x288 with 1 Axes>"
      ]
     },
     "metadata": {
      "needs_background": "light"
     },
     "output_type": "display_data"
    },
    {
     "data": {
      "image/png": "[encoded data removed]",
      "text/plain": [
       "<Figure size 432x288 with 1 Axes>"
      ]
     },
     "metadata": {
      "needs_background": "light"
     },
     "output_type": "display_data"
    }
   ],
   "source": [
    "for ii in range(3):\n",
    "    __, bins, __ = plt.hist(np.vstack(res)[:, ii], bins=100, density=True)\n",
    "    plt.hist(chain2[20_000:, ii], bins=bins, density=True, alpha=0.5)\n",
    "    # plt.hist(samples[:, ii], bins=bins, density=True, alpha=0.5)\n",
    "    plt.show()"
   ]
  },
  {
   "cell_type": "code",
   "execution_count": 57,
   "metadata": {},
   "outputs": [
    {
     "name": "stdout",
     "output_type": "stream",
     "text": [
      "[23.82986538]\n",
      "[23.29212662]\n"
     ]
    }
   ],
   "source": [
    "ii = 2\n",
    "print(integrated_time(chain2[:, ii]))\n",
    "print(integrated_time(res[:, ii], quiet=True) / 10)\n",
    "# print(integrated_time(samples[:, ii], quiet=True))"
   ]
  },
  {
   "cell_type": "code",
   "execution_count": 4,
   "metadata": {},
   "outputs": [],
   "source": [
    "ntemps = 4\n",
    "x0 = [np.array(list(sample_params(pta.params).values())) for _ in range(ntemps)]"
   ]
  },
  {
   "cell_type": "code",
   "execution_count": 19,
   "metadata": {},
   "outputs": [
    {
     "name": "stderr",
     "output_type": "stream",
     "text": [
      "  0%|          | 0/400 [00:00<?, ?it/s]/Users/aaron/Documents/GitHub/enterprise/enterprise/signals/parameter.py:62: RuntimeWarning: divide by zero encountered in log\n",
      "  logpdf = np.log(self.prior(value, **kwargs))\n",
      "100%|██████████| 400/400 [04:08<00:00,  1.61it/s]\n"
     ]
    }
   ],
   "source": [
    "res = pt_sample(pta.get_lnlikelihood, pta.get_lnprior, len(x0[0]), x0, ntemps=ntemps, num_samples=400_000)"
   ]
  },
  {
   "cell_type": "code",
   "execution_count": 20,
   "metadata": {},
   "outputs": [
    {
     "name": "stdout",
     "output_type": "stream",
     "text": [
      "(400000, 3, 4)\n"
     ]
    }
   ],
   "source": [
    "print(res.shape)"
   ]
  },
  {
   "cell_type": "code",
   "execution_count": 21,
   "metadata": {},
   "outputs": [
    {
     "data": {
      "text/plain": [
       "[<matplotlib.lines.Line2D at 0x184883e80>]"
      ]
     },
     "execution_count": 21,
     "metadata": {},
     "output_type": "execute_result"
    },
    {
     "data": {
      "image/png": "[encoded data removed]",
      "text/plain": [
       "<Figure size 432x288 with 1 Axes>"
      ]
     },
     "metadata": {
      "needs_background": "light"
     },
     "output_type": "display_data"
    }
   ],
   "source": [
    "plt.plot(res[:, 0, 0])\n",
    "plt.plot(res[:, 0, 1])\n",
    "plt.plot(res[:, 0, 2])\n",
    "plt.plot(res[:, 0, 3])"
   ]
  },
  {
   "cell_type": "code",
   "execution_count": 22,
   "metadata": {},
   "outputs": [
    {
     "data": {
      "image/png": "[encoded data removed]",
      "text/plain": [
       "<Figure size 432x288 with 1 Axes>"
      ]
     },
     "metadata": {
      "needs_background": "light"
     },
     "output_type": "display_data"
    }
   ],
   "source": [
    "plt.hist(res[:, 0, 0], bins=50, density=True)\n",
    "plt.show()"
   ]
  },
  {
   "cell_type": "code",
   "execution_count": 21,
   "metadata": {},
   "outputs": [],
   "source": [
    "outDir = './chains/sngl/'\n",
    "with open(outDir + 'chain_1.txt', 'r') as f:\n",
    "    chain2 = np.loadtxt(f)"
   ]
  },
  {
   "cell_type": "code",
   "execution_count": 23,
   "metadata": {},
   "outputs": [
    {
     "data": {
      "image/png": "[encoded data removed]",
      "text/plain": [
       "<Figure size 432x288 with 1 Axes>"
      ]
     },
     "metadata": {
      "needs_background": "light"
     },
     "output_type": "display_data"
    },
    {
     "data": {
      "image/png": "[encoded data removed]",
      "text/plain": [
       "<Figure size 432x288 with 1 Axes>"
      ]
     },
     "metadata": {
      "needs_background": "light"
     },
     "output_type": "display_data"
    },
    {
     "data": {
      "image/png": "[encoded data removed]",
      "text/plain": [
       "<Figure size 432x288 with 1 Axes>"
      ]
     },
     "metadata": {
      "needs_background": "light"
     },
     "output_type": "display_data"
    }
   ],
   "source": [
    "for ii in range(3):\n",
    "    __, bins, __ = plt.hist(res[:, ii, 0], bins=100, density=True)\n",
    "    plt.hist(chain2[20_000:, ii], bins=bins, density=True, alpha=0.5)\n",
    "    # plt.hist(samples[:, ii], bins=bins, density=True, alpha=0.5)\n",
    "    plt.show()"
   ]
  },
  {
   "cell_type": "code",
   "execution_count": 9,
   "metadata": {},
   "outputs": [
    {
     "data": {
      "text/plain": [
       "[<matplotlib.lines.Line2D at 0x1867cd490>]"
      ]
     },
     "execution_count": 9,
     "metadata": {},
     "output_type": "execute_result"
    },
    {
     "data": {
      "image/png": "[encoded data removed]",
      "text/plain": [
       "<Figure size 432x288 with 1 Axes>"
      ]
     },
     "metadata": {
      "needs_background": "light"
     },
     "output_type": "display_data"
    }
   ],
   "source": [
    "plt.plot(res[0][:, 2])\n",
    "plt.plot(res[1][:, 2])\n",
    "plt.plot(res[2][:, 2])\n",
    "plt.plot(res[3][:, 2])"
   ]
  },
  {
   "cell_type": "code",
   "execution_count": 7,
   "metadata": {},
   "outputs": [],
   "source": [
    "ndim = 136\n",
    "tstep = 1 + np.sqrt(2 / ndim)"
   ]
  },
  {
   "cell_type": "code",
   "execution_count": 10,
   "metadata": {},
   "outputs": [],
   "source": [
    "ntemps = 4"
   ]
  },
  {
   "cell_type": "code",
   "execution_count": 11,
   "metadata": {},
   "outputs": [],
   "source": [
    "tmin = 1"
   ]
  },
  {
   "cell_type": "code",
   "execution_count": 23,
   "metadata": {},
   "outputs": [],
   "source": [
    "ii = np.arange(ntemps)\n",
    "ladder = tmin * tstep**ii"
   ]
  },
  {
   "cell_type": "code",
   "execution_count": 24,
   "metadata": {},
   "outputs": [
    {
     "name": "stderr",
     "output_type": "stream",
     "text": [
      "  0%|          | 0/1000 [00:00<?, ?it/s]/Users/aaron/Documents/GitHub/enterprise/enterprise/signals/parameter.py:62: RuntimeWarning: divide by zero encountered in log\n",
      "  logpdf = np.log(self.prior(value, **kwargs))\n",
      "100%|██████████| 1000/1000 [01:23<00:00, 12.04it/s]\n"
     ]
    }
   ],
   "source": [
    "res = sample(pta.get_lnprior, lambda x: 0, len(x0), x0, num_samples=1_000_000)"
   ]
  },
  {
   "cell_type": "code",
   "execution_count": 37,
   "metadata": {},
   "outputs": [
    {
     "data": {
      "image/png": "[encoded data removed]",
      "text/plain": [
       "<Figure size 432x288 with 1 Axes>"
      ]
     },
     "metadata": {
      "needs_background": "light"
     },
     "output_type": "display_data"
    }
   ],
   "source": [
    "plt.hist(res[:, 2], bins=100, density=True)\n",
    "plt.show()"
   ]
  },
  {
   "cell_type": "code",
   "execution_count": 58,
   "metadata": {},
   "outputs": [],
   "source": [
    "mean = [3, 5]\n",
    "cov = [[3, 4], [4, 20]]"
   ]
  },
  {
   "cell_type": "code",
   "execution_count": 64,
   "metadata": {},
   "outputs": [
    {
     "data": {
      "image/png": "[encoded data removed]",
      "text/plain": [
       "<Figure size 432x288 with 1 Axes>"
      ]
     },
     "metadata": {
      "needs_background": "light"
     },
     "output_type": "display_data"
    }
   ],
   "source": [
    "import matplotlib.pyplot as plt\n",
    "\n",
    "x, y = np.random.multivariate_normal(mean, cov, 200).T\n",
    "plt.plot(x, y, 'x')\n",
    "plt.axis('equal')\n",
    "plt.show()"
   ]
  },
  {
   "cell_type": "code",
   "execution_count": null,
   "metadata": {},
   "outputs": [],
   "source": []
  },
  {
   "cell_type": "code",
   "execution_count": 61,
   "metadata": {},
   "outputs": [],
   "source": [
    "from scipy.stats import multivariate_normal"
   ]
  },
  {
   "cell_type": "code",
   "execution_count": 43,
   "metadata": {},
   "outputs": [],
   "source": [
    "f = multivariate_normal(x, [1, 2], [2, 1])"
   ]
  },
  {
   "cell_type": "code",
   "execution_count": 41,
   "metadata": {},
   "outputs": [],
   "source": [
    "x = np.linspace(0, 7, num=2000)"
   ]
  },
  {
   "cell_type": "code",
   "execution_count": 6,
   "metadata": {},
   "outputs": [],
   "source": [
    "ntemps = 31\n",
    "nchains = 4\n",
    "x0 = [[np.array(list(sample_params(pta.params).values())) for _ in range(ntemps)] for _ in range(nchains)]"
   ]
  },
  {
   "cell_type": "code",
   "execution_count": 7,
   "metadata": {},
   "outputs": [
    {
     "name": "stderr",
     "output_type": "stream",
     "text": [
      "  0%|          | 0/300 [00:00<?, ?it/s]\n",
      "  0%|          | 0/300 [00:00<?, ?it/s]\n",
      "  0%|          | 0/300 [00:00<?, ?it/s]\n",
      "  0%|          | 0/300 [00:00<?, ?it/s]\n",
      "  0%|          | 1/300 [00:09<46:42,  9.37s/it]\n",
      "  0%|          | 1/300 [00:09<47:05,  9.45s/it]\n",
      "  0%|          | 1/300 [00:09<47:20,  9.50s/it]\n",
      "  0%|          | 1/300 [00:09<47:45,  9.58s/it]\n",
      "  1%|          | 2/300 [00:15<37:01,  7.46s/it]\n",
      "  1%|          | 2/300 [00:15<37:13,  7.49s/it]\n",
      "  1%|          | 2/300 [00:15<37:20,  7.52s/it]\n",
      "  1%|          | 2/300 [00:15<37:50,  7.62s/it]\n",
      "  1%|          | 3/300 [00:21<33:09,  6.70s/it]\n",
      "  1%|          | 3/300 [00:21<33:07,  6.69s/it]\n",
      "  1%|          | 3/300 [00:21<33:10,  6.70s/it]\n",
      "  1%|          | 3/300 [00:21<33:49,  6.83s/it]\n",
      "  1%|▏         | 4/300 [00:26<30:35,  6.20s/it]\n",
      "  1%|▏         | 4/300 [00:26<30:40,  6.22s/it]\n",
      "  1%|▏         | 4/300 [00:26<30:40,  6.22s/it]\n",
      "  1%|▏         | 4/300 [00:27<31:14,  6.33s/it]\n",
      "  2%|▏         | 5/300 [00:32<28:55,  5.88s/it]\n",
      "  2%|▏         | 5/300 [00:32<28:56,  5.89s/it]\n",
      "  2%|▏         | 5/300 [00:32<28:58,  5.89s/it]\n",
      "  2%|▏         | 5/300 [00:32<29:24,  5.98s/it]\n",
      "  2%|▏         | 6/300 [00:37<27:37,  5.64s/it]\n",
      "  2%|▏         | 6/300 [00:37<27:39,  5.65s/it]\n",
      "  2%|▏         | 6/300 [00:37<27:40,  5.65s/it]\n",
      "  2%|▏         | 6/300 [00:37<28:04,  5.73s/it]\n",
      "  2%|▏         | 7/300 [00:42<26:51,  5.50s/it]\n",
      "  2%|▏         | 7/300 [00:42<26:48,  5.49s/it]\n",
      "  2%|▏         | 7/300 [00:42<26:50,  5.49s/it]\n",
      "  2%|▏         | 7/300 [00:43<27:13,  5.58s/it]\n"
     ]
    }
   ],
   "source": [
    "res = parallel_pt_sample(4, 4, ntemps, pta.get_lnlikelihood, pta.get_lnprior, len(x0[0][0]), x0, num_samples=300_000, inf_temp=True)"
   ]
  },
  {
   "cell_type": "code",
   "execution_count": 8,
   "metadata": {},
   "outputs": [
    {
     "data": {
      "text/plain": [
       "[array([[[  4.00511251,   6.51172063,   4.00511251,   5.009179  ],\n",
       "         [-17.73330368, -11.64794878, -17.73330368, -16.17193606],\n",
       "         [-15.57792294, -17.92143203, -15.57792294, -16.76595402]],\n",
       " \n",
       "        [[  6.52020394,   4.00550655,   5.009179  ,   2.31721637],\n",
       "         [-11.65192694, -17.7518517 , -16.17193606, -16.6210223 ],\n",
       "         [-17.9282875 , -15.56345792, -16.79210703, -14.24319771]],\n",
       " \n",
       "        [[  6.51540729,   4.01952282,   5.0178995 ,   2.28798291],\n",
       "         [-11.65192694, -17.74487144, -16.18946333, -16.6210223 ],\n",
       "         [-17.9282875 , -15.55900242, -16.80542894, -14.24319771]],\n",
       " \n",
       "        ...,\n",
       " \n",
       "        [[  5.90346392,   1.03918823,   6.19190994,   1.25016934],\n",
       "         [-19.50806762, -17.08173094, -14.25300568, -12.6859441 ],\n",
       "         [-14.15724348, -14.09565915, -15.11600225, -15.6779985 ]],\n",
       " \n",
       "        [[  1.28148046,   0.75983489,   6.19190994,   1.25016934],\n",
       "         [-16.20431115, -16.9685849 , -14.25300568, -12.6859441 ],\n",
       "         [-14.1809837 , -14.0949473 , -15.11600225, -15.6779985 ]],\n",
       " \n",
       "        [[  1.28148046,   0.75983489,   6.19190994,   1.25016934],\n",
       "         [-16.20431115, -16.9685849 , -14.25300568, -12.6859441 ],\n",
       "         [-14.1809837 , -14.0949473 , -15.11600225, -15.6779985 ]]]),\n",
       " array([[[  2.40119043,   5.42145972,   2.40119043,   6.93225502],\n",
       "         [-12.60587278, -13.68577011, -12.60587278, -15.71872818],\n",
       "         [-17.95650592, -14.43614379, -17.95650592, -15.97943715]],\n",
       " \n",
       "        [[  5.42994303,   2.40158448,   6.93225502,   2.80587838],\n",
       "         [-13.68974827, -12.6244208 , -15.71872818, -19.70738129],\n",
       "         [-14.44299926, -17.9420409 , -16.00559016, -15.79584427]],\n",
       " \n",
       "        [[  5.42514638,   2.41560075,   6.94097551,   2.77664491],\n",
       "         [-13.68974827, -12.61744054, -15.73625545, -19.70738129],\n",
       "         [-14.44299926, -17.9375854 , -16.01891207, -15.79584427]],\n",
       " \n",
       "        ...,\n",
       " \n",
       "        [[  4.38277694,   5.66786883,   4.01149961,   5.90949815],\n",
       "         [-14.09525314, -15.10064942, -13.67319428, -14.80430457],\n",
       "         [-14.90047492, -14.42608206, -16.14272233, -14.62219651]],\n",
       " \n",
       "        [[  4.38277694,   5.37298415,   4.01149961,   5.90949815],\n",
       "         [-14.09525314, -15.02264249, -13.67319428, -14.80430457],\n",
       "         [-14.90047492, -14.4056204 , -16.14272233, -14.62219651]],\n",
       " \n",
       "        [[  4.38277694,   5.37298415,   4.01149961,   5.90949815],\n",
       "         [-14.09525314, -15.02264249, -13.67319428, -14.80430457],\n",
       "         [-14.90047492, -14.4056204 , -16.14272233, -14.62219651]]]),\n",
       " array([[[  0.76475459,   4.12485705,   0.76475459,   5.39212722],\n",
       "         [-18.77743979, -15.9378947 , -18.77743979, -18.07331402],\n",
       "         [-15.41880366, -14.20390253, -15.41880366, -14.36838911]],\n",
       " \n",
       "        [[  4.13334037,   0.76514864,   5.39212722,   2.37366037],\n",
       "         [-15.94187286, -18.79598781, -18.07331402, -11.62691976],\n",
       "         [-14.210758  , -15.40433864, -14.39454211, -15.48984373]],\n",
       " \n",
       "        [[  4.12854371,   0.7791649 ,   5.40084772,   2.3444269 ],\n",
       "         [-15.94187286, -18.78900755, -18.09084129, -11.62691976],\n",
       "         [-14.210758  , -15.39988314, -14.40786403, -15.48984373]],\n",
       " \n",
       "        ...,\n",
       " \n",
       "        [[  3.24326279,   3.27373293,   1.45864322,   2.03341743],\n",
       "         [-13.57303145, -17.97013721, -12.999026  , -13.69431006],\n",
       "         [-17.0613408 , -14.03429274, -14.18199329, -17.14982195]],\n",
       " \n",
       "        [[  3.24326279,   2.9889886 ,   1.45864322,   3.25362998],\n",
       "         [-13.57303145, -17.8743402 , -12.999026  , -13.32156964],\n",
       "         [-17.0613408 , -14.02210555, -14.18199329, -17.20157692]],\n",
       " \n",
       "        [[  3.24326279,   2.9889886 ,   3.81062538,   3.25362998],\n",
       "         [-13.57303145, -17.8743402 , -16.7542518 , -13.32156964],\n",
       "         [-17.0613408 , -14.02210555, -14.10754254, -17.20157692]]]),\n",
       " array([[[  0.90076151,   1.92493979,   0.90076151,   2.88632728],\n",
       "         [-15.41396053, -13.69831899, -15.41396053, -14.63696588],\n",
       "         [-14.06674031, -15.94370222, -14.06674031, -16.0820348 ]],\n",
       " \n",
       "        [[  1.9334231 ,   0.90115555,   2.88632728,   1.679508  ],\n",
       "         [-13.70229715, -15.43250855, -14.63696588, -14.64398923],\n",
       "         [-15.95055768, -14.05227529, -16.10818781, -17.36993542]],\n",
       " \n",
       "        [[  1.92862644,   0.91517182,   2.89504777,   1.65027453],\n",
       "         [-13.70229715, -15.42552829, -14.65449314, -14.64398923],\n",
       "         [-15.95055768, -14.04781979, -16.12150972, -17.36993542]],\n",
       " \n",
       "        ...,\n",
       " \n",
       "        [[  5.48298625,   4.0519774 ,   2.69697131,   1.12588004],\n",
       "         [-15.07918951, -14.32111833, -14.69589642, -13.42978483],\n",
       "         [-14.0029176 , -14.09394717, -14.33300785, -17.12728193]],\n",
       " \n",
       "        [[  5.48298625,   3.75820546,   2.69697131,   2.33322786],\n",
       "         [-15.07918951, -14.2447893 , -14.69589642, -13.07524662],\n",
       "         [-14.0029176 , -14.07186053, -14.33300785, -17.16487463]],\n",
       " \n",
       "        [[  5.48298625,   3.75820546,   2.69697131,   2.33322786],\n",
       "         [-15.07918951, -14.2447893 , -14.69589642, -13.07524662],\n",
       "         [-14.0029176 , -14.07186053, -14.33300785, -17.16487463]]])]"
      ]
     },
     "execution_count": 8,
     "metadata": {},
     "output_type": "execute_result"
    }
   ],
   "source": [
    "res"
   ]
  },
  {
   "cell_type": "code",
   "execution_count": 24,
   "metadata": {},
   "outputs": [
    {
     "data": {
      "image/png": "[encoded data removed]",
      "text/plain": [
       "<Figure size 432x288 with 1 Axes>"
      ]
     },
     "metadata": {
      "needs_background": "light"
     },
     "output_type": "display_data"
    },
    {
     "data": {
      "image/png": "[encoded data removed]",
      "text/plain": [
       "<Figure size 432x288 with 1 Axes>"
      ]
     },
     "metadata": {
      "needs_background": "light"
     },
     "output_type": "display_data"
    },
    {
     "data": {
      "image/png": "[encoded data removed]",
      "text/plain": [
       "<Figure size 432x288 with 1 Axes>"
      ]
     },
     "metadata": {
      "needs_background": "light"
     },
     "output_type": "display_data"
    }
   ],
   "source": [
    "for ii in range(3):\n",
    "    __, bins, __ = plt.hist(np.vstack(res)[50000:, ii, 0], bins=50, density=True)\n",
    "    plt.hist(chain2[20_000:, ii], bins=bins, density=True, alpha=0.5)\n",
    "    plt.show()"
   ]
  },
  {
   "cell_type": "code",
   "execution_count": 35,
   "metadata": {},
   "outputs": [
    {
     "name": "stdout",
     "output_type": "stream",
     "text": [
      "[21.68286]\n",
      "[22.53624037]\n"
     ]
    }
   ],
   "source": [
    "print(integrated_time(res[0][50000:, 2, 0]) / 10)\n",
    "print(integrated_time(chain2[20_000:, 2]))"
   ]
  },
  {
   "cell_type": "code",
   "execution_count": null,
   "metadata": {},
   "outputs": [],
   "source": []
  }
 ],
 "metadata": {
  "interpreter": {
   "hash": "258a98146d7b1fc4fd042f4c4462c9ac0b2f193510c2bf5e68563398d2b8ef68"
  },
  "kernelspec": {
   "display_name": "Python 3.9.12 ('rosettaprise')",
   "language": "python",
   "name": "python3"
  },
  "language_info": {
   "codemirror_mode": {
    "name": "ipython",
    "version": 3
   },
   "file_extension": ".py",
   "mimetype": "text/x-python",
   "name": "python",
   "nbconvert_exporter": "python",
   "pygments_lexer": "ipython3",
   "version": "3.9.12"
  },
  "orig_nbformat": 4
 },
 "nbformat": 4,
 "nbformat_minor": 2
}
