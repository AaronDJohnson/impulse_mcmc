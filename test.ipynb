{
 "cells": [
  {
   "cell_type": "code",
   "execution_count": 1,
   "metadata": {},
   "outputs": [],
   "source": [
    "import ray\n",
    "import numpy as np"
   ]
  },
  {
   "cell_type": "code",
   "execution_count": 2,
   "metadata": {},
   "outputs": [
    {
     "data": {
      "text/plain": [
       "RayContext(dashboard_url='', python_version='3.9.13', ray_version='1.13.0', ray_commit='e4ce38d001dbbe09cd21c497fedd03d692b2be3e', address_info={'node_ip_address': '127.0.0.1', 'raylet_ip_address': '127.0.0.1', 'redis_address': None, 'object_store_address': '/tmp/ray/session_2022-09-19_23-14-09_190176_48428/sockets/plasma_store', 'raylet_socket_name': '/tmp/ray/session_2022-09-19_23-14-09_190176_48428/sockets/raylet', 'webui_url': '', 'session_dir': '/tmp/ray/session_2022-09-19_23-14-09_190176_48428', 'metrics_export_port': 55004, 'gcs_address': '127.0.0.1:57945', 'address': '127.0.0.1:57945', 'node_id': '1f25b3c281a373247449d91f75e717856cae60ae4c0132cad70a6cd2'})"
      ]
     },
     "execution_count": 2,
     "metadata": {},
     "output_type": "execute_result"
    }
   ],
   "source": [
    "ray.init(num_cpus=4)"
   ]
  },
  {
   "cell_type": "code",
   "execution_count": 37,
   "metadata": {},
   "outputs": [],
   "source": [
    "@ray.remote\n",
    "class Collection():\n",
    "    def __init__(self):\n",
    "        self.empty_list = []\n",
    "    \n",
    "    def add(self, item):\n",
    "        self.empty_list.append(item)\n",
    "\n",
    "    def show(self):\n",
    "        return self.empty_list"
   ]
  },
  {
   "cell_type": "code",
   "execution_count": 38,
   "metadata": {},
   "outputs": [],
   "source": [
    "@ray.remote\n",
    "class PTSwap():\n",
    "    def __init__(self, thing1, thing2):\n",
    "        self.thing1 = thing1\n",
    "        self.thing2 = thing2\n",
    "\n",
    "    def show_things(self, collection):\n",
    "        a = ray.put(self.thing1)\n",
    "        collection.add.remote(a)\n",
    "        return self.thing1, self.thing2"
   ]
  },
  {
   "cell_type": "code",
   "execution_count": 39,
   "metadata": {},
   "outputs": [],
   "source": [
    "collection = Collection.remote()"
   ]
  },
  {
   "cell_type": "code",
   "execution_count": 40,
   "metadata": {},
   "outputs": [],
   "source": [
    "actor = PTSwap.remote(1, 2)\n",
    "actor2 = PTSwap.remote(3, 4)"
   ]
  },
  {
   "cell_type": "code",
   "execution_count": 41,
   "metadata": {},
   "outputs": [],
   "source": [
    "actors = [actor, actor2]"
   ]
  },
  {
   "cell_type": "code",
   "execution_count": 42,
   "metadata": {},
   "outputs": [
    {
     "name": "stdout",
     "output_type": "stream",
     "text": [
      "(1, 2)\n",
      "(3, 4)\n"
     ]
    }
   ],
   "source": [
    "for actor in actors:\n",
    "    res = ray.get(actor.show_things.remote(collection))\n",
    "    print(res)"
   ]
  },
  {
   "cell_type": "code",
   "execution_count": 45,
   "metadata": {},
   "outputs": [
    {
     "data": {
      "text/plain": [
       "[1, 3]"
      ]
     },
     "execution_count": 45,
     "metadata": {},
     "output_type": "execute_result"
    }
   ],
   "source": [
    "ray.get(collection.show.remote())"
   ]
  },
  {
   "cell_type": "code",
   "execution_count": 11,
   "metadata": {},
   "outputs": [],
   "source": [
    "__, __, a = ray.get(actor.show_things.remote())"
   ]
  },
  {
   "cell_type": "code",
   "execution_count": 12,
   "metadata": {},
   "outputs": [],
   "source": [
    "b = ray.get(a)"
   ]
  },
  {
   "cell_type": "code",
   "execution_count": 13,
   "metadata": {},
   "outputs": [
    {
     "data": {
      "text/plain": [
       "1"
      ]
     },
     "execution_count": 13,
     "metadata": {},
     "output_type": "execute_result"
    }
   ],
   "source": [
    "b"
   ]
  },
  {
   "cell_type": "code",
   "execution_count": 34,
   "metadata": {},
   "outputs": [
    {
     "ename": "AttributeError",
     "evalue": "'ActorHandle' object has no attribute 'thing1'",
     "output_type": "error",
     "traceback": [
      "\u001b[0;31m---------------------------------------------------------------------------\u001b[0m",
      "\u001b[0;31mAttributeError\u001b[0m                            Traceback (most recent call last)",
      "\u001b[1;32m/Users/aaron/Documents/GitHub/impulse_mcmc/test.ipynb Cell 5\u001b[0m in \u001b[0;36m<cell line: 1>\u001b[0;34m()\u001b[0m\n\u001b[0;32m----> <a href='vscode-notebook-cell:/Users/aaron/Documents/GitHub/impulse_mcmc/test.ipynb#X31sZmlsZQ%3D%3D?line=0'>1</a>\u001b[0m ray\u001b[39m.\u001b[39mput(actor\u001b[39m.\u001b[39;49mthing1)\n",
      "File \u001b[0;32m~/mambaforge/envs/rosettaprise/lib/python3.9/site-packages/ray/actor.py:1095\u001b[0m, in \u001b[0;36mActorHandle.__getattr__\u001b[0;34m(self, item)\u001b[0m\n\u001b[1;32m   1093\u001b[0m \u001b[39mdef\u001b[39;00m \u001b[39m__getattr__\u001b[39m(\u001b[39mself\u001b[39m, item):\n\u001b[1;32m   1094\u001b[0m     \u001b[39mif\u001b[39;00m \u001b[39mnot\u001b[39;00m \u001b[39mself\u001b[39m\u001b[39m.\u001b[39m_ray_is_cross_language:\n\u001b[0;32m-> 1095\u001b[0m         \u001b[39mraise\u001b[39;00m \u001b[39mAttributeError\u001b[39;00m(\n\u001b[1;32m   1096\u001b[0m             \u001b[39mf\u001b[39m\u001b[39m\"\u001b[39m\u001b[39m'\u001b[39m\u001b[39m{\u001b[39;00m\u001b[39mtype\u001b[39m(\u001b[39mself\u001b[39m)\u001b[39m.\u001b[39m\u001b[39m__name__\u001b[39m\u001b[39m}\u001b[39;00m\u001b[39m'\u001b[39m\u001b[39m object has \u001b[39m\u001b[39m\"\u001b[39m \u001b[39mf\u001b[39m\u001b[39m\"\u001b[39m\u001b[39mno attribute \u001b[39m\u001b[39m'\u001b[39m\u001b[39m{\u001b[39;00mitem\u001b[39m}\u001b[39;00m\u001b[39m'\u001b[39m\u001b[39m\"\u001b[39m\n\u001b[1;32m   1097\u001b[0m         )\n\u001b[1;32m   1098\u001b[0m     \u001b[39mif\u001b[39;00m item \u001b[39min\u001b[39;00m [\u001b[39m\"\u001b[39m\u001b[39m__ray_terminate__\u001b[39m\u001b[39m\"\u001b[39m, \u001b[39m\"\u001b[39m\u001b[39m__ray_checkpoint__\u001b[39m\u001b[39m\"\u001b[39m]:\n\u001b[1;32m   1100\u001b[0m         \u001b[39mclass\u001b[39;00m \u001b[39mFakeActorMethod\u001b[39;00m(\u001b[39mobject\u001b[39m):\n",
      "\u001b[0;31mAttributeError\u001b[0m: 'ActorHandle' object has no attribute 'thing1'"
     ]
    }
   ],
   "source": [
    "ray.put(actor.thing1)"
   ]
  },
  {
   "cell_type": "code",
   "execution_count": 30,
   "metadata": {},
   "outputs": [],
   "source": [
    "actor = PTSwap.remote(1, 2)"
   ]
  },
  {
   "cell_type": "code",
   "execution_count": 31,
   "metadata": {},
   "outputs": [
    {
     "data": {
      "text/plain": [
       "(1, 2)"
      ]
     },
     "execution_count": 31,
     "metadata": {},
     "output_type": "execute_result"
    }
   ],
   "source": [
    "ray.get(actor.show_things.remote())"
   ]
  },
  {
   "cell_type": "code",
   "execution_count": 26,
   "metadata": {},
   "outputs": [],
   "source": [
    "ray.shutdown()"
   ]
  },
  {
   "cell_type": "code",
   "execution_count": 7,
   "metadata": {},
   "outputs": [],
   "source": [
    "a = ray.put(1)"
   ]
  },
  {
   "cell_type": "code",
   "execution_count": 8,
   "metadata": {},
   "outputs": [],
   "source": [
    "b = ray.get(a)"
   ]
  },
  {
   "cell_type": "code",
   "execution_count": 9,
   "metadata": {},
   "outputs": [
    {
     "data": {
      "text/plain": [
       "1"
      ]
     },
     "execution_count": 9,
     "metadata": {},
     "output_type": "execute_result"
    }
   ],
   "source": [
    "b"
   ]
  },
  {
   "cell_type": "code",
   "execution_count": 10,
   "metadata": {},
   "outputs": [
    {
     "name": "stderr",
     "output_type": "stream",
     "text": [
      "2022-09-19 21:27:32,338\tWARNING collective.py:19 -- NCCL seems unavailable. Please install Cupy following the guide at: https://docs.cupy.dev/en/stable/install.html.\n"
     ]
    }
   ],
   "source": [
    "from ray.util import collective"
   ]
  },
  {
   "cell_type": "code",
   "execution_count": 14,
   "metadata": {},
   "outputs": [
    {
     "ename": "RuntimeError",
     "evalue": "The collective APIs shall be only used inside a Ray actor or task.",
     "output_type": "error",
     "traceback": [
      "\u001b[0;31m---------------------------------------------------------------------------\u001b[0m",
      "\u001b[0;31mRuntimeError\u001b[0m                              Traceback (most recent call last)",
      "\u001b[1;32m/Users/aaron/Documents/GitHub/impulse_mcmc/test.ipynb Cell 8\u001b[0m in \u001b[0;36m<cell line: 1>\u001b[0;34m()\u001b[0m\n\u001b[0;32m----> <a href='vscode-notebook-cell:/Users/aaron/Documents/GitHub/impulse_mcmc/test.ipynb#X10sZmlsZQ%3D%3D?line=0'>1</a>\u001b[0m b \u001b[39m=\u001b[39m collective\u001b[39m.\u001b[39;49mbroadcast(np\u001b[39m.\u001b[39;49marray([\u001b[39m1\u001b[39;49m, \u001b[39m2\u001b[39;49m, \u001b[39m3\u001b[39;49m]))\n",
      "File \u001b[0;32m~/mambaforge/envs/rosettaprise/lib/python3.9/site-packages/ray/util/collective/collective.py:384\u001b[0m, in \u001b[0;36mbroadcast\u001b[0;34m(tensor, src_rank, group_name)\u001b[0m\n\u001b[1;32m    373\u001b[0m \u001b[39m\"\"\"Broadcast the tensor from a source process to all others.\u001b[39;00m\n\u001b[1;32m    374\u001b[0m \n\u001b[1;32m    375\u001b[0m \u001b[39mArgs:\u001b[39;00m\n\u001b[0;32m   (...)\u001b[0m\n\u001b[1;32m    381\u001b[0m \u001b[39m    None\u001b[39;00m\n\u001b[1;32m    382\u001b[0m \u001b[39m\"\"\"\u001b[39;00m\n\u001b[1;32m    383\u001b[0m _check_single_tensor_input(tensor)\n\u001b[0;32m--> 384\u001b[0m g \u001b[39m=\u001b[39m _check_and_get_group(group_name)\n\u001b[1;32m    386\u001b[0m \u001b[39m# check src rank\u001b[39;00m\n\u001b[1;32m    387\u001b[0m _check_rank_valid(g, src_rank)\n",
      "File \u001b[0;32m~/mambaforge/envs/rosettaprise/lib/python3.9/site-packages/ray/util/collective/collective.py:672\u001b[0m, in \u001b[0;36m_check_and_get_group\u001b[0;34m(group_name)\u001b[0m\n\u001b[1;32m    670\u001b[0m \u001b[39mdef\u001b[39;00m \u001b[39m_check_and_get_group\u001b[39m(group_name):\n\u001b[1;32m    671\u001b[0m     \u001b[39m\"\"\"Check the existence and return the group handle.\"\"\"\u001b[39;00m\n\u001b[0;32m--> 672\u001b[0m     _check_inside_actor()\n\u001b[1;32m    673\u001b[0m     \u001b[39mglobal\u001b[39;00m _group_mgr\n\u001b[1;32m    674\u001b[0m     \u001b[39mif\u001b[39;00m \u001b[39mnot\u001b[39;00m is_group_initialized(group_name):\n\u001b[1;32m    675\u001b[0m         \u001b[39m# try loading from remote info store\u001b[39;00m\n",
      "File \u001b[0;32m~/mambaforge/envs/rosettaprise/lib/python3.9/site-packages/ray/util/collective/collective.py:739\u001b[0m, in \u001b[0;36m_check_inside_actor\u001b[0;34m()\u001b[0m\n\u001b[1;32m    737\u001b[0m     \u001b[39mreturn\u001b[39;00m\n\u001b[1;32m    738\u001b[0m \u001b[39melse\u001b[39;00m:\n\u001b[0;32m--> 739\u001b[0m     \u001b[39mraise\u001b[39;00m \u001b[39mRuntimeError\u001b[39;00m(\n\u001b[1;32m    740\u001b[0m         \u001b[39m\"\u001b[39m\u001b[39mThe collective APIs shall be only used inside a Ray actor or task.\u001b[39m\u001b[39m\"\u001b[39m\n\u001b[1;32m    741\u001b[0m     )\n",
      "\u001b[0;31mRuntimeError\u001b[0m: The collective APIs shall be only used inside a Ray actor or task."
     ]
    }
   ],
   "source": [
    "b = collective.broadcast(np.array([1, 2, 3]))"
   ]
  },
  {
   "cell_type": "code",
   "execution_count": 15,
   "metadata": {},
   "outputs": [],
   "source": [
    "ray.shutdown()"
   ]
  },
  {
   "cell_type": "code",
   "execution_count": null,
   "metadata": {},
   "outputs": [],
   "source": []
  }
 ],
 "metadata": {
  "kernelspec": {
   "display_name": "Python 3.9.13 ('rosettaprise')",
   "language": "python",
   "name": "python3"
  },
  "language_info": {
   "codemirror_mode": {
    "name": "ipython",
    "version": 3
   },
   "file_extension": ".py",
   "mimetype": "text/x-python",
   "name": "python",
   "nbconvert_exporter": "python",
   "pygments_lexer": "ipython3",
   "version": "3.9.13"
  },
  "orig_nbformat": 4,
  "vscode": {
   "interpreter": {
    "hash": "258a98146d7b1fc4fd042f4c4462c9ac0b2f193510c2bf5e68563398d2b8ef68"
   }
  }
 },
 "nbformat": 4,
 "nbformat_minor": 2
}
