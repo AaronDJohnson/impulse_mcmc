{
 "cells": [
  {
   "cell_type": "code",
   "execution_count": 23,
   "metadata": {},
   "outputs": [],
   "source": [
    "x = zeros(Float64, 1000)\n",
    "sin_data = zeros(Float64, 1000)\n",
    "\n",
    "open(\"data.txt\", \"r\") do f\n",
    "    data = readlines(f)\n",
    "    for ii=1:length(data)\n",
    "        x[ii] = parse(Float64, rsplit(data[ii])[1])\n",
    "        sin_data[ii] = parse(Float64, rsplit(data[ii])[2])\n",
    "    end\n",
    "end"
   ]
  },
  {
   "cell_type": "code",
   "execution_count": 25,
   "metadata": {},
   "outputs": [
    {
     "data": {
      "text/plain": [
       "1000-element Vector{Float64}:\n",
       "  0.9958645828272967\n",
       "  1.1078052662312647\n",
       "  1.580917082838162\n",
       "  0.524503215105478\n",
       "  1.519289142864566\n",
       "  0.28052428511571426\n",
       "  2.7382366358887684\n",
       "  0.9084999284803751\n",
       " -0.7713372646108887\n",
       " -0.210212362997659\n",
       "  ⋮\n",
       " -1.910924317873305\n",
       " -2.1953406997822777\n",
       " -0.3683400707090545\n",
       "  0.17536268723922688\n",
       " -0.4527294901353906\n",
       " -0.7810920558208976\n",
       "  0.05147972615493368\n",
       " -1.4247885585961653\n",
       " -0.30286082830848526"
      ]
     },
     "metadata": {},
     "output_type": "display_data"
    }
   ],
   "source": [
    "sin_data"
   ]
  },
  {
   "cell_type": "code",
   "execution_count": 10,
   "metadata": {},
   "outputs": [
    {
     "ename": "ErrorException",
     "evalue": "type IOStream has no field readline",
     "output_type": "error",
     "traceback": [
      "type IOStream has no field readline\n",
      "\n",
      "Stacktrace:\n",
      " [1] getproperty(x::IOStream, f::Symbol)\n",
      "   @ Base ./Base.jl:37\n",
      " [2] top-level scope\n",
      "   @ ~/Documents/GitHub/impulse_mcmc/examples/grid_approx.ipynb:1"
     ]
    }
   ],
   "source": [
    "f.readline()"
   ]
  },
  {
   "cell_type": "code",
   "execution_count": 7,
   "metadata": {},
   "outputs": [
    {
     "data": {
      "text/plain": [
       "CSV.Row: (var\"0.000000000000000000e+00\" = 0.012578949563923095, var\"9.958645828272967293e-01\" = 1.580917082838162)"
      ]
     },
     "metadata": {},
     "output_type": "display_data"
    }
   ],
   "source": [
    "f[2]"
   ]
  },
  {
   "cell_type": "code",
   "execution_count": 3,
   "metadata": {},
   "outputs": [
    {
     "ename": "UndefVarError",
     "evalue": "UndefVarError: `load` not defined",
     "output_type": "error",
     "traceback": [
      "UndefVarError: `load` not defined\n",
      "\n",
      "Stacktrace:\n",
      " [1] top-level scope\n",
      "   @ ~/Documents/GitHub/impulse_mcmc/examples/grid_approx.ipynb:1"
     ]
    }
   ],
   "source": [
    "load(\"data.txt\", \"r\")"
   ]
  },
  {
   "cell_type": "code",
   "execution_count": null,
   "metadata": {},
   "outputs": [],
   "source": []
  }
 ],
 "metadata": {
  "kernelspec": {
   "display_name": "Julia 1.9.3",
   "language": "julia",
   "name": "julia-1.9"
  },
  "language_info": {
   "file_extension": ".jl",
   "mimetype": "application/julia",
   "name": "julia",
   "version": "1.9.3"
  }
 },
 "nbformat": 4,
 "nbformat_minor": 2
}
