{
 "cells": [
  {
   "cell_type": "markdown",
   "metadata": {},
   "source": [
    "## Sample uniform priors to check jump proposals!"
   ]
  },
  {
   "cell_type": "code",
   "execution_count": 1,
   "metadata": {},
   "outputs": [
    {
     "name": "stdout",
     "output_type": "stream",
     "text": [
      "Do not have acor package\n"
     ]
    }
   ],
   "source": [
    "%load_ext autoreload\n",
    "%autoreload 2\n",
    "import pickle, json\n",
    "from enterprise_extensions.models import model_2a\n",
    "# from enterprise.signals.parameter import sample\n",
    "import numpy as np\n",
    "from impulse.base import PTSampler, Sampler\n",
    "from impulse.pta_utils import initial_sample\n",
    "import matplotlib.pyplot as plt\n",
    "from emcee.autocorr import integrated_time\n",
    "\n",
    "from impulse.pta_utils import setup_sampler\n",
    "\n",
    "from PTMCMCSampler.PTMCMCSampler import PTSampler as ptmcmc"
   ]
  },
  {
   "cell_type": "code",
   "execution_count": 2,
   "metadata": {},
   "outputs": [
    {
     "name": "stderr",
     "output_type": "stream",
     "text": [
      "WARNING: AstropyDeprecationWarning: The private astropy._erfa module has been made into its own package, pyerfa, which is a dependency of astropy and can be imported directly using \"import erfa\" [astropy._erfa]\n"
     ]
    }
   ],
   "source": [
    "with open('/Users/aaron/Documents/GitHub/12p5yr_stochastic_analysis/tutorials/data/psrs.pkl', 'rb') as f:\n",
    "    psrs = pickle.load(f)\n",
    "\n",
    "with open('/Users/aaron/Documents/GitHub/12p5yr_stochastic_analysis/tutorials/data/channelized_12p5yr_v3_full_noisedict.json', 'r') as f:\n",
    "    params = json.load(f)"
   ]
  },
  {
   "cell_type": "code",
   "execution_count": 18,
   "metadata": {},
   "outputs": [],
   "source": [
    "pta = model_2a([psrs[0]], noisedict=params, gamma_common=4.33, n_gwbfreqs=5, tm_marg=True, tnequad=True, tm_svd=True)"
   ]
  },
  {
   "cell_type": "code",
   "execution_count": 19,
   "metadata": {},
   "outputs": [],
   "source": [
    "ntemps = 1\n",
    "nchains = None\n",
    "ndim, x0 = initial_sample(pta, ntemps, nchains)"
   ]
  },
  {
   "cell_type": "code",
   "execution_count": 21,
   "metadata": {},
   "outputs": [
    {
     "name": "stderr",
     "output_type": "stream",
     "text": [
      "2022-07-25 19:45:53.636 | DEBUG    | impulse.proposals:__init__:48 - groups: [[0, 1, 2], [1, 0], [2]]\n",
      "2022-07-25 19:45:53.636 | DEBUG    | impulse.batch_updates:svd_groups:49 - [[0.01 0.   0.  ]\n",
      " [0.   0.01 0.  ]\n",
      " [0.   0.   0.01]]\n"
     ]
    },
    {
     "ename": "ValueError",
     "evalue": "could not broadcast input array from shape (3,3) into shape (1,)",
     "output_type": "error",
     "traceback": [
      "\u001b[0;31m---------------------------------------------------------------------------\u001b[0m",
      "\u001b[0;31mValueError\u001b[0m                                Traceback (most recent call last)",
      "\u001b[1;32m/Users/aaron/Documents/GitHub/impulse_mcmc/examples/pta_prior_test.ipynb Cell 6\u001b[0m in \u001b[0;36m<cell line: 1>\u001b[0;34m()\u001b[0m\n\u001b[0;32m----> <a href='vscode-notebook-cell:/Users/aaron/Documents/GitHub/impulse_mcmc/examples/pta_prior_test.ipynb#ch0000034?line=0'>1</a>\u001b[0m sampler \u001b[39m=\u001b[39m setup_sampler(pta, ret_chain\u001b[39m=\u001b[39;49m\u001b[39mTrue\u001b[39;49;00m, prior_sample\u001b[39m=\u001b[39;49m\u001b[39mTrue\u001b[39;49;00m, resume\u001b[39m=\u001b[39;49m\u001b[39mFalse\u001b[39;49;00m, num_samples\u001b[39m=\u001b[39;49m\u001b[39m5e6\u001b[39;49m, ntemps\u001b[39m=\u001b[39;49m\u001b[39m4\u001b[39;49m, outdir\u001b[39m=\u001b[39;49m\u001b[39m'\u001b[39;49m\u001b[39m/pta_prior_test\u001b[39;49m\u001b[39m'\u001b[39;49m)\n",
      "File \u001b[0;32m~/Documents/GitHub/impulse_mcmc/impulse/pta_utils.py:1090\u001b[0m, in \u001b[0;36msetup_sampler\u001b[0;34m(pta, outdir, empirical_distr, groups, human, save_ext_dists, ntemps, ncores, num_samples, ret_chain, prior_sample, resume)\u001b[0m\n\u001b[1;32m   1087\u001b[0m     groups \u001b[39m=\u001b[39m get_parameter_groups(pta)\n\u001b[1;32m   1089\u001b[0m \u001b[39mif\u001b[39;00m prior_sample:\n\u001b[0;32m-> 1090\u001b[0m     sampler \u001b[39m=\u001b[39m PTSampler(pta\u001b[39m.\u001b[39;49mget_lnprior, \u001b[39mlambda\u001b[39;49;00m x:\u001b[39m0\u001b[39;49m, x0, num_samples\u001b[39m=\u001b[39;49mnum_samples, groups\u001b[39m=\u001b[39;49mgroups,\n\u001b[1;32m   1091\u001b[0m                     ntemps\u001b[39m=\u001b[39;49mntemps, ncores\u001b[39m=\u001b[39;49mncores, ret_chain\u001b[39m=\u001b[39;49mret_chain, resume\u001b[39m=\u001b[39;49mresume, cov\u001b[39m=\u001b[39;49mcov)\n\u001b[1;32m   1092\u001b[0m \u001b[39melse\u001b[39;00m:\n\u001b[1;32m   1093\u001b[0m     sampler \u001b[39m=\u001b[39m PTSampler(pta\u001b[39m.\u001b[39mget_lnlikelihood, pta\u001b[39m.\u001b[39mget_lnprior, x0, num_samples\u001b[39m=\u001b[39mnum_samples, groups\u001b[39m=\u001b[39mgroups,\n\u001b[1;32m   1094\u001b[0m                         ntemps\u001b[39m=\u001b[39mntemps, ncores\u001b[39m=\u001b[39mncores, ret_chain\u001b[39m=\u001b[39mret_chain, resume\u001b[39m=\u001b[39mresume, cov\u001b[39m=\u001b[39mcov)\n",
      "File \u001b[0;32m~/Documents/GitHub/impulse_mcmc/impulse/base.py:97\u001b[0m, in \u001b[0;36m__init__\u001b[0;34m(self, lnlike, lnprior, x0, num_samples, buf_size, ntemps, ncores, tmin, tmax, tstep, swap_count, ladder, tinf, adapt, thin, amweight, scamweight, deweight, adapt_t0, adapt_nu, loop_iterations, groups, cov, outdir, temp_dir, ret_chain, resume)\u001b[0m\n\u001b[1;32m     95\u001b[0m     self._pt_resume()\n\u001b[1;32m     96\u001b[0m elif not resume:\n\u001b[0;32m---> 97\u001b[0m     pass\n\u001b[1;32m     98\u001b[0m else:\n\u001b[1;32m     99\u001b[0m     logger.exception('One or more chain files were not found. Starting from scratch.')\n",
      "File \u001b[0;32m~/Documents/GitHub/impulse_mcmc/impulse/base.py:162\u001b[0m, in \u001b[0;36m_init_pt_proposals\u001b[0;34m(self)\u001b[0m\n\u001b[1;32m    160\u001b[0m if self.ret_chain:\n\u001b[1;32m    161\u001b[0m     self.full_chain = np.zeros((self.num_samples, self.ndim, self.ntemps))\n\u001b[0;32m--> 162\u001b[0m self.chain = np.zeros((self.loop_iterations, self.ndim, self.ntemps))\n\u001b[1;32m    163\u001b[0m self.lnlike_arr = np.zeros((self.loop_iterations, self.ntemps))\n\u001b[1;32m    164\u001b[0m self.lnprob_arr = np.zeros((self.loop_iterations, self.ntemps))\n",
      "File \u001b[0;32m~/Documents/GitHub/impulse_mcmc/impulse/proposals.py:51\u001b[0m, in \u001b[0;36mJumpProposals.__init__\u001b[0;34m(self, ndim, buf_size, groups, cov, mean)\u001b[0m\n\u001b[1;32m     48\u001b[0m logger\u001b[39m.\u001b[39mdebug(\u001b[39m'\u001b[39m\u001b[39mgroups: \u001b[39m\u001b[39m{}\u001b[39;00m\u001b[39m'\u001b[39m\u001b[39m.\u001b[39mformat(\u001b[39mself\u001b[39m\u001b[39m.\u001b[39mgroups))\n\u001b[1;32m     50\u001b[0m \u001b[39m# do SVD on param groups\u001b[39;00m\n\u001b[0;32m---> 51\u001b[0m \u001b[39mself\u001b[39m\u001b[39m.\u001b[39mU, \u001b[39mself\u001b[39m\u001b[39m.\u001b[39mS \u001b[39m=\u001b[39m svd_groups(\u001b[39mself\u001b[39;49m\u001b[39m.\u001b[39;49mU, \u001b[39mself\u001b[39;49m\u001b[39m.\u001b[39;49mS, \u001b[39mself\u001b[39;49m\u001b[39m.\u001b[39;49mgroups, \u001b[39mself\u001b[39;49m\u001b[39m.\u001b[39;49mcov)\n\u001b[1;32m     53\u001b[0m \u001b[39mself\u001b[39m\u001b[39m.\u001b[39mmean \u001b[39m=\u001b[39m mean\n\u001b[1;32m     54\u001b[0m \u001b[39mif\u001b[39;00m mean \u001b[39mis\u001b[39;00m \u001b[39mNone\u001b[39;00m:\n",
      "File \u001b[0;32m~/Documents/GitHub/impulse_mcmc/impulse/batch_updates.py:50\u001b[0m, in \u001b[0;36msvd_groups\u001b[0;34m(U, S, groups, cov)\u001b[0m\n\u001b[1;32m     47\u001b[0m             covgroup[ii, jj] \u001b[39m=\u001b[39m cov[group[ii], group[jj]]\n\u001b[1;32m     49\u001b[0m     U[ct], S[ct], __ \u001b[39m=\u001b[39m np\u001b[39m.\u001b[39mlinalg\u001b[39m.\u001b[39msvd(covgroup)\n\u001b[0;32m---> 50\u001b[0m \u001b[39mreturn\u001b[39;00m U, S\n",
      "\u001b[0;31mValueError\u001b[0m: could not broadcast input array from shape (3,3) into shape (1,)"
     ]
    }
   ],
   "source": [
    "sampler = setup_sampler(pta, ret_chain=True, prior_sample=True, resume=False, num_samples=5e6, ntemps=4, outdir='/pta_prior_test')"
   ]
  },
  {
   "cell_type": "code",
   "execution_count": 22,
   "metadata": {},
   "outputs": [
    {
     "name": "stderr",
     "output_type": "stream",
     "text": [
      "  0%|          | 0/5000 [00:02<?, ?it/s]\n"
     ]
    },
    {
     "ename": "KeyboardInterrupt",
     "evalue": "",
     "output_type": "error",
     "traceback": [
      "\u001b[0;31m---------------------------------------------------------------------------\u001b[0m",
      "\u001b[0;31mKeyboardInterrupt\u001b[0m                         Traceback (most recent call last)",
      "\u001b[1;32m/Users/aaron/Documents/GitHub/impulse_mcmc/examples/pta_prior_test.ipynb Cell 7\u001b[0m in \u001b[0;36m<cell line: 1>\u001b[0;34m()\u001b[0m\n\u001b[0;32m----> <a href='vscode-notebook-cell:/Users/aaron/Documents/GitHub/impulse_mcmc/examples/pta_prior_test.ipynb#ch0000044?line=0'>1</a>\u001b[0m chain \u001b[39m=\u001b[39m sampler\u001b[39m.\u001b[39;49msample()\n",
      "File \u001b[0;32m~/Documents/GitHub/impulse_mcmc/impulse/base.py:251\u001b[0m, in \u001b[0;36msample\u001b[0;34m(self)\u001b[0m\n\u001b[1;32m    249\u001b[0m         self._mh_sampler_step()\n\u001b[1;32m    250\u001b[0m \n\u001b[0;32m--> 251\u001b[0m ray.shutdown()\n\u001b[1;32m    252\u001b[0m if self.ret_chain:\n\u001b[1;32m    253\u001b[0m     return self.full_chain\n",
      "File \u001b[0;32m~/Documents/GitHub/impulse_mcmc/impulse/base.py:207\u001b[0m, in \u001b[0;36m_ptstep\u001b[0;34m(self)\u001b[0m\n\u001b[1;32m    205\u001b[0m if self.adapt:\n\u001b[1;32m    206\u001b[0m     self.ptswap.adapt_ladder()\n\u001b[0;32m--> 207\u001b[0m self.saves[0].save_swap_data(self.ptswap)\n\u001b[1;32m    208\u001b[0m [self.samplers[ii].set_x0(self.chain[swap_idx, :, ii], self.logprob_arr[swap_idx, ii], temp=self.ptswap.ladder[ii]) for ii in range(self.ntemps)]\n\u001b[1;32m    209\u001b[0m \n",
      "File \u001b[0;32m~/Documents/GitHub/impulse_mcmc/impulse/base.py:207\u001b[0m, in \u001b[0;36m<lambda>\u001b[0;34m(sampler)\u001b[0m\n\u001b[1;32m    205\u001b[0m if self.adapt:\n\u001b[1;32m    206\u001b[0m     self.ptswap.adapt_ladder()\n\u001b[0;32m--> 207\u001b[0m self.saves[0].save_swap_data(self.ptswap)\n\u001b[1;32m    208\u001b[0m [self.samplers[ii].set_x0(self.chain[swap_idx, :, ii], self.logprob_arr[swap_idx, ii], temp=self.ptswap.ladder[ii]) for ii in range(self.ntemps)]\n\u001b[1;32m    209\u001b[0m \n",
      "File \u001b[0;32m~/Documents/GitHub/impulse_mcmc/impulse/mhsampler.py:62\u001b[0m, in \u001b[0;36mMHSampler.sample\u001b[0;34m(self)\u001b[0m\n\u001b[1;32m     60\u001b[0m     lnlike_star \u001b[39m=\u001b[39m \u001b[39mself\u001b[39m\u001b[39m.\u001b[39mlnlike[ii \u001b[39m-\u001b[39m \u001b[39m1\u001b[39m]\n\u001b[1;32m     61\u001b[0m \u001b[39melse\u001b[39;00m:\n\u001b[0;32m---> 62\u001b[0m     lnlike_star \u001b[39m=\u001b[39m \u001b[39mself\u001b[39;49m\u001b[39m.\u001b[39;49mlnlike_fn(x_star, \u001b[39m*\u001b[39;49m\u001b[39m*\u001b[39;49m\u001b[39mself\u001b[39;49m\u001b[39m.\u001b[39;49mlnlike_kwargs)\n\u001b[1;32m     63\u001b[0m     lnprob_star \u001b[39m=\u001b[39m \u001b[39m1\u001b[39m \u001b[39m/\u001b[39m \u001b[39mself\u001b[39m\u001b[39m.\u001b[39mtemp \u001b[39m*\u001b[39m lnlike_star \u001b[39m+\u001b[39m lnprior_star\n\u001b[1;32m     65\u001b[0m hastings_ratio \u001b[39m=\u001b[39m lnprob_star \u001b[39m-\u001b[39m \u001b[39mself\u001b[39m\u001b[39m.\u001b[39mlnprob0 \u001b[39m+\u001b[39m factor\n",
      "File \u001b[0;32m~/Documents/GitHub/enterprise/enterprise/signals/signal_base.py:676\u001b[0m, in \u001b[0;36mPTA.get_lnprior\u001b[0;34m(self, params)\u001b[0m\n\u001b[1;32m    672\u001b[0m \u001b[39mdef\u001b[39;00m \u001b[39mget_lnprior\u001b[39m(\u001b[39mself\u001b[39m, params):\n\u001b[1;32m    673\u001b[0m     \u001b[39m# map parameter vector if needed\u001b[39;00m\n\u001b[1;32m    674\u001b[0m     params \u001b[39m=\u001b[39m params \u001b[39mif\u001b[39;00m \u001b[39misinstance\u001b[39m(params, \u001b[39mdict\u001b[39m) \u001b[39melse\u001b[39;00m \u001b[39mself\u001b[39m\u001b[39m.\u001b[39mmap_params(params)\n\u001b[0;32m--> 676\u001b[0m     \u001b[39mreturn\u001b[39;00m np\u001b[39m.\u001b[39msum([p\u001b[39m.\u001b[39mget_logpdf(params\u001b[39m=\u001b[39mparams) \u001b[39mfor\u001b[39;00m p \u001b[39min\u001b[39;00m \u001b[39mself\u001b[39;49m\u001b[39m.\u001b[39;49mparams])\n",
      "File \u001b[0;32m~/Documents/GitHub/enterprise/enterprise/signals/signal_base.py:278\u001b[0m, in \u001b[0;36mPTA.params\u001b[0;34m(self)\u001b[0m\n\u001b[1;32m    275\u001b[0m ret \u001b[39m=\u001b[39m \u001b[39mset\u001b[39m()\n\u001b[1;32m    277\u001b[0m \u001b[39mfor\u001b[39;00m signalcollection \u001b[39min\u001b[39;00m \u001b[39mself\u001b[39m\u001b[39m.\u001b[39m_signalcollections:\n\u001b[0;32m--> 278\u001b[0m     \u001b[39mfor\u001b[39;00m param \u001b[39min\u001b[39;00m signalcollection\u001b[39m.\u001b[39;49mparams:\n\u001b[1;32m    279\u001b[0m         \u001b[39mfor\u001b[39;00m par \u001b[39min\u001b[39;00m param\u001b[39m.\u001b[39mparams:\n\u001b[1;32m    280\u001b[0m             ret\u001b[39m.\u001b[39madd(par)\n",
      "File \u001b[0;32m~/Documents/GitHub/enterprise/enterprise/signals/signal_base.py:805\u001b[0m, in \u001b[0;36mSignalCollection.<locals>.SignalCollection.params\u001b[0;34m(self)\u001b[0m\n\u001b[1;32m    803\u001b[0m \u001b[39m@property\u001b[39m\n\u001b[1;32m    804\u001b[0m \u001b[39mdef\u001b[39;00m \u001b[39mparams\u001b[39m(\u001b[39mself\u001b[39m):\n\u001b[0;32m--> 805\u001b[0m     \u001b[39mreturn\u001b[39;00m \u001b[39msorted\u001b[39;49m({param \u001b[39mfor\u001b[39;49;00m signal \u001b[39min\u001b[39;49;00m \u001b[39mself\u001b[39;49m\u001b[39m.\u001b[39;49m_signals \u001b[39mfor\u001b[39;49;00m param \u001b[39min\u001b[39;49;00m signal\u001b[39m.\u001b[39;49mparams}, key\u001b[39m=\u001b[39;49m\u001b[39mlambda\u001b[39;49;00m par: par\u001b[39m.\u001b[39;49mname)\n",
      "File \u001b[0;32m~/Documents/GitHub/enterprise/enterprise/signals/signal_base.py:805\u001b[0m, in \u001b[0;36mSignalCollection.<locals>.SignalCollection.params.<locals>.<lambda>\u001b[0;34m(par)\u001b[0m\n\u001b[1;32m    803\u001b[0m \u001b[39m@property\u001b[39m\n\u001b[1;32m    804\u001b[0m \u001b[39mdef\u001b[39;00m \u001b[39mparams\u001b[39m(\u001b[39mself\u001b[39m):\n\u001b[0;32m--> 805\u001b[0m     \u001b[39mreturn\u001b[39;00m \u001b[39msorted\u001b[39m({param \u001b[39mfor\u001b[39;00m signal \u001b[39min\u001b[39;00m \u001b[39mself\u001b[39m\u001b[39m.\u001b[39m_signals \u001b[39mfor\u001b[39;00m param \u001b[39min\u001b[39;00m signal\u001b[39m.\u001b[39mparams}, key\u001b[39m=\u001b[39m\u001b[39mlambda\u001b[39;00m par: par\u001b[39m.\u001b[39;49mname)\n",
      "\u001b[0;31mKeyboardInterrupt\u001b[0m: "
     ]
    }
   ],
   "source": [
    "chain = sampler.sample()"
   ]
  },
  {
   "cell_type": "code",
   "execution_count": 178,
   "metadata": {},
   "outputs": [
    {
     "data": {
      "image/png": "[encoded data removed]",
      "text/plain": [
       "<Figure size 432x288 with 1 Axes>"
      ]
     },
     "metadata": {
      "needs_background": "light"
     },
     "output_type": "display_data"
    }
   ],
   "source": [
    "plt.plot(sampler.full_chain[200000::, 5])\n",
    "plt.show()"
   ]
  },
  {
   "cell_type": "code",
   "execution_count": 211,
   "metadata": {},
   "outputs": [
    {
     "data": {
      "text/plain": [
       "array([20.82842691])"
      ]
     },
     "execution_count": 211,
     "metadata": {},
     "output_type": "execute_result"
    }
   ],
   "source": [
    "integrated_time(sampler.full_chain[200000::10, 89, 0], quiet=True)"
   ]
  },
  {
   "cell_type": "code",
   "execution_count": 213,
   "metadata": {},
   "outputs": [
    {
     "data": {
      "image/png": "[encoded data removed]",
      "text/plain": [
       "<Figure size 432x288 with 1 Axes>"
      ]
     },
     "metadata": {
      "needs_background": "light"
     },
     "output_type": "display_data"
    }
   ],
   "source": [
    "plt.hist(sampler.full_chain[200000::10, 0, 0], bins=30)\n",
    "plt.show()"
   ]
  },
  {
   "cell_type": "code",
   "execution_count": 72,
   "metadata": {},
   "outputs": [
    {
     "name": "stderr",
     "output_type": "stream",
     "text": [
      "/Users/aaron/Documents/GitHub/enterprise/enterprise/signals/parameter.py:62: RuntimeWarning: divide by zero encountered in log\n",
      "  logpdf = np.log(self.prior(value, **kwargs))\n"
     ]
    },
    {
     "name": "stdout",
     "output_type": "stream",
     "text": [
      "Finished 1.00 percent in 9.859322 s Acceptance rate = 0.688856Adding DE jump with weight 50\n",
      "Finished 99.90 percent in 1046.863978 s Acceptance rate = 0.238663\n",
      "Run Complete\n"
     ]
    }
   ],
   "source": [
    "x0 = np.hstack([p.sample() for p in pta.params])\n",
    "ndim = len(x0)\n",
    "cov = np.diag(np.ones(ndim))\n",
    "\n",
    "outDir = './chains/sngl/'\n",
    "\n",
    "sampler2 = ptmcmc(ndim, pta.get_lnprior, lambda x: 0, cov,\n",
    "                 outDir=outDir, resume=False)\n",
    "\n",
    "N = int(5e6)\n",
    "x0 = np.hstack([p.sample() for p in pta.params])\n",
    "sampler2.sample(x0, N, SCAMweight=30, AMweight=15, DEweight=50)"
   ]
  },
  {
   "cell_type": "code",
   "execution_count": 82,
   "metadata": {},
   "outputs": [
    {
     "name": "stderr",
     "output_type": "stream",
     "text": [
      "The chain is shorter than 50 times the integrated autocorrelation time for 1 parameter(s). Use this estimate with caution and run a longer chain!\n",
      "N/50 = 1598;\n",
      "tau: [2293.68965311]\n"
     ]
    },
    {
     "data": {
      "text/plain": [
       "array([2293.68965311])"
      ]
     },
     "execution_count": 82,
     "metadata": {},
     "output_type": "execute_result"
    }
   ],
   "source": [
    "integrated_time(chain2[20000:, 1], quiet=True)"
   ]
  },
  {
   "cell_type": "code",
   "execution_count": 73,
   "metadata": {},
   "outputs": [
    {
     "data": {
      "image/png": "[encoded data removed]",
      "text/plain": [
       "<Figure size 432x288 with 1 Axes>"
      ]
     },
     "metadata": {
      "needs_background": "light"
     },
     "output_type": "display_data"
    }
   ],
   "source": [
    "plt.hist(chain2[::, 2], bins=30)\n",
    "plt.show()"
   ]
  },
  {
   "cell_type": "code",
   "execution_count": 53,
   "metadata": {},
   "outputs": [],
   "source": [
    "outDir = './chains/sngl/'\n",
    "with open(outDir + 'chain_1.txt', 'r') as f:\n",
    "    chain2 = np.loadtxt(f)"
   ]
  },
  {
   "cell_type": "code",
   "execution_count": 54,
   "metadata": {},
   "outputs": [
    {
     "name": "stderr",
     "output_type": "stream",
     "text": [
      "The chain is shorter than 50 times the integrated autocorrelation time for 1 parameter(s). Use this estimate with caution and run a longer chain!\n",
      "N/50 = 1998;\n",
      "tau: [2043.73200205]\n"
     ]
    },
    {
     "data": {
      "text/plain": [
       "array([2043.73200205])"
      ]
     },
     "execution_count": 54,
     "metadata": {},
     "output_type": "execute_result"
    }
   ],
   "source": [
    "integrated_time(chain2[:, 1], quiet=True)"
   ]
  },
  {
   "cell_type": "code",
   "execution_count": 40,
   "metadata": {},
   "outputs": [
    {
     "data": {
      "image/png": "[encoded data removed]",
      "text/plain": [
       "<Figure size 432x288 with 1 Axes>"
      ]
     },
     "metadata": {
      "needs_background": "light"
     },
     "output_type": "display_data"
    }
   ],
   "source": [
    "counts, bins, __ = plt.hist(chain[::22, 0], bins=100, density=True, alpha=0.5)\n",
    "mean = np.mean(counts)\n",
    "sigma = np.std(counts)\n",
    "plt.axhline(mean, color='k')\n",
    "for i in range(1, 4):\n",
    "    plt.axhline(mean + i * sigma, color='orange')\n",
    "    plt.axhline(mean - i * sigma, color='orange')\n",
    "plt.ylim([mean - 5 * sigma, mean + 5 * sigma])\n",
    "plt.show()"
   ]
  },
  {
   "cell_type": "code",
   "execution_count": 9,
   "metadata": {},
   "outputs": [],
   "source": [
    "import pickle, json\n",
    "from enterprise_extensions.models import model_2a\n",
    "from enterprise.signals.parameter import sample as sample_params"
   ]
  },
  {
   "cell_type": "code",
   "execution_count": 10,
   "metadata": {},
   "outputs": [
    {
     "ename": "FileNotFoundError",
     "evalue": "[Errno 2] No such file or directory: '/Users/aaron/Documents/GitHub/12p5yr_stochastic_analysis/data/psrs.pkl'",
     "output_type": "error",
     "traceback": [
      "\u001b[0;31m---------------------------------------------------------------------------\u001b[0m",
      "\u001b[0;31mFileNotFoundError\u001b[0m                         Traceback (most recent call last)",
      "\u001b[1;32m/Users/aaron/Documents/GitHub/impulse_mcmc/prior_test.ipynb Cell 11'\u001b[0m in \u001b[0;36m<cell line: 1>\u001b[0;34m()\u001b[0m\n\u001b[0;32m----> <a href='vscode-notebook-cell:/Users/aaron/Documents/GitHub/impulse_mcmc/prior_test.ipynb#ch0000010?line=0'>1</a>\u001b[0m \u001b[39mwith\u001b[39;00m \u001b[39mopen\u001b[39;49m(\u001b[39m'\u001b[39;49m\u001b[39m/Users/aaron/Documents/GitHub/12p5yr_stochastic_analysis/data/psrs.pkl\u001b[39;49m\u001b[39m'\u001b[39;49m, \u001b[39m'\u001b[39;49m\u001b[39mrb\u001b[39;49m\u001b[39m'\u001b[39;49m) \u001b[39mas\u001b[39;00m f:\n\u001b[1;32m      <a href='vscode-notebook-cell:/Users/aaron/Documents/GitHub/impulse_mcmc/prior_test.ipynb#ch0000010?line=1'>2</a>\u001b[0m     psrs \u001b[39m=\u001b[39m pickle\u001b[39m.\u001b[39mload(f)\n\u001b[1;32m      <a href='vscode-notebook-cell:/Users/aaron/Documents/GitHub/impulse_mcmc/prior_test.ipynb#ch0000010?line=3'>4</a>\u001b[0m \u001b[39mwith\u001b[39;00m \u001b[39mopen\u001b[39m(\u001b[39m'\u001b[39m\u001b[39m/Users/aaron/Documents/GitHub/12p5yr_stochastic_analysis/data/channelized_12p5yr_v3_full_noisedict.json\u001b[39m\u001b[39m'\u001b[39m, \u001b[39m'\u001b[39m\u001b[39mr\u001b[39m\u001b[39m'\u001b[39m) \u001b[39mas\u001b[39;00m f:\n",
      "\u001b[0;31mFileNotFoundError\u001b[0m: [Errno 2] No such file or directory: '/Users/aaron/Documents/GitHub/12p5yr_stochastic_analysis/data/psrs.pkl'"
     ]
    }
   ],
   "source": [
    "with open('/Users/aaron/Documents/GitHub/12p5yr_stochastic_analysis/data/psrs.pkl', 'rb') as f:\n",
    "    psrs = pickle.load(f)\n",
    "\n",
    "with open('/Users/aaron/Documents/GitHub/12p5yr_stochastic_analysis/data/channelized_12p5yr_v3_full_noisedict.json', 'r') as f:\n",
    "    params = json.load(f)"
   ]
  },
  {
   "cell_type": "code",
   "execution_count": 73,
   "metadata": {},
   "outputs": [],
   "source": [
    "pta = model_2a(psrs, noisedict=params, gamma_common=4.33, n_gwbfreqs=5, tm_marg=True)"
   ]
  },
  {
   "cell_type": "code",
   "execution_count": 75,
   "metadata": {},
   "outputs": [],
   "source": [
    "x0 = np.array(list(sample_params(pta.params).values()))"
   ]
  },
  {
   "cell_type": "code",
   "execution_count": 77,
   "metadata": {},
   "outputs": [
    {
     "name": "stderr",
     "output_type": "stream",
     "text": [
      "  8%|▊         | 82/990 [01:24<15:32,  1.03s/it]\n"
     ]
    },
    {
     "ename": "LinAlgError",
     "evalue": "Matrix is not positive definite",
     "output_type": "error",
     "traceback": [
      "\u001b[0;31m---------------------------------------------------------------------------\u001b[0m",
      "\u001b[0;31mLinAlgError\u001b[0m                               Traceback (most recent call last)",
      "\u001b[0;32m~/Documents/samplers/impulse_mcmc/impulse/proposals.py\u001b[0m in \u001b[0;36mupdate\u001b[0;34m(self, **kwargs)\u001b[0m\n\u001b[1;32m     87\u001b[0m         \u001b[0;32mtry\u001b[0m\u001b[0;34m:\u001b[0m\u001b[0;34m\u001b[0m\u001b[0;34m\u001b[0m\u001b[0m\n\u001b[0;32m---> 88\u001b[0;31m             \u001b[0mself\u001b[0m\u001b[0;34m.\u001b[0m\u001b[0mcov_chol\u001b[0m \u001b[0;34m=\u001b[0m \u001b[0mnp\u001b[0m\u001b[0;34m.\u001b[0m\u001b[0mlinalg\u001b[0m\u001b[0;34m.\u001b[0m\u001b[0mcholesky\u001b[0m\u001b[0;34m(\u001b[0m\u001b[0mcov\u001b[0m\u001b[0;34m)\u001b[0m\u001b[0;34m\u001b[0m\u001b[0;34m\u001b[0m\u001b[0m\n\u001b[0m\u001b[1;32m     89\u001b[0m         \u001b[0;32mexcept\u001b[0m \u001b[0mLinAlgError\u001b[0m\u001b[0;34m:\u001b[0m\u001b[0;34m\u001b[0m\u001b[0;34m\u001b[0m\u001b[0m\n",
      "\u001b[0;32m<__array_function__ internals>\u001b[0m in \u001b[0;36mcholesky\u001b[0;34m(*args, **kwargs)\u001b[0m\n",
      "\u001b[0;32m~/mambaforge/envs/enterprise/lib/python3.9/site-packages/numpy/linalg/linalg.py\u001b[0m in \u001b[0;36mcholesky\u001b[0;34m(a)\u001b[0m\n\u001b[1;32m    762\u001b[0m     \u001b[0msignature\u001b[0m \u001b[0;34m=\u001b[0m \u001b[0;34m'D->D'\u001b[0m \u001b[0;32mif\u001b[0m \u001b[0misComplexType\u001b[0m\u001b[0;34m(\u001b[0m\u001b[0mt\u001b[0m\u001b[0;34m)\u001b[0m \u001b[0;32melse\u001b[0m \u001b[0;34m'd->d'\u001b[0m\u001b[0;34m\u001b[0m\u001b[0;34m\u001b[0m\u001b[0m\n\u001b[0;32m--> 763\u001b[0;31m     \u001b[0mr\u001b[0m \u001b[0;34m=\u001b[0m \u001b[0mgufunc\u001b[0m\u001b[0;34m(\u001b[0m\u001b[0ma\u001b[0m\u001b[0;34m,\u001b[0m \u001b[0msignature\u001b[0m\u001b[0;34m=\u001b[0m\u001b[0msignature\u001b[0m\u001b[0;34m,\u001b[0m \u001b[0mextobj\u001b[0m\u001b[0;34m=\u001b[0m\u001b[0mextobj\u001b[0m\u001b[0;34m)\u001b[0m\u001b[0;34m\u001b[0m\u001b[0;34m\u001b[0m\u001b[0m\n\u001b[0m\u001b[1;32m    764\u001b[0m     \u001b[0;32mreturn\u001b[0m \u001b[0mwrap\u001b[0m\u001b[0;34m(\u001b[0m\u001b[0mr\u001b[0m\u001b[0;34m.\u001b[0m\u001b[0mastype\u001b[0m\u001b[0;34m(\u001b[0m\u001b[0mresult_t\u001b[0m\u001b[0;34m,\u001b[0m \u001b[0mcopy\u001b[0m\u001b[0;34m=\u001b[0m\u001b[0;32mFalse\u001b[0m\u001b[0;34m)\u001b[0m\u001b[0;34m)\u001b[0m\u001b[0;34m\u001b[0m\u001b[0;34m\u001b[0m\u001b[0m\n",
      "\u001b[0;32m~/mambaforge/envs/enterprise/lib/python3.9/site-packages/numpy/linalg/linalg.py\u001b[0m in \u001b[0;36m_raise_linalgerror_nonposdef\u001b[0;34m(err, flag)\u001b[0m\n\u001b[1;32m     90\u001b[0m \u001b[0;32mdef\u001b[0m \u001b[0m_raise_linalgerror_nonposdef\u001b[0m\u001b[0;34m(\u001b[0m\u001b[0merr\u001b[0m\u001b[0;34m,\u001b[0m \u001b[0mflag\u001b[0m\u001b[0;34m)\u001b[0m\u001b[0;34m:\u001b[0m\u001b[0;34m\u001b[0m\u001b[0;34m\u001b[0m\u001b[0m\n\u001b[0;32m---> 91\u001b[0;31m     \u001b[0;32mraise\u001b[0m \u001b[0mLinAlgError\u001b[0m\u001b[0;34m(\u001b[0m\u001b[0;34m\"Matrix is not positive definite\"\u001b[0m\u001b[0;34m)\u001b[0m\u001b[0;34m\u001b[0m\u001b[0;34m\u001b[0m\u001b[0m\n\u001b[0m\u001b[1;32m     92\u001b[0m \u001b[0;34m\u001b[0m\u001b[0m\n",
      "\u001b[0;31mLinAlgError\u001b[0m: Matrix is not positive definite",
      "\nDuring handling of the above exception, another exception occurred:\n",
      "\u001b[0;31mLinAlgError\u001b[0m                               Traceback (most recent call last)",
      "\u001b[0;32m/var/folders/2k/k752fw_d4gd91qly20lhwgg40000gn/T/ipykernel_29942/578319697.py\u001b[0m in \u001b[0;36m<module>\u001b[0;34m\u001b[0m\n\u001b[0;32m----> 1\u001b[0;31m \u001b[0mchain\u001b[0m \u001b[0;34m=\u001b[0m \u001b[0msample\u001b[0m\u001b[0;34m(\u001b[0m\u001b[0mpta\u001b[0m\u001b[0;34m.\u001b[0m\u001b[0mget_lnprior\u001b[0m\u001b[0;34m,\u001b[0m \u001b[0mlen\u001b[0m\u001b[0;34m(\u001b[0m\u001b[0mpta\u001b[0m\u001b[0;34m.\u001b[0m\u001b[0mparams\u001b[0m\u001b[0;34m)\u001b[0m\u001b[0;34m,\u001b[0m \u001b[0mx0\u001b[0m\u001b[0;34m,\u001b[0m \u001b[0mnum_samples\u001b[0m\u001b[0;34m=\u001b[0m\u001b[0;36m1_000_000\u001b[0m\u001b[0;34m)\u001b[0m\u001b[0;34m\u001b[0m\u001b[0;34m\u001b[0m\u001b[0m\n\u001b[0m",
      "\u001b[0;32m~/Documents/samplers/impulse_mcmc/impulse/impulse.py\u001b[0m in \u001b[0;36msample\u001b[0;34m(post, ndim, x0, num_samples, loop_iterations, save, outdir, compress)\u001b[0m\n\u001b[1;32m     32\u001b[0m         \u001b[0msampler\u001b[0m\u001b[0;34m.\u001b[0m\u001b[0msave_samples\u001b[0m\u001b[0;34m(\u001b[0m\u001b[0moutdir\u001b[0m\u001b[0;34m)\u001b[0m\u001b[0;34m\u001b[0m\u001b[0;34m\u001b[0m\u001b[0m\n\u001b[1;32m     33\u001b[0m         \u001b[0mfull_chain\u001b[0m\u001b[0;34m[\u001b[0m\u001b[0mcount\u001b[0m\u001b[0;34m:\u001b[0m\u001b[0mcount\u001b[0m \u001b[0;34m+\u001b[0m \u001b[0mloop_iterations\u001b[0m\u001b[0;34m,\u001b[0m \u001b[0;34m:\u001b[0m\u001b[0;34m]\u001b[0m \u001b[0;34m=\u001b[0m \u001b[0mchain\u001b[0m\u001b[0;34m\u001b[0m\u001b[0;34m\u001b[0m\u001b[0m\n\u001b[0;32m---> 34\u001b[0;31m         \u001b[0mmix\u001b[0m\u001b[0;34m.\u001b[0m\u001b[0mupdate\u001b[0m\u001b[0;34m(\u001b[0m\u001b[0mloop_iterations\u001b[0m\u001b[0;34m,\u001b[0m \u001b[0mchain\u001b[0m\u001b[0;34m,\u001b[0m \u001b[0mfull_chain\u001b[0m\u001b[0;34m=\u001b[0m\u001b[0mfull_chain\u001b[0m\u001b[0;34m)\u001b[0m\u001b[0;34m\u001b[0m\u001b[0;34m\u001b[0m\u001b[0m\n\u001b[0m\u001b[1;32m     35\u001b[0m         \u001b[0mx0\u001b[0m \u001b[0;34m=\u001b[0m \u001b[0mchain\u001b[0m\u001b[0;34m[\u001b[0m\u001b[0;34m-\u001b[0m\u001b[0;36m1\u001b[0m\u001b[0;34m]\u001b[0m\u001b[0;34m\u001b[0m\u001b[0;34m\u001b[0m\u001b[0m\n\u001b[1;32m     36\u001b[0m         \u001b[0mcount\u001b[0m \u001b[0;34m+=\u001b[0m \u001b[0mloop_iterations\u001b[0m\u001b[0;34m\u001b[0m\u001b[0;34m\u001b[0m\u001b[0m\n",
      "\u001b[0;32m~/Documents/samplers/impulse_mcmc/impulse/proposals.py\u001b[0m in \u001b[0;36mupdate\u001b[0;34m(self, old_length, new_chain, **kwargs)\u001b[0m\n\u001b[1;32m     24\u001b[0m         \u001b[0mself\u001b[0m\u001b[0;34m.\u001b[0m\u001b[0mmean\u001b[0m\u001b[0;34m,\u001b[0m \u001b[0mself\u001b[0m\u001b[0;34m.\u001b[0m\u001b[0mcov\u001b[0m \u001b[0;34m=\u001b[0m \u001b[0mupdate_covariance\u001b[0m\u001b[0;34m(\u001b[0m\u001b[0mold_length\u001b[0m\u001b[0;34m,\u001b[0m \u001b[0mself\u001b[0m\u001b[0;34m.\u001b[0m\u001b[0mcov\u001b[0m\u001b[0;34m,\u001b[0m \u001b[0mself\u001b[0m\u001b[0;34m.\u001b[0m\u001b[0mmean\u001b[0m\u001b[0;34m,\u001b[0m \u001b[0mnew_chain\u001b[0m\u001b[0;34m)\u001b[0m\u001b[0;34m\u001b[0m\u001b[0;34m\u001b[0m\u001b[0m\n\u001b[1;32m     25\u001b[0m         \u001b[0;32mfor\u001b[0m \u001b[0mproposal\u001b[0m \u001b[0;32min\u001b[0m \u001b[0mself\u001b[0m\u001b[0;34m.\u001b[0m\u001b[0mprop_list\u001b[0m\u001b[0;34m[\u001b[0m\u001b[0;36m0\u001b[0m\u001b[0;34m]\u001b[0m\u001b[0;34m:\u001b[0m\u001b[0;34m\u001b[0m\u001b[0;34m\u001b[0m\u001b[0m\n\u001b[0;32m---> 26\u001b[0;31m             \u001b[0mproposal\u001b[0m\u001b[0;34m.\u001b[0m\u001b[0mupdate\u001b[0m\u001b[0;34m(\u001b[0m\u001b[0mcov\u001b[0m\u001b[0;34m=\u001b[0m\u001b[0mself\u001b[0m\u001b[0;34m.\u001b[0m\u001b[0mcov\u001b[0m\u001b[0;34m,\u001b[0m \u001b[0mchain\u001b[0m\u001b[0;34m=\u001b[0m\u001b[0mchain\u001b[0m\u001b[0;34m)\u001b[0m\u001b[0;34m\u001b[0m\u001b[0;34m\u001b[0m\u001b[0m\n\u001b[0m\u001b[1;32m     27\u001b[0m \u001b[0;34m\u001b[0m\u001b[0m\n\u001b[1;32m     28\u001b[0m     \u001b[0;32mdef\u001b[0m \u001b[0m__call__\u001b[0m\u001b[0;34m(\u001b[0m\u001b[0mself\u001b[0m\u001b[0;34m,\u001b[0m \u001b[0mx\u001b[0m\u001b[0;34m)\u001b[0m\u001b[0;34m:\u001b[0m\u001b[0;34m\u001b[0m\u001b[0;34m\u001b[0m\u001b[0m\n",
      "\u001b[0;32m~/Documents/samplers/impulse_mcmc/impulse/proposals.py\u001b[0m in \u001b[0;36mupdate\u001b[0;34m(self, **kwargs)\u001b[0m\n\u001b[1;32m     88\u001b[0m             \u001b[0mself\u001b[0m\u001b[0;34m.\u001b[0m\u001b[0mcov_chol\u001b[0m \u001b[0;34m=\u001b[0m \u001b[0mnp\u001b[0m\u001b[0;34m.\u001b[0m\u001b[0mlinalg\u001b[0m\u001b[0;34m.\u001b[0m\u001b[0mcholesky\u001b[0m\u001b[0;34m(\u001b[0m\u001b[0mcov\u001b[0m\u001b[0;34m)\u001b[0m\u001b[0;34m\u001b[0m\u001b[0;34m\u001b[0m\u001b[0m\n\u001b[1;32m     89\u001b[0m         \u001b[0;32mexcept\u001b[0m \u001b[0mLinAlgError\u001b[0m\u001b[0;34m:\u001b[0m\u001b[0;34m\u001b[0m\u001b[0;34m\u001b[0m\u001b[0m\n\u001b[0;32m---> 90\u001b[0;31m             \u001b[0mself\u001b[0m\u001b[0;34m.\u001b[0m\u001b[0mcov_chol\u001b[0m \u001b[0;34m=\u001b[0m \u001b[0mnp\u001b[0m\u001b[0;34m.\u001b[0m\u001b[0mlinalg\u001b[0m\u001b[0;34m.\u001b[0m\u001b[0mcholesky\u001b[0m\u001b[0;34m(\u001b[0m\u001b[0mcov\u001b[0m \u001b[0;34m+\u001b[0m \u001b[0mnp\u001b[0m\u001b[0;34m.\u001b[0m\u001b[0meye\u001b[0m\u001b[0;34m(\u001b[0m\u001b[0mcov\u001b[0m\u001b[0;34m.\u001b[0m\u001b[0mshape\u001b[0m\u001b[0;34m[\u001b[0m\u001b[0;36m0\u001b[0m\u001b[0;34m]\u001b[0m\u001b[0;34m)\u001b[0m \u001b[0;34m*\u001b[0m \u001b[0;36m5e-15\u001b[0m\u001b[0;34m)\u001b[0m\u001b[0;34m\u001b[0m\u001b[0;34m\u001b[0m\u001b[0m\n\u001b[0m\u001b[1;32m     91\u001b[0m \u001b[0;34m\u001b[0m\u001b[0m\n\u001b[1;32m     92\u001b[0m     \u001b[0;32mdef\u001b[0m \u001b[0m__call__\u001b[0m\u001b[0;34m(\u001b[0m\u001b[0mself\u001b[0m\u001b[0;34m,\u001b[0m \u001b[0mx\u001b[0m\u001b[0;34m)\u001b[0m\u001b[0;34m:\u001b[0m\u001b[0;34m\u001b[0m\u001b[0;34m\u001b[0m\u001b[0m\n",
      "\u001b[0;32m<__array_function__ internals>\u001b[0m in \u001b[0;36mcholesky\u001b[0;34m(*args, **kwargs)\u001b[0m\n",
      "\u001b[0;32m~/mambaforge/envs/enterprise/lib/python3.9/site-packages/numpy/linalg/linalg.py\u001b[0m in \u001b[0;36mcholesky\u001b[0;34m(a)\u001b[0m\n\u001b[1;32m    761\u001b[0m     \u001b[0mt\u001b[0m\u001b[0;34m,\u001b[0m \u001b[0mresult_t\u001b[0m \u001b[0;34m=\u001b[0m \u001b[0m_commonType\u001b[0m\u001b[0;34m(\u001b[0m\u001b[0ma\u001b[0m\u001b[0;34m)\u001b[0m\u001b[0;34m\u001b[0m\u001b[0;34m\u001b[0m\u001b[0m\n\u001b[1;32m    762\u001b[0m     \u001b[0msignature\u001b[0m \u001b[0;34m=\u001b[0m \u001b[0;34m'D->D'\u001b[0m \u001b[0;32mif\u001b[0m \u001b[0misComplexType\u001b[0m\u001b[0;34m(\u001b[0m\u001b[0mt\u001b[0m\u001b[0;34m)\u001b[0m \u001b[0;32melse\u001b[0m \u001b[0;34m'd->d'\u001b[0m\u001b[0;34m\u001b[0m\u001b[0;34m\u001b[0m\u001b[0m\n\u001b[0;32m--> 763\u001b[0;31m     \u001b[0mr\u001b[0m \u001b[0;34m=\u001b[0m \u001b[0mgufunc\u001b[0m\u001b[0;34m(\u001b[0m\u001b[0ma\u001b[0m\u001b[0;34m,\u001b[0m \u001b[0msignature\u001b[0m\u001b[0;34m=\u001b[0m\u001b[0msignature\u001b[0m\u001b[0;34m,\u001b[0m \u001b[0mextobj\u001b[0m\u001b[0;34m=\u001b[0m\u001b[0mextobj\u001b[0m\u001b[0;34m)\u001b[0m\u001b[0;34m\u001b[0m\u001b[0;34m\u001b[0m\u001b[0m\n\u001b[0m\u001b[1;32m    764\u001b[0m     \u001b[0;32mreturn\u001b[0m \u001b[0mwrap\u001b[0m\u001b[0;34m(\u001b[0m\u001b[0mr\u001b[0m\u001b[0;34m.\u001b[0m\u001b[0mastype\u001b[0m\u001b[0;34m(\u001b[0m\u001b[0mresult_t\u001b[0m\u001b[0;34m,\u001b[0m \u001b[0mcopy\u001b[0m\u001b[0;34m=\u001b[0m\u001b[0;32mFalse\u001b[0m\u001b[0;34m)\u001b[0m\u001b[0;34m)\u001b[0m\u001b[0;34m\u001b[0m\u001b[0;34m\u001b[0m\u001b[0m\n\u001b[1;32m    765\u001b[0m \u001b[0;34m\u001b[0m\u001b[0m\n",
      "\u001b[0;32m~/mambaforge/envs/enterprise/lib/python3.9/site-packages/numpy/linalg/linalg.py\u001b[0m in \u001b[0;36m_raise_linalgerror_nonposdef\u001b[0;34m(err, flag)\u001b[0m\n\u001b[1;32m     89\u001b[0m \u001b[0;34m\u001b[0m\u001b[0m\n\u001b[1;32m     90\u001b[0m \u001b[0;32mdef\u001b[0m \u001b[0m_raise_linalgerror_nonposdef\u001b[0m\u001b[0;34m(\u001b[0m\u001b[0merr\u001b[0m\u001b[0;34m,\u001b[0m \u001b[0mflag\u001b[0m\u001b[0;34m)\u001b[0m\u001b[0;34m:\u001b[0m\u001b[0;34m\u001b[0m\u001b[0;34m\u001b[0m\u001b[0m\n\u001b[0;32m---> 91\u001b[0;31m     \u001b[0;32mraise\u001b[0m \u001b[0mLinAlgError\u001b[0m\u001b[0;34m(\u001b[0m\u001b[0;34m\"Matrix is not positive definite\"\u001b[0m\u001b[0;34m)\u001b[0m\u001b[0;34m\u001b[0m\u001b[0;34m\u001b[0m\u001b[0m\n\u001b[0m\u001b[1;32m     92\u001b[0m \u001b[0;34m\u001b[0m\u001b[0m\n\u001b[1;32m     93\u001b[0m \u001b[0;32mdef\u001b[0m \u001b[0m_raise_linalgerror_eigenvalues_nonconvergence\u001b[0m\u001b[0;34m(\u001b[0m\u001b[0merr\u001b[0m\u001b[0;34m,\u001b[0m \u001b[0mflag\u001b[0m\u001b[0;34m)\u001b[0m\u001b[0;34m:\u001b[0m\u001b[0;34m\u001b[0m\u001b[0;34m\u001b[0m\u001b[0m\n",
      "\u001b[0;31mLinAlgError\u001b[0m: Matrix is not positive definite"
     ]
    }
   ],
   "source": [
    "chain = sample(pta.get_lnprior, len(pta.params), x0, num_samples=1_000_000)"
   ]
  },
  {
   "cell_type": "code",
   "execution_count": null,
   "metadata": {},
   "outputs": [],
   "source": []
  }
 ],
 "metadata": {
  "interpreter": {
   "hash": "258a98146d7b1fc4fd042f4c4462c9ac0b2f193510c2bf5e68563398d2b8ef68"
  },
  "kernelspec": {
   "display_name": "Python 3.9.12 ('rosettaprise')",
   "language": "python",
   "name": "python3"
  },
  "language_info": {
   "codemirror_mode": {
    "name": "ipython",
    "version": 3
   },
   "file_extension": ".py",
   "mimetype": "text/x-python",
   "name": "python",
   "nbconvert_exporter": "python",
   "pygments_lexer": "ipython3",
   "version": "3.9.13"
  },
  "orig_nbformat": 4
 },
 "nbformat": 4,
 "nbformat_minor": 2
}
