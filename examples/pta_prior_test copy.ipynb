{
 "cells": [
  {
   "cell_type": "markdown",
   "metadata": {},
   "source": [
    "## Sample uniform priors to check jump proposals!"
   ]
  },
  {
   "cell_type": "code",
   "execution_count": 1,
   "metadata": {},
   "outputs": [
    {
     "name": "stdout",
     "output_type": "stream",
     "text": [
      "Do not have acor package\n"
     ]
    }
   ],
   "source": [
    "%load_ext autoreload\n",
    "%autoreload 2\n",
    "import pickle, json\n",
    "from enterprise_extensions.models import model_2a\n",
    "# from enterprise.signals.parameter import sample\n",
    "import numpy as np\n",
    "from impulse.base import PTSampler, Sampler\n",
    "from impulse.pta_utils import initial_sample\n",
    "import matplotlib.pyplot as plt\n",
    "from emcee.autocorr import integrated_time\n",
    "\n",
    "from impulse.pta_utils import setup_sampler\n",
    "\n",
    "from PTMCMCSampler.PTMCMCSampler import PTSampler as ptmcmc"
   ]
  },
  {
   "cell_type": "code",
   "execution_count": 2,
   "metadata": {},
   "outputs": [
    {
     "name": "stderr",
     "output_type": "stream",
     "text": [
      "WARNING: AstropyDeprecationWarning: The private astropy._erfa module has been made into its own package, pyerfa, which is a dependency of astropy and can be imported directly using \"import erfa\" [astropy._erfa]\n"
     ]
    }
   ],
   "source": [
    "with open('/Users/aaron/Documents/GitHub/12p5yr_stochastic_analysis/tutorials/data/psrs.pkl', 'rb') as f:\n",
    "    psrs = pickle.load(f)\n",
    "\n",
    "with open('/Users/aaron/Documents/GitHub/12p5yr_stochastic_analysis/tutorials/data/channelized_12p5yr_v3_full_noisedict.json', 'r') as f:\n",
    "    params = json.load(f)"
   ]
  },
  {
   "cell_type": "code",
   "execution_count": 3,
   "metadata": {},
   "outputs": [],
   "source": [
    "pta = model_2a(psrs, noisedict=params, gamma_common=4.33, n_gwbfreqs=5, tm_marg=True, tnequad=True, tm_svd=True)"
   ]
  },
  {
   "cell_type": "code",
   "execution_count": 4,
   "metadata": {},
   "outputs": [],
   "source": [
    "ntemps = 4\n",
    "nchains = None\n",
    "ndim, x0 = initial_sample(pta, ntemps, nchains)"
   ]
  },
  {
   "cell_type": "code",
   "execution_count": 5,
   "metadata": {},
   "outputs": [
    {
     "name": "stderr",
     "output_type": "stream",
     "text": [
      "2022-07-25 17:31:28.665 | INFO     | impulse.pta_utils:setup_sampler:1111 - Adding red noise prior draws...\n",
      "\n",
      "2022-07-25 17:31:28.668 | INFO     | impulse.pta_utils:setup_sampler:1146 - Adding GWB uniform distribution draws...\n",
      "\n"
     ]
    }
   ],
   "source": [
    "sampler = setup_sampler(pta, ret_chain=True, prior_sample=True, resume=False, num_samples=5e6, ntemps=4, ncores=4)"
   ]
  },
  {
   "cell_type": "code",
   "execution_count": 6,
   "metadata": {},
   "outputs": [
    {
     "name": "stderr",
     "output_type": "stream",
     "text": [
      "  0%|          | 0/5000 [00:00<?, ?it/s]2022-07-25 17:31:28.754 | DEBUG    | impulse.base:_ptstep:189 - Using 4 cpus\n",
      "\u001b[2m\u001b[36m(mh_sample_step pid=81854)\u001b[0m WARNING: AstropyDeprecationWarning: The private astropy._erfa module has been made into its own package, pyerfa, which is a dependency of astropy and can be imported directly using \"import erfa\" [astropy._erfa]\n",
      "\u001b[2m\u001b[36m(mh_sample_step pid=81854)\u001b[0m /Users/aaron/Documents/GitHub/enterprise/enterprise/signals/parameter.py:62: RuntimeWarning: divide by zero encountered in log\n",
      "\u001b[2m\u001b[36m(mh_sample_step pid=81854)\u001b[0m   logpdf = np.log(self.prior(value, **kwargs))\n",
      "\u001b[2m\u001b[36m(raylet)\u001b[0m Spilled 3434 MiB, 2 objects, write throughput 1300 MiB/s. Set RAY_verbose_spill_logs=0 to disable this message.\n",
      "/Users/aaron/Documents/GitHub/enterprise/enterprise/signals/parameter.py:62: RuntimeWarning: divide by zero encountered in log\n",
      "  logpdf = np.log(self.prior(value, **kwargs))\n",
      "2022-07-25 17:31:34.563 | DEBUG    | impulse.base:_ptstep:189 - Using 4 cpus\n",
      "\u001b[2m\u001b[36m(raylet)\u001b[0m Spilled 6869 MiB, 4 objects, write throughput 1604 MiB/s.\n",
      "\u001b[2m\u001b[36m(mh_sample_step pid=81854)\u001b[0m /Users/aaron/Documents/GitHub/impulse_mcmc/impulse/mhsampler.py:115: RuntimeWarning: invalid value encountered in double_scalars\n",
      "\u001b[2m\u001b[36m(mh_sample_step pid=81854)\u001b[0m   hastings_ratio = lnprob_star - lnprob0 + factor\n",
      "\u001b[2m\u001b[36m(raylet)\u001b[0m Spilled 8586 MiB, 5 objects, write throughput 1685 MiB/s.\n",
      "2022-07-25 17:31:38.470 | DEBUG    | impulse.base:_ptstep:189 - Using 4 cpus\n",
      "\u001b[2m\u001b[36m(raylet)\u001b[0m Spilled 18889 MiB, 11 objects, write throughput 1897 MiB/s.\n",
      "2022-07-25 17:31:42.397 | DEBUG    | impulse.base:_ptstep:189 - Using 4 cpus\n",
      "2022-07-25 17:31:46.476 | DEBUG    | impulse.base:_ptstep:189 - Using 4 cpus\n",
      "2022-07-25 17:31:50.507 | DEBUG    | impulse.base:_ptstep:189 - Using 4 cpus\n",
      "\u001b[2m\u001b[36m(raylet)\u001b[0m Spilled 36062 MiB, 21 objects, write throughput 1977 MiB/s.\n",
      "2022-07-25 17:31:54.375 | DEBUG    | impulse.base:_ptstep:189 - Using 4 cpus\n",
      "2022-07-25 17:31:58.552 | DEBUG    | impulse.base:_ptstep:189 - Using 4 cpus\n",
      "2022-07-25 17:32:02.584 | DEBUG    | impulse.base:_ptstep:189 - Using 4 cpus\n",
      "2022-07-25 17:32:06.586 | DEBUG    | impulse.base:_ptstep:189 - Using 4 cpus\n",
      "\u001b[2m\u001b[36m(raylet)\u001b[0m Spilled 66973 MiB, 39 objects, write throughput 2013 MiB/s.\n",
      "/Users/aaron/Documents/GitHub/impulse_mcmc/impulse/ptsampler.py:68: RuntimeWarning: invalid value encountered in double_scalars\n",
      "  paccept = dbeta * (lnlike[swap_idx, i] - lnlike[swap_idx, i - 1])\n",
      "  0%|          | 1/5000 [00:42<58:46:34, 42.33s/it]2022-07-25 17:32:11.082 | DEBUG    | impulse.base:_ptstep:189 - Using 4 cpus\n",
      "2022-07-25 17:32:15.195 | DEBUG    | impulse.base:_ptstep:189 - Using 4 cpus\n",
      "2022-07-25 17:32:19.388 | DEBUG    | impulse.base:_ptstep:189 - Using 4 cpus\n",
      "2022-07-25 17:32:23.441 | DEBUG    | impulse.base:_ptstep:189 - Using 4 cpus\n",
      "2022-07-25 17:32:27.533 | DEBUG    | impulse.base:_ptstep:189 - Using 4 cpus\n",
      "2022-07-25 17:32:31.503 | DEBUG    | impulse.base:_ptstep:189 - Using 4 cpus\n",
      "2022-07-25 17:32:35.526 | DEBUG    | impulse.base:_ptstep:189 - Using 4 cpus\n",
      "  0%|          | 1/5000 [01:09<96:13:52, 69.30s/it]\n"
     ]
    },
    {
     "ename": "KeyboardInterrupt",
     "evalue": "",
     "output_type": "error",
     "traceback": [
      "\u001b[0;31m---------------------------------------------------------------------------\u001b[0m",
      "\u001b[0;31mKeyboardInterrupt\u001b[0m                         Traceback (most recent call last)",
      "\u001b[1;32m/Users/aaron/Documents/GitHub/impulse_mcmc/examples/pta_prior_test copy.ipynb Cell 7\u001b[0m in \u001b[0;36m<cell line: 1>\u001b[0;34m()\u001b[0m\n\u001b[0;32m----> <a href='vscode-notebook-cell:/Users/aaron/Documents/GitHub/impulse_mcmc/examples/pta_prior_test%20copy.ipynb#ch0000023?line=0'>1</a>\u001b[0m sampler\u001b[39m.\u001b[39;49msample()\n",
      "File \u001b[0;32m~/Documents/GitHub/impulse_mcmc/impulse/base.py:245\u001b[0m, in \u001b[0;36mPTSampler.sample\u001b[0;34m(self)\u001b[0m\n\u001b[1;32m    243\u001b[0m \u001b[39mself\u001b[39m\u001b[39m.\u001b[39mswap_tot \u001b[39m=\u001b[39m \u001b[39m0\u001b[39m  \u001b[39m# count the samples between swaps\u001b[39;00m\n\u001b[1;32m    244\u001b[0m \u001b[39mfor\u001b[39;00m _ \u001b[39min\u001b[39;00m \u001b[39mrange\u001b[39m(\u001b[39mself\u001b[39m\u001b[39m.\u001b[39mloop_iterations \u001b[39m/\u001b[39m\u001b[39m/\u001b[39m \u001b[39mself\u001b[39m\u001b[39m.\u001b[39mswap_count):  \u001b[39m# swap loops\u001b[39;00m\n\u001b[0;32m--> 245\u001b[0m     \u001b[39mself\u001b[39;49m\u001b[39m.\u001b[39;49m_ptstep()\n\u001b[1;32m    246\u001b[0m     \u001b[39mself\u001b[39m\u001b[39m.\u001b[39mswap_tot \u001b[39m+\u001b[39m\u001b[39m=\u001b[39m \u001b[39mself\u001b[39m\u001b[39m.\u001b[39mswap_count\n\u001b[1;32m    247\u001b[0m \u001b[39mself\u001b[39m\u001b[39m.\u001b[39m_save_step()\n",
      "File \u001b[0;32m~/Documents/GitHub/impulse_mcmc/impulse/base.py:194\u001b[0m, in \u001b[0;36mPTSampler._ptstep\u001b[0;34m(self)\u001b[0m\n\u001b[1;32m    189\u001b[0m     logger\u001b[39m.\u001b[39mdebug(\u001b[39m\"\u001b[39m\u001b[39mUsing \u001b[39m\u001b[39m{}\u001b[39;00m\u001b[39m cpus\u001b[39m\u001b[39m\"\u001b[39m\u001b[39m.\u001b[39mformat(\u001b[39mself\u001b[39m\u001b[39m.\u001b[39mncores))\n\u001b[1;32m    190\u001b[0m     \u001b[39m# args = [(sampler.lnlike_fn,\u001b[39;00m\n\u001b[1;32m    191\u001b[0m     \u001b[39m#          sampler.lnprior_fn, sampler.prop_fn, sampler.x0,\u001b[39;00m\n\u001b[1;32m    192\u001b[0m     \u001b[39m#          sampler.temp, sampler.iterations, sampler.lnprob0,\u001b[39;00m\n\u001b[1;32m    193\u001b[0m     \u001b[39m#          sampler.chain, sampler.lnlike, sampler.lnprob, sampler.accept_rate) for sampler in self.samplers]\u001b[39;00m\n\u001b[0;32m--> 194\u001b[0m     res \u001b[39m=\u001b[39m ray\u001b[39m.\u001b[39mget([mh_sample_step\u001b[39m.\u001b[39mremote(sampler\u001b[39m.\u001b[39mlnlike_fn, sampler\u001b[39m.\u001b[39mlnprior_fn, sampler\u001b[39m.\u001b[39mprop_fn, sampler\u001b[39m.\u001b[39mx0,\n\u001b[1;32m    195\u001b[0m                           sampler\u001b[39m.\u001b[39mtemp, sampler\u001b[39m.\u001b[39miterations, sampler\u001b[39m.\u001b[39mlnprob0,\n\u001b[1;32m    196\u001b[0m                           sampler\u001b[39m.\u001b[39mchain, sampler\u001b[39m.\u001b[39mlnlike, sampler\u001b[39m.\u001b[39mlnprob, sampler\u001b[39m.\u001b[39maccept_rate) \u001b[39mfor\u001b[39;00m sampler \u001b[39min\u001b[39;00m \u001b[39mself\u001b[39m\u001b[39m.\u001b[39msamplers])\n\u001b[1;32m    197\u001b[0m \u001b[39melse\u001b[39;00m:\n\u001b[1;32m    198\u001b[0m     \u001b[39m# res = list(map(lambda sampler: sampler.sample(), self.samplers))\u001b[39;00m\n\u001b[1;32m    199\u001b[0m     res \u001b[39m=\u001b[39m [mh_sample_step(sampler\u001b[39m.\u001b[39mlnlike_fn, sampler\u001b[39m.\u001b[39mlnprior_fn, sampler\u001b[39m.\u001b[39mprop_fn, sampler\u001b[39m.\u001b[39mx0,\n\u001b[1;32m    200\u001b[0m                           sampler\u001b[39m.\u001b[39mtemp, sampler\u001b[39m.\u001b[39miterations, sampler\u001b[39m.\u001b[39mlnprob0,\n\u001b[1;32m    201\u001b[0m                           sampler\u001b[39m.\u001b[39mchain, sampler\u001b[39m.\u001b[39mlnlike, sampler\u001b[39m.\u001b[39mlnprob, sampler\u001b[39m.\u001b[39maccept_rate) \u001b[39mfor\u001b[39;00m sampler \u001b[39min\u001b[39;00m \u001b[39mself\u001b[39m\u001b[39m.\u001b[39msamplers]\n",
      "File \u001b[0;32m~/Documents/GitHub/impulse_mcmc/impulse/base.py:194\u001b[0m, in \u001b[0;36m<listcomp>\u001b[0;34m(.0)\u001b[0m\n\u001b[1;32m    189\u001b[0m     logger\u001b[39m.\u001b[39mdebug(\u001b[39m\"\u001b[39m\u001b[39mUsing \u001b[39m\u001b[39m{}\u001b[39;00m\u001b[39m cpus\u001b[39m\u001b[39m\"\u001b[39m\u001b[39m.\u001b[39mformat(\u001b[39mself\u001b[39m\u001b[39m.\u001b[39mncores))\n\u001b[1;32m    190\u001b[0m     \u001b[39m# args = [(sampler.lnlike_fn,\u001b[39;00m\n\u001b[1;32m    191\u001b[0m     \u001b[39m#          sampler.lnprior_fn, sampler.prop_fn, sampler.x0,\u001b[39;00m\n\u001b[1;32m    192\u001b[0m     \u001b[39m#          sampler.temp, sampler.iterations, sampler.lnprob0,\u001b[39;00m\n\u001b[1;32m    193\u001b[0m     \u001b[39m#          sampler.chain, sampler.lnlike, sampler.lnprob, sampler.accept_rate) for sampler in self.samplers]\u001b[39;00m\n\u001b[0;32m--> 194\u001b[0m     res \u001b[39m=\u001b[39m ray\u001b[39m.\u001b[39mget([mh_sample_step\u001b[39m.\u001b[39;49mremote(sampler\u001b[39m.\u001b[39;49mlnlike_fn, sampler\u001b[39m.\u001b[39;49mlnprior_fn, sampler\u001b[39m.\u001b[39;49mprop_fn, sampler\u001b[39m.\u001b[39;49mx0,\n\u001b[1;32m    195\u001b[0m                           sampler\u001b[39m.\u001b[39;49mtemp, sampler\u001b[39m.\u001b[39;49miterations, sampler\u001b[39m.\u001b[39;49mlnprob0,\n\u001b[1;32m    196\u001b[0m                           sampler\u001b[39m.\u001b[39;49mchain, sampler\u001b[39m.\u001b[39;49mlnlike, sampler\u001b[39m.\u001b[39;49mlnprob, sampler\u001b[39m.\u001b[39;49maccept_rate) \u001b[39mfor\u001b[39;00m sampler \u001b[39min\u001b[39;00m \u001b[39mself\u001b[39m\u001b[39m.\u001b[39msamplers])\n\u001b[1;32m    197\u001b[0m \u001b[39melse\u001b[39;00m:\n\u001b[1;32m    198\u001b[0m     \u001b[39m# res = list(map(lambda sampler: sampler.sample(), self.samplers))\u001b[39;00m\n\u001b[1;32m    199\u001b[0m     res \u001b[39m=\u001b[39m [mh_sample_step(sampler\u001b[39m.\u001b[39mlnlike_fn, sampler\u001b[39m.\u001b[39mlnprior_fn, sampler\u001b[39m.\u001b[39mprop_fn, sampler\u001b[39m.\u001b[39mx0,\n\u001b[1;32m    200\u001b[0m                           sampler\u001b[39m.\u001b[39mtemp, sampler\u001b[39m.\u001b[39miterations, sampler\u001b[39m.\u001b[39mlnprob0,\n\u001b[1;32m    201\u001b[0m                           sampler\u001b[39m.\u001b[39mchain, sampler\u001b[39m.\u001b[39mlnlike, sampler\u001b[39m.\u001b[39mlnprob, sampler\u001b[39m.\u001b[39maccept_rate) \u001b[39mfor\u001b[39;00m sampler \u001b[39min\u001b[39;00m \u001b[39mself\u001b[39m\u001b[39m.\u001b[39msamplers]\n",
      "File \u001b[0;32m~/mambaforge/envs/rosettaprise/lib/python3.9/site-packages/ray/remote_function.py:111\u001b[0m, in \u001b[0;36mRemoteFunction.__init__.<locals>._remote_proxy\u001b[0;34m(*args, **kwargs)\u001b[0m\n\u001b[1;32m    109\u001b[0m \u001b[39m@wraps\u001b[39m(function)\n\u001b[1;32m    110\u001b[0m \u001b[39mdef\u001b[39;00m \u001b[39m_remote_proxy\u001b[39m(\u001b[39m*\u001b[39margs, \u001b[39m*\u001b[39m\u001b[39m*\u001b[39mkwargs):\n\u001b[0;32m--> 111\u001b[0m     \u001b[39mreturn\u001b[39;00m \u001b[39mself\u001b[39;49m\u001b[39m.\u001b[39;49m_remote(args\u001b[39m=\u001b[39;49margs, kwargs\u001b[39m=\u001b[39;49mkwargs, \u001b[39m*\u001b[39;49m\u001b[39m*\u001b[39;49m\u001b[39mself\u001b[39;49m\u001b[39m.\u001b[39;49m_default_options)\n",
      "File \u001b[0;32m~/mambaforge/envs/rosettaprise/lib/python3.9/site-packages/ray/util/tracing/tracing_helper.py:303\u001b[0m, in \u001b[0;36m_tracing_task_invocation.<locals>._invocation_remote_span\u001b[0;34m(self, args, kwargs, *_args, **_kwargs)\u001b[0m\n\u001b[1;32m    301\u001b[0m     \u001b[39mif\u001b[39;00m kwargs \u001b[39mis\u001b[39;00m \u001b[39mnot\u001b[39;00m \u001b[39mNone\u001b[39;00m:\n\u001b[1;32m    302\u001b[0m         \u001b[39massert\u001b[39;00m \u001b[39m\"\u001b[39m\u001b[39m_ray_trace_ctx\u001b[39m\u001b[39m\"\u001b[39m \u001b[39mnot\u001b[39;00m \u001b[39min\u001b[39;00m kwargs\n\u001b[0;32m--> 303\u001b[0m     \u001b[39mreturn\u001b[39;00m method(\u001b[39mself\u001b[39;49m, args, kwargs, \u001b[39m*\u001b[39;49m_args, \u001b[39m*\u001b[39;49m\u001b[39m*\u001b[39;49m_kwargs)\n\u001b[1;32m    305\u001b[0m \u001b[39massert\u001b[39;00m \u001b[39m\"\u001b[39m\u001b[39m_ray_trace_ctx\u001b[39m\u001b[39m\"\u001b[39m \u001b[39mnot\u001b[39;00m \u001b[39min\u001b[39;00m kwargs\n\u001b[1;32m    307\u001b[0m tracer \u001b[39m=\u001b[39m _opentelemetry\u001b[39m.\u001b[39mtrace\u001b[39m.\u001b[39mget_tracer(\u001b[39m__name__\u001b[39m)\n",
      "File \u001b[0;32m~/mambaforge/envs/rosettaprise/lib/python3.9/site-packages/ray/remote_function.py:319\u001b[0m, in \u001b[0;36mRemoteFunction._remote\u001b[0;34m(self, args, kwargs, **task_options)\u001b[0m\n\u001b[1;32m    316\u001b[0m \u001b[39mif\u001b[39;00m \u001b[39mself\u001b[39m\u001b[39m.\u001b[39m_decorator \u001b[39mis\u001b[39;00m \u001b[39mnot\u001b[39;00m \u001b[39mNone\u001b[39;00m:\n\u001b[1;32m    317\u001b[0m     invocation \u001b[39m=\u001b[39m \u001b[39mself\u001b[39m\u001b[39m.\u001b[39m_decorator(invocation)\n\u001b[0;32m--> 319\u001b[0m \u001b[39mreturn\u001b[39;00m invocation(args, kwargs)\n",
      "File \u001b[0;32m~/mambaforge/envs/rosettaprise/lib/python3.9/site-packages/ray/remote_function.py:295\u001b[0m, in \u001b[0;36mRemoteFunction._remote.<locals>.invocation\u001b[0;34m(args, kwargs)\u001b[0m\n\u001b[1;32m    291\u001b[0m \u001b[39mif\u001b[39;00m worker\u001b[39m.\u001b[39mmode \u001b[39m==\u001b[39m ray\u001b[39m.\u001b[39mworker\u001b[39m.\u001b[39mLOCAL_MODE:\n\u001b[1;32m    292\u001b[0m     \u001b[39massert\u001b[39;00m (\n\u001b[1;32m    293\u001b[0m         \u001b[39mnot\u001b[39;00m \u001b[39mself\u001b[39m\u001b[39m.\u001b[39m_is_cross_language\n\u001b[1;32m    294\u001b[0m     ), \u001b[39m\"\u001b[39m\u001b[39mCross language remote function cannot be executed locally.\u001b[39m\u001b[39m\"\u001b[39m\n\u001b[0;32m--> 295\u001b[0m object_refs \u001b[39m=\u001b[39m worker\u001b[39m.\u001b[39;49mcore_worker\u001b[39m.\u001b[39;49msubmit_task(\n\u001b[1;32m    296\u001b[0m     \u001b[39mself\u001b[39;49m\u001b[39m.\u001b[39;49m_language,\n\u001b[1;32m    297\u001b[0m     \u001b[39mself\u001b[39;49m\u001b[39m.\u001b[39;49m_function_descriptor,\n\u001b[1;32m    298\u001b[0m     list_args,\n\u001b[1;32m    299\u001b[0m     name \u001b[39mif\u001b[39;49;00m name \u001b[39mis\u001b[39;49;00m \u001b[39mnot\u001b[39;49;00m \u001b[39mNone\u001b[39;49;00m \u001b[39melse\u001b[39;49;00m \u001b[39m\"\u001b[39;49m\u001b[39m\"\u001b[39;49m,\n\u001b[1;32m    300\u001b[0m     num_returns,\n\u001b[1;32m    301\u001b[0m     resources,\n\u001b[1;32m    302\u001b[0m     max_retries,\n\u001b[1;32m    303\u001b[0m     retry_exceptions,\n\u001b[1;32m    304\u001b[0m     scheduling_strategy,\n\u001b[1;32m    305\u001b[0m     worker\u001b[39m.\u001b[39;49mdebugger_breakpoint,\n\u001b[1;32m    306\u001b[0m     serialized_runtime_env_info \u001b[39mor\u001b[39;49;00m \u001b[39m\"\u001b[39;49m\u001b[39m{}\u001b[39;49;00m\u001b[39m\"\u001b[39;49m,\n\u001b[1;32m    307\u001b[0m )\n\u001b[1;32m    308\u001b[0m \u001b[39m# Reset worker's debug context from the last \"remote\" command\u001b[39;00m\n\u001b[1;32m    309\u001b[0m \u001b[39m# (which applies only to this .remote call).\u001b[39;00m\n\u001b[1;32m    310\u001b[0m worker\u001b[39m.\u001b[39mdebugger_breakpoint \u001b[39m=\u001b[39m \u001b[39mb\u001b[39m\u001b[39m\"\u001b[39m\u001b[39m\"\u001b[39m\n",
      "File \u001b[0;32mpython/ray/_raylet.pyx:1524\u001b[0m, in \u001b[0;36mray._raylet.CoreWorker.submit_task\u001b[0;34m()\u001b[0m\n",
      "File \u001b[0;32mpython/ray/_raylet.pyx:1528\u001b[0m, in \u001b[0;36mray._raylet.CoreWorker.submit_task\u001b[0;34m()\u001b[0m\n",
      "File \u001b[0;32mpython/ray/_raylet.pyx:372\u001b[0m, in \u001b[0;36mray._raylet.prepare_args_and_increment_put_refs\u001b[0;34m()\u001b[0m\n",
      "File \u001b[0;32mpython/ray/_raylet.pyx:415\u001b[0m, in \u001b[0;36mray._raylet.prepare_args_internal\u001b[0;34m()\u001b[0m\n",
      "File \u001b[0;32m~/mambaforge/envs/rosettaprise/lib/python3.9/site-packages/ray/serialization.py:421\u001b[0m, in \u001b[0;36mSerializationContext.serialize\u001b[0;34m(self, value)\u001b[0m\n\u001b[1;32m    419\u001b[0m     \u001b[39mreturn\u001b[39;00m RawSerializedObject(value)\n\u001b[1;32m    420\u001b[0m \u001b[39melse\u001b[39;00m:\n\u001b[0;32m--> 421\u001b[0m     \u001b[39mreturn\u001b[39;00m \u001b[39mself\u001b[39;49m\u001b[39m.\u001b[39;49m_serialize_to_msgpack(value)\n",
      "File \u001b[0;32m~/mambaforge/envs/rosettaprise/lib/python3.9/site-packages/ray/serialization.py:399\u001b[0m, in \u001b[0;36mSerializationContext._serialize_to_msgpack\u001b[0;34m(self, value)\u001b[0m\n\u001b[1;32m    397\u001b[0m \u001b[39mif\u001b[39;00m python_objects:\n\u001b[1;32m    398\u001b[0m     metadata \u001b[39m=\u001b[39m ray_constants\u001b[39m.\u001b[39mOBJECT_METADATA_TYPE_PYTHON\n\u001b[0;32m--> 399\u001b[0m     pickle5_serialized_object \u001b[39m=\u001b[39m \u001b[39mself\u001b[39;49m\u001b[39m.\u001b[39;49m_serialize_to_pickle5(\n\u001b[1;32m    400\u001b[0m         metadata, python_objects\n\u001b[1;32m    401\u001b[0m     )\n\u001b[1;32m    402\u001b[0m \u001b[39melse\u001b[39;00m:\n\u001b[1;32m    403\u001b[0m     pickle5_serialized_object \u001b[39m=\u001b[39m \u001b[39mNone\u001b[39;00m\n",
      "File \u001b[0;32m~/mambaforge/envs/rosettaprise/lib/python3.9/site-packages/ray/serialization.py:356\u001b[0m, in \u001b[0;36mSerializationContext._serialize_to_pickle5\u001b[0;34m(self, metadata, value)\u001b[0m\n\u001b[1;32m    354\u001b[0m \u001b[39mtry\u001b[39;00m:\n\u001b[1;32m    355\u001b[0m     \u001b[39mself\u001b[39m\u001b[39m.\u001b[39mset_in_band_serialization()\n\u001b[0;32m--> 356\u001b[0m     inband \u001b[39m=\u001b[39m pickle\u001b[39m.\u001b[39;49mdumps(\n\u001b[1;32m    357\u001b[0m         value, protocol\u001b[39m=\u001b[39;49m\u001b[39m5\u001b[39;49m, buffer_callback\u001b[39m=\u001b[39;49mwriter\u001b[39m.\u001b[39;49mbuffer_callback\n\u001b[1;32m    358\u001b[0m     )\n\u001b[1;32m    359\u001b[0m \u001b[39mexcept\u001b[39;00m \u001b[39mException\u001b[39;00m \u001b[39mas\u001b[39;00m e:\n\u001b[1;32m    360\u001b[0m     \u001b[39mself\u001b[39m\u001b[39m.\u001b[39mget_and_clear_contained_object_refs()\n",
      "File \u001b[0;32m~/mambaforge/envs/rosettaprise/lib/python3.9/site-packages/ray/cloudpickle/cloudpickle_fast.py:73\u001b[0m, in \u001b[0;36mdumps\u001b[0;34m(obj, protocol, buffer_callback)\u001b[0m\n\u001b[1;32m     69\u001b[0m \u001b[39mwith\u001b[39;00m io\u001b[39m.\u001b[39mBytesIO() \u001b[39mas\u001b[39;00m file:\n\u001b[1;32m     70\u001b[0m     cp \u001b[39m=\u001b[39m CloudPickler(\n\u001b[1;32m     71\u001b[0m         file, protocol\u001b[39m=\u001b[39mprotocol, buffer_callback\u001b[39m=\u001b[39mbuffer_callback\n\u001b[1;32m     72\u001b[0m     )\n\u001b[0;32m---> 73\u001b[0m     cp\u001b[39m.\u001b[39;49mdump(obj)\n\u001b[1;32m     74\u001b[0m     \u001b[39mreturn\u001b[39;00m file\u001b[39m.\u001b[39mgetvalue()\n",
      "File \u001b[0;32m~/mambaforge/envs/rosettaprise/lib/python3.9/site-packages/ray/cloudpickle/cloudpickle_fast.py:620\u001b[0m, in \u001b[0;36mCloudPickler.dump\u001b[0;34m(self, obj)\u001b[0m\n\u001b[1;32m    618\u001b[0m \u001b[39mdef\u001b[39;00m \u001b[39mdump\u001b[39m(\u001b[39mself\u001b[39m, obj):\n\u001b[1;32m    619\u001b[0m     \u001b[39mtry\u001b[39;00m:\n\u001b[0;32m--> 620\u001b[0m         \u001b[39mreturn\u001b[39;00m Pickler\u001b[39m.\u001b[39;49mdump(\u001b[39mself\u001b[39;49m, obj)\n\u001b[1;32m    621\u001b[0m     \u001b[39mexcept\u001b[39;00m \u001b[39mRuntimeError\u001b[39;00m \u001b[39mas\u001b[39;00m e:\n\u001b[1;32m    622\u001b[0m         \u001b[39mif\u001b[39;00m \u001b[39m\"\u001b[39m\u001b[39mrecursion\u001b[39m\u001b[39m\"\u001b[39m \u001b[39min\u001b[39;00m e\u001b[39m.\u001b[39margs[\u001b[39m0\u001b[39m]:\n",
      "File \u001b[0;32m~/mambaforge/envs/rosettaprise/lib/python3.9/site-packages/ray/cloudpickle/cloudpickle_fast.py:715\u001b[0m, in \u001b[0;36mCloudPickler.reducer_override\u001b[0;34m(self, obj)\u001b[0m\n\u001b[1;32m    713\u001b[0m     \u001b[39mreturn\u001b[39;00m _class_reduce(obj)\n\u001b[1;32m    714\u001b[0m \u001b[39melif\u001b[39;00m \u001b[39misinstance\u001b[39m(obj, types\u001b[39m.\u001b[39mFunctionType):\n\u001b[0;32m--> 715\u001b[0m     \u001b[39mreturn\u001b[39;00m \u001b[39mself\u001b[39;49m\u001b[39m.\u001b[39;49m_function_reduce(obj)\n\u001b[1;32m    716\u001b[0m \u001b[39melse\u001b[39;00m:\n\u001b[1;32m    717\u001b[0m     \u001b[39m# fallback to save_global, including the Pickler's\u001b[39;00m\n\u001b[1;32m    718\u001b[0m     \u001b[39m# dispatch_table\u001b[39;00m\n\u001b[1;32m    719\u001b[0m     \u001b[39mreturn\u001b[39;00m \u001b[39mNotImplemented\u001b[39m\n",
      "File \u001b[0;32m~/mambaforge/envs/rosettaprise/lib/python3.9/site-packages/ray/cloudpickle/cloudpickle_fast.py:583\u001b[0m, in \u001b[0;36mCloudPickler._function_reduce\u001b[0;34m(self, obj)\u001b[0m\n\u001b[1;32m    581\u001b[0m     \u001b[39mreturn\u001b[39;00m \u001b[39mNotImplemented\u001b[39m\n\u001b[1;32m    582\u001b[0m \u001b[39melse\u001b[39;00m:\n\u001b[0;32m--> 583\u001b[0m     \u001b[39mreturn\u001b[39;00m \u001b[39mself\u001b[39;49m\u001b[39m.\u001b[39;49m_dynamic_function_reduce(obj)\n",
      "File \u001b[0;32m~/mambaforge/envs/rosettaprise/lib/python3.9/site-packages/ray/cloudpickle/cloudpickle_fast.py:564\u001b[0m, in \u001b[0;36mCloudPickler._dynamic_function_reduce\u001b[0;34m(self, func)\u001b[0m\n\u001b[1;32m    562\u001b[0m \u001b[39m\"\"\"Reduce a function that is not pickleable via attribute lookup.\"\"\"\u001b[39;00m\n\u001b[1;32m    563\u001b[0m newargs \u001b[39m=\u001b[39m \u001b[39mself\u001b[39m\u001b[39m.\u001b[39m_function_getnewargs(func)\n\u001b[0;32m--> 564\u001b[0m state \u001b[39m=\u001b[39m _function_getstate(func)\n\u001b[1;32m    565\u001b[0m \u001b[39mreturn\u001b[39;00m (types\u001b[39m.\u001b[39mFunctionType, newargs, state, \u001b[39mNone\u001b[39;00m, \u001b[39mNone\u001b[39;00m,\n\u001b[1;32m    566\u001b[0m         _function_setstate)\n",
      "File \u001b[0;32m~/mambaforge/envs/rosettaprise/lib/python3.9/site-packages/ray/cloudpickle/cloudpickle_fast.py:170\u001b[0m, in \u001b[0;36m_function_getstate\u001b[0;34m(func)\u001b[0m\n\u001b[1;32m    161\u001b[0m closure_values \u001b[39m=\u001b[39m (\n\u001b[1;32m    162\u001b[0m     \u001b[39mlist\u001b[39m(\u001b[39mmap\u001b[39m(_get_cell_contents, func\u001b[39m.\u001b[39m\u001b[39m__closure__\u001b[39m))\n\u001b[1;32m    163\u001b[0m     \u001b[39mif\u001b[39;00m func\u001b[39m.\u001b[39m\u001b[39m__closure__\u001b[39m \u001b[39mis\u001b[39;00m \u001b[39mnot\u001b[39;00m \u001b[39mNone\u001b[39;00m \u001b[39melse\u001b[39;00m ()\n\u001b[1;32m    164\u001b[0m )\n\u001b[1;32m    166\u001b[0m \u001b[39m# Extract currently-imported submodules used by func. Storing these modules\u001b[39;00m\n\u001b[1;32m    167\u001b[0m \u001b[39m# in a smoke _cloudpickle_subimports attribute of the object's state will\u001b[39;00m\n\u001b[1;32m    168\u001b[0m \u001b[39m# trigger the side effect of importing these modules at unpickling time\u001b[39;00m\n\u001b[1;32m    169\u001b[0m \u001b[39m# (which is necessary for func to work correctly once depickled)\u001b[39;00m\n\u001b[0;32m--> 170\u001b[0m slotstate[\u001b[39m\"\u001b[39m\u001b[39m_cloudpickle_submodules\u001b[39m\u001b[39m\"\u001b[39m] \u001b[39m=\u001b[39m _find_imported_submodules(\n\u001b[1;32m    171\u001b[0m     func\u001b[39m.\u001b[39;49m\u001b[39m__code__\u001b[39;49m, itertools\u001b[39m.\u001b[39;49mchain(f_globals\u001b[39m.\u001b[39;49mvalues(), closure_values))\n\u001b[1;32m    172\u001b[0m slotstate[\u001b[39m\"\u001b[39m\u001b[39m__globals__\u001b[39m\u001b[39m\"\u001b[39m] \u001b[39m=\u001b[39m f_globals\n\u001b[1;32m    174\u001b[0m state \u001b[39m=\u001b[39m func\u001b[39m.\u001b[39m\u001b[39m__dict__\u001b[39m\n",
      "File \u001b[0;32m~/mambaforge/envs/rosettaprise/lib/python3.9/site-packages/ray/cloudpickle/cloudpickle.py:395\u001b[0m, in \u001b[0;36m_find_imported_submodules\u001b[0;34m(code, top_level_dependencies)\u001b[0m\n\u001b[1;32m    390\u001b[0m \u001b[39m# A concurrent thread could mutate sys.modules,\u001b[39;00m\n\u001b[1;32m    391\u001b[0m \u001b[39m# make sure we iterate over a copy to avoid exceptions\u001b[39;00m\n\u001b[1;32m    392\u001b[0m \u001b[39mfor\u001b[39;00m name \u001b[39min\u001b[39;00m \u001b[39mlist\u001b[39m(sys\u001b[39m.\u001b[39mmodules):\n\u001b[1;32m    393\u001b[0m     \u001b[39m# Older versions of pytest will add a \"None\" module to\u001b[39;00m\n\u001b[1;32m    394\u001b[0m     \u001b[39m# sys.modules.\u001b[39;00m\n\u001b[0;32m--> 395\u001b[0m     \u001b[39mif\u001b[39;00m name \u001b[39mis\u001b[39;00m \u001b[39mnot\u001b[39;00m \u001b[39mNone\u001b[39;00m \u001b[39mand\u001b[39;00m name\u001b[39m.\u001b[39;49mstartswith(prefix):\n\u001b[1;32m    396\u001b[0m         \u001b[39m# check whether the function can address the sub-module\u001b[39;00m\n\u001b[1;32m    397\u001b[0m         tokens \u001b[39m=\u001b[39m \u001b[39mset\u001b[39m(name[\u001b[39mlen\u001b[39m(prefix) :]\u001b[39m.\u001b[39msplit(\u001b[39m\"\u001b[39m\u001b[39m.\u001b[39m\u001b[39m\"\u001b[39m))\n\u001b[1;32m    398\u001b[0m         \u001b[39mif\u001b[39;00m \u001b[39mnot\u001b[39;00m tokens \u001b[39m-\u001b[39m \u001b[39mset\u001b[39m(code\u001b[39m.\u001b[39mco_names):\n",
      "\u001b[0;31mKeyboardInterrupt\u001b[0m: "
     ]
    }
   ],
   "source": [
    "sampler.sample()"
   ]
  },
  {
   "cell_type": "code",
   "execution_count": 177,
   "metadata": {},
   "outputs": [
    {
     "name": "stderr",
     "output_type": "stream",
     "text": [
      " 59%|█████▉    | 2949/5000 [3:17:17<2:27:15,  4.31s/it]"
     ]
    }
   ],
   "source": [
    "chain = sampler.sample()"
   ]
  },
  {
   "cell_type": "code",
   "execution_count": 149,
   "metadata": {},
   "outputs": [
    {
     "data": {
      "image/png": "[encoded data removed]",
      "text/plain": [
       "<Figure size 432x288 with 1 Axes>"
      ]
     },
     "metadata": {
      "needs_background": "light"
     },
     "output_type": "display_data"
    }
   ],
   "source": [
    "plt.plot(sampler.full_chain[200000::, 5])\n",
    "plt.show()"
   ]
  },
  {
   "cell_type": "code",
   "execution_count": 153,
   "metadata": {},
   "outputs": [
    {
     "data": {
      "text/plain": [
       "array([1246.65660108])"
      ]
     },
     "execution_count": 153,
     "metadata": {},
     "output_type": "execute_result"
    }
   ],
   "source": [
    "integrated_time(sampler.full_chain[200000::, 1], quiet=True)"
   ]
  },
  {
   "cell_type": "code",
   "execution_count": 171,
   "metadata": {},
   "outputs": [
    {
     "data": {
      "image/png": "[encoded data removed]",
      "text/plain": [
       "<Figure size 432x288 with 1 Axes>"
      ]
     },
     "metadata": {
      "needs_background": "light"
     },
     "output_type": "display_data"
    }
   ],
   "source": [
    "plt.hist(sampler.full_chain[200000::10, 20], bins=30)\n",
    "plt.show()"
   ]
  },
  {
   "cell_type": "code",
   "execution_count": 50,
   "metadata": {},
   "outputs": [
    {
     "data": {
      "image/png": "[encoded data removed]",
      "text/plain": [
       "<Figure size 432x288 with 1 Axes>"
      ]
     },
     "metadata": {
      "needs_background": "light"
     },
     "output_type": "display_data"
    }
   ],
   "source": [
    "plt.hist(chain2[::, 0], bins=30)\n",
    "plt.show()"
   ]
  },
  {
   "cell_type": "code",
   "execution_count": 72,
   "metadata": {},
   "outputs": [
    {
     "name": "stderr",
     "output_type": "stream",
     "text": [
      "/Users/aaron/Documents/GitHub/enterprise/enterprise/signals/parameter.py:62: RuntimeWarning: divide by zero encountered in log\n",
      "  logpdf = np.log(self.prior(value, **kwargs))\n"
     ]
    },
    {
     "name": "stdout",
     "output_type": "stream",
     "text": [
      "Finished 1.00 percent in 9.859322 s Acceptance rate = 0.688856Adding DE jump with weight 50\n",
      "Finished 99.90 percent in 1046.863978 s Acceptance rate = 0.238663\n",
      "Run Complete\n"
     ]
    }
   ],
   "source": [
    "x0 = np.hstack([p.sample() for p in pta.params])\n",
    "ndim = len(x0)\n",
    "cov = np.diag(np.ones(ndim))\n",
    "\n",
    "outDir = './chains/sngl/'\n",
    "\n",
    "sampler2 = ptmcmc(ndim, pta.get_lnprior, lambda x: 0, cov,\n",
    "                 outDir=outDir, resume=False)\n",
    "\n",
    "N = int(1e6)\n",
    "x0 = np.hstack([p.sample() for p in pta.params])\n",
    "sampler2.sample(x0, N, SCAMweight=30, AMweight=15, DEweight=50)"
   ]
  },
  {
   "cell_type": "code",
   "execution_count": 82,
   "metadata": {},
   "outputs": [
    {
     "name": "stderr",
     "output_type": "stream",
     "text": [
      "The chain is shorter than 50 times the integrated autocorrelation time for 1 parameter(s). Use this estimate with caution and run a longer chain!\n",
      "N/50 = 1598;\n",
      "tau: [2293.68965311]\n"
     ]
    },
    {
     "data": {
      "text/plain": [
       "array([2293.68965311])"
      ]
     },
     "execution_count": 82,
     "metadata": {},
     "output_type": "execute_result"
    }
   ],
   "source": [
    "integrated_time(chain2[20000:, 1], quiet=True)"
   ]
  },
  {
   "cell_type": "code",
   "execution_count": 73,
   "metadata": {},
   "outputs": [
    {
     "data": {
      "image/png": "[encoded data removed]",
      "text/plain": [
       "<Figure size 432x288 with 1 Axes>"
      ]
     },
     "metadata": {
      "needs_background": "light"
     },
     "output_type": "display_data"
    }
   ],
   "source": [
    "plt.hist(chain2[::, 2], bins=30)\n",
    "plt.show()"
   ]
  },
  {
   "cell_type": "code",
   "execution_count": 53,
   "metadata": {},
   "outputs": [],
   "source": [
    "outDir = './chains/sngl/'\n",
    "with open(outDir + 'chain_1.txt', 'r') as f:\n",
    "    chain2 = np.loadtxt(f)"
   ]
  },
  {
   "cell_type": "code",
   "execution_count": 54,
   "metadata": {},
   "outputs": [
    {
     "name": "stderr",
     "output_type": "stream",
     "text": [
      "The chain is shorter than 50 times the integrated autocorrelation time for 1 parameter(s). Use this estimate with caution and run a longer chain!\n",
      "N/50 = 1998;\n",
      "tau: [2043.73200205]\n"
     ]
    },
    {
     "data": {
      "text/plain": [
       "array([2043.73200205])"
      ]
     },
     "execution_count": 54,
     "metadata": {},
     "output_type": "execute_result"
    }
   ],
   "source": [
    "integrated_time(chain2[:, 1], quiet=True)"
   ]
  },
  {
   "cell_type": "code",
   "execution_count": 40,
   "metadata": {},
   "outputs": [
    {
     "data": {
      "image/png": "[encoded data removed]",
      "text/plain": [
       "<Figure size 432x288 with 1 Axes>"
      ]
     },
     "metadata": {
      "needs_background": "light"
     },
     "output_type": "display_data"
    }
   ],
   "source": [
    "counts, bins, __ = plt.hist(chain[::22, 0], bins=100, density=True, alpha=0.5)\n",
    "mean = np.mean(counts)\n",
    "sigma = np.std(counts)\n",
    "plt.axhline(mean, color='k')\n",
    "for i in range(1, 4):\n",
    "    plt.axhline(mean + i * sigma, color='orange')\n",
    "    plt.axhline(mean - i * sigma, color='orange')\n",
    "plt.ylim([mean - 5 * sigma, mean + 5 * sigma])\n",
    "plt.show()"
   ]
  },
  {
   "cell_type": "code",
   "execution_count": 9,
   "metadata": {},
   "outputs": [],
   "source": [
    "import pickle, json\n",
    "from enterprise_extensions.models import model_2a\n",
    "from enterprise.signals.parameter import sample as sample_params"
   ]
  },
  {
   "cell_type": "code",
   "execution_count": 10,
   "metadata": {},
   "outputs": [
    {
     "ename": "FileNotFoundError",
     "evalue": "[Errno 2] No such file or directory: '/Users/aaron/Documents/GitHub/12p5yr_stochastic_analysis/data/psrs.pkl'",
     "output_type": "error",
     "traceback": [
      "\u001b[0;31m---------------------------------------------------------------------------\u001b[0m",
      "\u001b[0;31mFileNotFoundError\u001b[0m                         Traceback (most recent call last)",
      "\u001b[1;32m/Users/aaron/Documents/GitHub/impulse_mcmc/prior_test.ipynb Cell 11'\u001b[0m in \u001b[0;36m<cell line: 1>\u001b[0;34m()\u001b[0m\n\u001b[0;32m----> <a href='vscode-notebook-cell:/Users/aaron/Documents/GitHub/impulse_mcmc/prior_test.ipynb#ch0000010?line=0'>1</a>\u001b[0m \u001b[39mwith\u001b[39;00m \u001b[39mopen\u001b[39;49m(\u001b[39m'\u001b[39;49m\u001b[39m/Users/aaron/Documents/GitHub/12p5yr_stochastic_analysis/data/psrs.pkl\u001b[39;49m\u001b[39m'\u001b[39;49m, \u001b[39m'\u001b[39;49m\u001b[39mrb\u001b[39;49m\u001b[39m'\u001b[39;49m) \u001b[39mas\u001b[39;00m f:\n\u001b[1;32m      <a href='vscode-notebook-cell:/Users/aaron/Documents/GitHub/impulse_mcmc/prior_test.ipynb#ch0000010?line=1'>2</a>\u001b[0m     psrs \u001b[39m=\u001b[39m pickle\u001b[39m.\u001b[39mload(f)\n\u001b[1;32m      <a href='vscode-notebook-cell:/Users/aaron/Documents/GitHub/impulse_mcmc/prior_test.ipynb#ch0000010?line=3'>4</a>\u001b[0m \u001b[39mwith\u001b[39;00m \u001b[39mopen\u001b[39m(\u001b[39m'\u001b[39m\u001b[39m/Users/aaron/Documents/GitHub/12p5yr_stochastic_analysis/data/channelized_12p5yr_v3_full_noisedict.json\u001b[39m\u001b[39m'\u001b[39m, \u001b[39m'\u001b[39m\u001b[39mr\u001b[39m\u001b[39m'\u001b[39m) \u001b[39mas\u001b[39;00m f:\n",
      "\u001b[0;31mFileNotFoundError\u001b[0m: [Errno 2] No such file or directory: '/Users/aaron/Documents/GitHub/12p5yr_stochastic_analysis/data/psrs.pkl'"
     ]
    }
   ],
   "source": [
    "with open('/Users/aaron/Documents/GitHub/12p5yr_stochastic_analysis/data/psrs.pkl', 'rb') as f:\n",
    "    psrs = pickle.load(f)\n",
    "\n",
    "with open('/Users/aaron/Documents/GitHub/12p5yr_stochastic_analysis/data/channelized_12p5yr_v3_full_noisedict.json', 'r') as f:\n",
    "    params = json.load(f)"
   ]
  },
  {
   "cell_type": "code",
   "execution_count": 73,
   "metadata": {},
   "outputs": [],
   "source": [
    "pta = model_2a(psrs, noisedict=params, gamma_common=4.33, n_gwbfreqs=5, tm_marg=True)"
   ]
  },
  {
   "cell_type": "code",
   "execution_count": 75,
   "metadata": {},
   "outputs": [],
   "source": [
    "x0 = np.array(list(sample_params(pta.params).values()))"
   ]
  },
  {
   "cell_type": "code",
   "execution_count": 77,
   "metadata": {},
   "outputs": [
    {
     "name": "stderr",
     "output_type": "stream",
     "text": [
      "  8%|▊         | 82/990 [01:24<15:32,  1.03s/it]\n"
     ]
    },
    {
     "ename": "LinAlgError",
     "evalue": "Matrix is not positive definite",
     "output_type": "error",
     "traceback": [
      "\u001b[0;31m---------------------------------------------------------------------------\u001b[0m",
      "\u001b[0;31mLinAlgError\u001b[0m                               Traceback (most recent call last)",
      "\u001b[0;32m~/Documents/samplers/impulse_mcmc/impulse/proposals.py\u001b[0m in \u001b[0;36mupdate\u001b[0;34m(self, **kwargs)\u001b[0m\n\u001b[1;32m     87\u001b[0m         \u001b[0;32mtry\u001b[0m\u001b[0;34m:\u001b[0m\u001b[0;34m\u001b[0m\u001b[0;34m\u001b[0m\u001b[0m\n\u001b[0;32m---> 88\u001b[0;31m             \u001b[0mself\u001b[0m\u001b[0;34m.\u001b[0m\u001b[0mcov_chol\u001b[0m \u001b[0;34m=\u001b[0m \u001b[0mnp\u001b[0m\u001b[0;34m.\u001b[0m\u001b[0mlinalg\u001b[0m\u001b[0;34m.\u001b[0m\u001b[0mcholesky\u001b[0m\u001b[0;34m(\u001b[0m\u001b[0mcov\u001b[0m\u001b[0;34m)\u001b[0m\u001b[0;34m\u001b[0m\u001b[0;34m\u001b[0m\u001b[0m\n\u001b[0m\u001b[1;32m     89\u001b[0m         \u001b[0;32mexcept\u001b[0m \u001b[0mLinAlgError\u001b[0m\u001b[0;34m:\u001b[0m\u001b[0;34m\u001b[0m\u001b[0;34m\u001b[0m\u001b[0m\n",
      "\u001b[0;32m<__array_function__ internals>\u001b[0m in \u001b[0;36mcholesky\u001b[0;34m(*args, **kwargs)\u001b[0m\n",
      "\u001b[0;32m~/mambaforge/envs/enterprise/lib/python3.9/site-packages/numpy/linalg/linalg.py\u001b[0m in \u001b[0;36mcholesky\u001b[0;34m(a)\u001b[0m\n\u001b[1;32m    762\u001b[0m     \u001b[0msignature\u001b[0m \u001b[0;34m=\u001b[0m \u001b[0;34m'D->D'\u001b[0m \u001b[0;32mif\u001b[0m \u001b[0misComplexType\u001b[0m\u001b[0;34m(\u001b[0m\u001b[0mt\u001b[0m\u001b[0;34m)\u001b[0m \u001b[0;32melse\u001b[0m \u001b[0;34m'd->d'\u001b[0m\u001b[0;34m\u001b[0m\u001b[0;34m\u001b[0m\u001b[0m\n\u001b[0;32m--> 763\u001b[0;31m     \u001b[0mr\u001b[0m \u001b[0;34m=\u001b[0m \u001b[0mgufunc\u001b[0m\u001b[0;34m(\u001b[0m\u001b[0ma\u001b[0m\u001b[0;34m,\u001b[0m \u001b[0msignature\u001b[0m\u001b[0;34m=\u001b[0m\u001b[0msignature\u001b[0m\u001b[0;34m,\u001b[0m \u001b[0mextobj\u001b[0m\u001b[0;34m=\u001b[0m\u001b[0mextobj\u001b[0m\u001b[0;34m)\u001b[0m\u001b[0;34m\u001b[0m\u001b[0;34m\u001b[0m\u001b[0m\n\u001b[0m\u001b[1;32m    764\u001b[0m     \u001b[0;32mreturn\u001b[0m \u001b[0mwrap\u001b[0m\u001b[0;34m(\u001b[0m\u001b[0mr\u001b[0m\u001b[0;34m.\u001b[0m\u001b[0mastype\u001b[0m\u001b[0;34m(\u001b[0m\u001b[0mresult_t\u001b[0m\u001b[0;34m,\u001b[0m \u001b[0mcopy\u001b[0m\u001b[0;34m=\u001b[0m\u001b[0;32mFalse\u001b[0m\u001b[0;34m)\u001b[0m\u001b[0;34m)\u001b[0m\u001b[0;34m\u001b[0m\u001b[0;34m\u001b[0m\u001b[0m\n",
      "\u001b[0;32m~/mambaforge/envs/enterprise/lib/python3.9/site-packages/numpy/linalg/linalg.py\u001b[0m in \u001b[0;36m_raise_linalgerror_nonposdef\u001b[0;34m(err, flag)\u001b[0m\n\u001b[1;32m     90\u001b[0m \u001b[0;32mdef\u001b[0m \u001b[0m_raise_linalgerror_nonposdef\u001b[0m\u001b[0;34m(\u001b[0m\u001b[0merr\u001b[0m\u001b[0;34m,\u001b[0m \u001b[0mflag\u001b[0m\u001b[0;34m)\u001b[0m\u001b[0;34m:\u001b[0m\u001b[0;34m\u001b[0m\u001b[0;34m\u001b[0m\u001b[0m\n\u001b[0;32m---> 91\u001b[0;31m     \u001b[0;32mraise\u001b[0m \u001b[0mLinAlgError\u001b[0m\u001b[0;34m(\u001b[0m\u001b[0;34m\"Matrix is not positive definite\"\u001b[0m\u001b[0;34m)\u001b[0m\u001b[0;34m\u001b[0m\u001b[0;34m\u001b[0m\u001b[0m\n\u001b[0m\u001b[1;32m     92\u001b[0m \u001b[0;34m\u001b[0m\u001b[0m\n",
      "\u001b[0;31mLinAlgError\u001b[0m: Matrix is not positive definite",
      "\nDuring handling of the above exception, another exception occurred:\n",
      "\u001b[0;31mLinAlgError\u001b[0m                               Traceback (most recent call last)",
      "\u001b[0;32m/var/folders/2k/k752fw_d4gd91qly20lhwgg40000gn/T/ipykernel_29942/578319697.py\u001b[0m in \u001b[0;36m<module>\u001b[0;34m\u001b[0m\n\u001b[0;32m----> 1\u001b[0;31m \u001b[0mchain\u001b[0m \u001b[0;34m=\u001b[0m \u001b[0msample\u001b[0m\u001b[0;34m(\u001b[0m\u001b[0mpta\u001b[0m\u001b[0;34m.\u001b[0m\u001b[0mget_lnprior\u001b[0m\u001b[0;34m,\u001b[0m \u001b[0mlen\u001b[0m\u001b[0;34m(\u001b[0m\u001b[0mpta\u001b[0m\u001b[0;34m.\u001b[0m\u001b[0mparams\u001b[0m\u001b[0;34m)\u001b[0m\u001b[0;34m,\u001b[0m \u001b[0mx0\u001b[0m\u001b[0;34m,\u001b[0m \u001b[0mnum_samples\u001b[0m\u001b[0;34m=\u001b[0m\u001b[0;36m1_000_000\u001b[0m\u001b[0;34m)\u001b[0m\u001b[0;34m\u001b[0m\u001b[0;34m\u001b[0m\u001b[0m\n\u001b[0m",
      "\u001b[0;32m~/Documents/samplers/impulse_mcmc/impulse/impulse.py\u001b[0m in \u001b[0;36msample\u001b[0;34m(post, ndim, x0, num_samples, loop_iterations, save, outdir, compress)\u001b[0m\n\u001b[1;32m     32\u001b[0m         \u001b[0msampler\u001b[0m\u001b[0;34m.\u001b[0m\u001b[0msave_samples\u001b[0m\u001b[0;34m(\u001b[0m\u001b[0moutdir\u001b[0m\u001b[0;34m)\u001b[0m\u001b[0;34m\u001b[0m\u001b[0;34m\u001b[0m\u001b[0m\n\u001b[1;32m     33\u001b[0m         \u001b[0mfull_chain\u001b[0m\u001b[0;34m[\u001b[0m\u001b[0mcount\u001b[0m\u001b[0;34m:\u001b[0m\u001b[0mcount\u001b[0m \u001b[0;34m+\u001b[0m \u001b[0mloop_iterations\u001b[0m\u001b[0;34m,\u001b[0m \u001b[0;34m:\u001b[0m\u001b[0;34m]\u001b[0m \u001b[0;34m=\u001b[0m \u001b[0mchain\u001b[0m\u001b[0;34m\u001b[0m\u001b[0;34m\u001b[0m\u001b[0m\n\u001b[0;32m---> 34\u001b[0;31m         \u001b[0mmix\u001b[0m\u001b[0;34m.\u001b[0m\u001b[0mupdate\u001b[0m\u001b[0;34m(\u001b[0m\u001b[0mloop_iterations\u001b[0m\u001b[0;34m,\u001b[0m \u001b[0mchain\u001b[0m\u001b[0;34m,\u001b[0m \u001b[0mfull_chain\u001b[0m\u001b[0;34m=\u001b[0m\u001b[0mfull_chain\u001b[0m\u001b[0;34m)\u001b[0m\u001b[0;34m\u001b[0m\u001b[0;34m\u001b[0m\u001b[0m\n\u001b[0m\u001b[1;32m     35\u001b[0m         \u001b[0mx0\u001b[0m \u001b[0;34m=\u001b[0m \u001b[0mchain\u001b[0m\u001b[0;34m[\u001b[0m\u001b[0;34m-\u001b[0m\u001b[0;36m1\u001b[0m\u001b[0;34m]\u001b[0m\u001b[0;34m\u001b[0m\u001b[0;34m\u001b[0m\u001b[0m\n\u001b[1;32m     36\u001b[0m         \u001b[0mcount\u001b[0m \u001b[0;34m+=\u001b[0m \u001b[0mloop_iterations\u001b[0m\u001b[0;34m\u001b[0m\u001b[0;34m\u001b[0m\u001b[0m\n",
      "\u001b[0;32m~/Documents/samplers/impulse_mcmc/impulse/proposals.py\u001b[0m in \u001b[0;36mupdate\u001b[0;34m(self, old_length, new_chain, **kwargs)\u001b[0m\n\u001b[1;32m     24\u001b[0m         \u001b[0mself\u001b[0m\u001b[0;34m.\u001b[0m\u001b[0mmean\u001b[0m\u001b[0;34m,\u001b[0m \u001b[0mself\u001b[0m\u001b[0;34m.\u001b[0m\u001b[0mcov\u001b[0m \u001b[0;34m=\u001b[0m \u001b[0mupdate_covariance\u001b[0m\u001b[0;34m(\u001b[0m\u001b[0mold_length\u001b[0m\u001b[0;34m,\u001b[0m \u001b[0mself\u001b[0m\u001b[0;34m.\u001b[0m\u001b[0mcov\u001b[0m\u001b[0;34m,\u001b[0m \u001b[0mself\u001b[0m\u001b[0;34m.\u001b[0m\u001b[0mmean\u001b[0m\u001b[0;34m,\u001b[0m \u001b[0mnew_chain\u001b[0m\u001b[0;34m)\u001b[0m\u001b[0;34m\u001b[0m\u001b[0;34m\u001b[0m\u001b[0m\n\u001b[1;32m     25\u001b[0m         \u001b[0;32mfor\u001b[0m \u001b[0mproposal\u001b[0m \u001b[0;32min\u001b[0m \u001b[0mself\u001b[0m\u001b[0;34m.\u001b[0m\u001b[0mprop_list\u001b[0m\u001b[0;34m[\u001b[0m\u001b[0;36m0\u001b[0m\u001b[0;34m]\u001b[0m\u001b[0;34m:\u001b[0m\u001b[0;34m\u001b[0m\u001b[0;34m\u001b[0m\u001b[0m\n\u001b[0;32m---> 26\u001b[0;31m             \u001b[0mproposal\u001b[0m\u001b[0;34m.\u001b[0m\u001b[0mupdate\u001b[0m\u001b[0;34m(\u001b[0m\u001b[0mcov\u001b[0m\u001b[0;34m=\u001b[0m\u001b[0mself\u001b[0m\u001b[0;34m.\u001b[0m\u001b[0mcov\u001b[0m\u001b[0;34m,\u001b[0m \u001b[0mchain\u001b[0m\u001b[0;34m=\u001b[0m\u001b[0mchain\u001b[0m\u001b[0;34m)\u001b[0m\u001b[0;34m\u001b[0m\u001b[0;34m\u001b[0m\u001b[0m\n\u001b[0m\u001b[1;32m     27\u001b[0m \u001b[0;34m\u001b[0m\u001b[0m\n\u001b[1;32m     28\u001b[0m     \u001b[0;32mdef\u001b[0m \u001b[0m__call__\u001b[0m\u001b[0;34m(\u001b[0m\u001b[0mself\u001b[0m\u001b[0;34m,\u001b[0m \u001b[0mx\u001b[0m\u001b[0;34m)\u001b[0m\u001b[0;34m:\u001b[0m\u001b[0;34m\u001b[0m\u001b[0;34m\u001b[0m\u001b[0m\n",
      "\u001b[0;32m~/Documents/samplers/impulse_mcmc/impulse/proposals.py\u001b[0m in \u001b[0;36mupdate\u001b[0;34m(self, **kwargs)\u001b[0m\n\u001b[1;32m     88\u001b[0m             \u001b[0mself\u001b[0m\u001b[0;34m.\u001b[0m\u001b[0mcov_chol\u001b[0m \u001b[0;34m=\u001b[0m \u001b[0mnp\u001b[0m\u001b[0;34m.\u001b[0m\u001b[0mlinalg\u001b[0m\u001b[0;34m.\u001b[0m\u001b[0mcholesky\u001b[0m\u001b[0;34m(\u001b[0m\u001b[0mcov\u001b[0m\u001b[0;34m)\u001b[0m\u001b[0;34m\u001b[0m\u001b[0;34m\u001b[0m\u001b[0m\n\u001b[1;32m     89\u001b[0m         \u001b[0;32mexcept\u001b[0m \u001b[0mLinAlgError\u001b[0m\u001b[0;34m:\u001b[0m\u001b[0;34m\u001b[0m\u001b[0;34m\u001b[0m\u001b[0m\n\u001b[0;32m---> 90\u001b[0;31m             \u001b[0mself\u001b[0m\u001b[0;34m.\u001b[0m\u001b[0mcov_chol\u001b[0m \u001b[0;34m=\u001b[0m \u001b[0mnp\u001b[0m\u001b[0;34m.\u001b[0m\u001b[0mlinalg\u001b[0m\u001b[0;34m.\u001b[0m\u001b[0mcholesky\u001b[0m\u001b[0;34m(\u001b[0m\u001b[0mcov\u001b[0m \u001b[0;34m+\u001b[0m \u001b[0mnp\u001b[0m\u001b[0;34m.\u001b[0m\u001b[0meye\u001b[0m\u001b[0;34m(\u001b[0m\u001b[0mcov\u001b[0m\u001b[0;34m.\u001b[0m\u001b[0mshape\u001b[0m\u001b[0;34m[\u001b[0m\u001b[0;36m0\u001b[0m\u001b[0;34m]\u001b[0m\u001b[0;34m)\u001b[0m \u001b[0;34m*\u001b[0m \u001b[0;36m5e-15\u001b[0m\u001b[0;34m)\u001b[0m\u001b[0;34m\u001b[0m\u001b[0;34m\u001b[0m\u001b[0m\n\u001b[0m\u001b[1;32m     91\u001b[0m \u001b[0;34m\u001b[0m\u001b[0m\n\u001b[1;32m     92\u001b[0m     \u001b[0;32mdef\u001b[0m \u001b[0m__call__\u001b[0m\u001b[0;34m(\u001b[0m\u001b[0mself\u001b[0m\u001b[0;34m,\u001b[0m \u001b[0mx\u001b[0m\u001b[0;34m)\u001b[0m\u001b[0;34m:\u001b[0m\u001b[0;34m\u001b[0m\u001b[0;34m\u001b[0m\u001b[0m\n",
      "\u001b[0;32m<__array_function__ internals>\u001b[0m in \u001b[0;36mcholesky\u001b[0;34m(*args, **kwargs)\u001b[0m\n",
      "\u001b[0;32m~/mambaforge/envs/enterprise/lib/python3.9/site-packages/numpy/linalg/linalg.py\u001b[0m in \u001b[0;36mcholesky\u001b[0;34m(a)\u001b[0m\n\u001b[1;32m    761\u001b[0m     \u001b[0mt\u001b[0m\u001b[0;34m,\u001b[0m \u001b[0mresult_t\u001b[0m \u001b[0;34m=\u001b[0m \u001b[0m_commonType\u001b[0m\u001b[0;34m(\u001b[0m\u001b[0ma\u001b[0m\u001b[0;34m)\u001b[0m\u001b[0;34m\u001b[0m\u001b[0;34m\u001b[0m\u001b[0m\n\u001b[1;32m    762\u001b[0m     \u001b[0msignature\u001b[0m \u001b[0;34m=\u001b[0m \u001b[0;34m'D->D'\u001b[0m \u001b[0;32mif\u001b[0m \u001b[0misComplexType\u001b[0m\u001b[0;34m(\u001b[0m\u001b[0mt\u001b[0m\u001b[0;34m)\u001b[0m \u001b[0;32melse\u001b[0m \u001b[0;34m'd->d'\u001b[0m\u001b[0;34m\u001b[0m\u001b[0;34m\u001b[0m\u001b[0m\n\u001b[0;32m--> 763\u001b[0;31m     \u001b[0mr\u001b[0m \u001b[0;34m=\u001b[0m \u001b[0mgufunc\u001b[0m\u001b[0;34m(\u001b[0m\u001b[0ma\u001b[0m\u001b[0;34m,\u001b[0m \u001b[0msignature\u001b[0m\u001b[0;34m=\u001b[0m\u001b[0msignature\u001b[0m\u001b[0;34m,\u001b[0m \u001b[0mextobj\u001b[0m\u001b[0;34m=\u001b[0m\u001b[0mextobj\u001b[0m\u001b[0;34m)\u001b[0m\u001b[0;34m\u001b[0m\u001b[0;34m\u001b[0m\u001b[0m\n\u001b[0m\u001b[1;32m    764\u001b[0m     \u001b[0;32mreturn\u001b[0m \u001b[0mwrap\u001b[0m\u001b[0;34m(\u001b[0m\u001b[0mr\u001b[0m\u001b[0;34m.\u001b[0m\u001b[0mastype\u001b[0m\u001b[0;34m(\u001b[0m\u001b[0mresult_t\u001b[0m\u001b[0;34m,\u001b[0m \u001b[0mcopy\u001b[0m\u001b[0;34m=\u001b[0m\u001b[0;32mFalse\u001b[0m\u001b[0;34m)\u001b[0m\u001b[0;34m)\u001b[0m\u001b[0;34m\u001b[0m\u001b[0;34m\u001b[0m\u001b[0m\n\u001b[1;32m    765\u001b[0m \u001b[0;34m\u001b[0m\u001b[0m\n",
      "\u001b[0;32m~/mambaforge/envs/enterprise/lib/python3.9/site-packages/numpy/linalg/linalg.py\u001b[0m in \u001b[0;36m_raise_linalgerror_nonposdef\u001b[0;34m(err, flag)\u001b[0m\n\u001b[1;32m     89\u001b[0m \u001b[0;34m\u001b[0m\u001b[0m\n\u001b[1;32m     90\u001b[0m \u001b[0;32mdef\u001b[0m \u001b[0m_raise_linalgerror_nonposdef\u001b[0m\u001b[0;34m(\u001b[0m\u001b[0merr\u001b[0m\u001b[0;34m,\u001b[0m \u001b[0mflag\u001b[0m\u001b[0;34m)\u001b[0m\u001b[0;34m:\u001b[0m\u001b[0;34m\u001b[0m\u001b[0;34m\u001b[0m\u001b[0m\n\u001b[0;32m---> 91\u001b[0;31m     \u001b[0;32mraise\u001b[0m \u001b[0mLinAlgError\u001b[0m\u001b[0;34m(\u001b[0m\u001b[0;34m\"Matrix is not positive definite\"\u001b[0m\u001b[0;34m)\u001b[0m\u001b[0;34m\u001b[0m\u001b[0;34m\u001b[0m\u001b[0m\n\u001b[0m\u001b[1;32m     92\u001b[0m \u001b[0;34m\u001b[0m\u001b[0m\n\u001b[1;32m     93\u001b[0m \u001b[0;32mdef\u001b[0m \u001b[0m_raise_linalgerror_eigenvalues_nonconvergence\u001b[0m\u001b[0;34m(\u001b[0m\u001b[0merr\u001b[0m\u001b[0;34m,\u001b[0m \u001b[0mflag\u001b[0m\u001b[0;34m)\u001b[0m\u001b[0;34m:\u001b[0m\u001b[0;34m\u001b[0m\u001b[0;34m\u001b[0m\u001b[0m\n",
      "\u001b[0;31mLinAlgError\u001b[0m: Matrix is not positive definite"
     ]
    }
   ],
   "source": [
    "chain = sample(pta.get_lnprior, len(pta.params), x0, num_samples=1_000_000)"
   ]
  },
  {
   "cell_type": "code",
   "execution_count": null,
   "metadata": {},
   "outputs": [],
   "source": []
  }
 ],
 "metadata": {
  "interpreter": {
   "hash": "258a98146d7b1fc4fd042f4c4462c9ac0b2f193510c2bf5e68563398d2b8ef68"
  },
  "kernelspec": {
   "display_name": "Python 3.9.12 ('rosettaprise')",
   "language": "python",
   "name": "python3"
  },
  "language_info": {
   "codemirror_mode": {
    "name": "ipython",
    "version": 3
   },
   "file_extension": ".py",
   "mimetype": "text/x-python",
   "name": "python",
   "nbconvert_exporter": "python",
   "pygments_lexer": "ipython3",
   "version": "3.9.13"
  },
  "orig_nbformat": 4
 },
 "nbformat": 4,
 "nbformat_minor": 2
}
