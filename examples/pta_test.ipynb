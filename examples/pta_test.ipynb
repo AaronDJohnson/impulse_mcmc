{
 "cells": [
  {
   "cell_type": "code",
   "execution_count": 3,
   "metadata": {},
   "outputs": [
    {
     "name": "stdout",
     "output_type": "stream",
     "text": [
      "The autoreload extension is already loaded. To reload it, use:\n",
      "  %reload_ext autoreload\n"
     ]
    },
    {
     "ename": "ImportError",
     "evalue": "cannot import name 'sample' from 'impulse.base' (/Users/aaron/Documents/GitHub/impulse_mcmc/impulse/base.py)",
     "output_type": "error",
     "traceback": [
      "\u001b[0;31m---------------------------------------------------------------------------\u001b[0m",
      "\u001b[0;31mImportError\u001b[0m                               Traceback (most recent call last)",
      "\u001b[1;32m/Users/aaron/Documents/GitHub/impulse_mcmc/examples/pta_test.ipynb Cell 1\u001b[0m in \u001b[0;36m<cell line: 7>\u001b[0;34m()\u001b[0m\n\u001b[1;32m      <a href='vscode-notebook-cell:/Users/aaron/Documents/GitHub/impulse_mcmc/examples/pta_test.ipynb#ch0000000?line=4'>5</a>\u001b[0m \u001b[39mfrom\u001b[39;00m \u001b[39menterprise\u001b[39;00m\u001b[39m.\u001b[39;00m\u001b[39msignals\u001b[39;00m\u001b[39m.\u001b[39;00m\u001b[39mparameter\u001b[39;00m \u001b[39mimport\u001b[39;00m sample \u001b[39mas\u001b[39;00m sample_params\n\u001b[1;32m      <a href='vscode-notebook-cell:/Users/aaron/Documents/GitHub/impulse_mcmc/examples/pta_test.ipynb#ch0000000?line=5'>6</a>\u001b[0m \u001b[39mimport\u001b[39;00m \u001b[39mnumpy\u001b[39;00m \u001b[39mas\u001b[39;00m \u001b[39mnp\u001b[39;00m\n\u001b[0;32m----> <a href='vscode-notebook-cell:/Users/aaron/Documents/GitHub/impulse_mcmc/examples/pta_test.ipynb#ch0000000?line=6'>7</a>\u001b[0m \u001b[39mfrom\u001b[39;00m \u001b[39mimpulse\u001b[39;00m\u001b[39m.\u001b[39;00m\u001b[39mbase\u001b[39;00m \u001b[39mimport\u001b[39;00m sample, pt_sample\n\u001b[1;32m      <a href='vscode-notebook-cell:/Users/aaron/Documents/GitHub/impulse_mcmc/examples/pta_test.ipynb#ch0000000?line=7'>8</a>\u001b[0m \u001b[39mfrom\u001b[39;00m \u001b[39mimpulse\u001b[39;00m\u001b[39m.\u001b[39;00m\u001b[39mpta_utils\u001b[39;00m \u001b[39mimport\u001b[39;00m initial_sample\n\u001b[1;32m      <a href='vscode-notebook-cell:/Users/aaron/Documents/GitHub/impulse_mcmc/examples/pta_test.ipynb#ch0000000?line=8'>9</a>\u001b[0m \u001b[39mimport\u001b[39;00m \u001b[39mmatplotlib\u001b[39;00m\u001b[39m.\u001b[39;00m\u001b[39mpyplot\u001b[39;00m \u001b[39mas\u001b[39;00m \u001b[39mplt\u001b[39;00m\n",
      "\u001b[0;31mImportError\u001b[0m: cannot import name 'sample' from 'impulse.base' (/Users/aaron/Documents/GitHub/impulse_mcmc/impulse/base.py)"
     ]
    }
   ],
   "source": [
    "%load_ext autoreload\n",
    "%autoreload 2\n",
    "import pickle, json\n",
    "from enterprise_extensions.models import model_2a\n",
    "from enterprise.signals.parameter import sample as sample_params\n",
    "import numpy as np\n",
    "from impulse.base import sample, pt_sample\n",
    "from impulse.pta_utils import initial_sample\n",
    "import matplotlib.pyplot as plt\n",
    "from emcee.autocorr import integrated_time\n",
    "\n",
    "from PTMCMCSampler.PTMCMCSampler import PTSampler as ptmcmc"
   ]
  },
  {
   "cell_type": "code",
   "execution_count": 4,
   "metadata": {},
   "outputs": [
    {
     "name": "stderr",
     "output_type": "stream",
     "text": [
      "WARNING: AstropyDeprecationWarning: The private astropy._erfa module has been made into its own package, pyerfa, which is a dependency of astropy and can be imported directly using \"import erfa\" [astropy._erfa]\n"
     ]
    }
   ],
   "source": [
    "with open('/Users/aaron/Documents/GitHub/12p5yr_stochastic_analysis/tutorials/data/psrs.pkl', 'rb') as f:\n",
    "    psrs = pickle.load(f)\n",
    "\n",
    "with open('/Users/aaron/Documents/GitHub/12p5yr_stochastic_analysis/tutorials/data/channelized_12p5yr_v3_full_noisedict.json', 'r') as f:\n",
    "    params = json.load(f)"
   ]
  },
  {
   "cell_type": "code",
   "execution_count": 3,
   "metadata": {},
   "outputs": [],
   "source": [
    "pta = model_2a([psrs[0]], noisedict=params, gamma_common=4.33, n_gwbfreqs=5, tm_marg=True, tnequad=True, tm_svd=True)"
   ]
  },
  {
   "cell_type": "code",
   "execution_count": 4,
   "metadata": {},
   "outputs": [],
   "source": [
    "ntemps = 4\n",
    "nchains = None\n",
    "ndim, x0 = initial_sample(pta, ntemps, nchains)"
   ]
  },
  {
   "cell_type": "code",
   "execution_count": 5,
   "metadata": {},
   "outputs": [],
   "source": [
    "# res2 = pt_sample(pta.get_lnlikelihood, pta.get_lnprior, ndim, x0, ntemps=ntemps, tinf=True, num_samples=500_000, swap_count=100)"
   ]
  },
  {
   "cell_type": "code",
   "execution_count": 6,
   "metadata": {},
   "outputs": [
    {
     "name": "stderr",
     "output_type": "stream",
     "text": [
      "  0%|          | 0/500 [00:00<?, ?it/s]/Users/aaron/Documents/GitHub/enterprise/enterprise/signals/parameter.py:62: RuntimeWarning: divide by zero encountered in log\n",
      "  logpdf = np.log(self.prior(value, **kwargs))\n",
      "/Users/aaron/Documents/GitHub/impulse_mcmc/impulse/mhsampler.py:64: RuntimeWarning: invalid value encountered in double_scalars\n",
      "  lnprob_star = 1 / self.temp * lnlike_star + lnprior_star\n",
      "/Users/aaron/Documents/GitHub/enterprise/enterprise/signals/parameter.py:62: RuntimeWarning: divide by zero encountered in log\n",
      "  logpdf = np.log(self.prior(value, **kwargs))\n",
      "/Users/aaron/Documents/GitHub/impulse_mcmc/impulse/mhsampler.py:66: RuntimeWarning: invalid value encountered in double_scalars\n",
      "  hastings_ratio = lnprob_star - self.lnprob0 + factor\n",
      "/Users/aaron/Documents/GitHub/enterprise/enterprise/signals/parameter.py:62: RuntimeWarning: divide by zero encountered in log\n",
      "  logpdf = np.log(self.prior(value, **kwargs))\n",
      "/Users/aaron/Documents/GitHub/enterprise/enterprise/signals/parameter.py:62: RuntimeWarning: divide by zero encountered in log\n",
      "  logpdf = np.log(self.prior(value, **kwargs))\n",
      "/Users/aaron/Documents/GitHub/impulse_mcmc/impulse/mhsampler.py:66: RuntimeWarning: invalid value encountered in double_scalars\n",
      "  hastings_ratio = lnprob_star - self.lnprob0 + factor\n",
      "/Users/aaron/Documents/GitHub/enterprise/enterprise/signals/parameter.py:62: RuntimeWarning: divide by zero encountered in log\n",
      "  logpdf = np.log(self.prior(value, **kwargs))\n",
      "/Users/aaron/Documents/GitHub/impulse_mcmc/impulse/mhsampler.py:66: RuntimeWarning: invalid value encountered in double_scalars\n",
      "  hastings_ratio = lnprob_star - self.lnprob0 + factor\n",
      "/Users/aaron/Documents/GitHub/enterprise/enterprise/signals/parameter.py:62: RuntimeWarning: divide by zero encountered in log\n",
      "  logpdf = np.log(self.prior(value, **kwargs))\n",
      "/Users/aaron/Documents/GitHub/impulse_mcmc/impulse/mhsampler.py:66: RuntimeWarning: invalid value encountered in double_scalars\n",
      "  hastings_ratio = lnprob_star - self.lnprob0 + factor\n",
      "/Users/aaron/Documents/GitHub/enterprise/enterprise/signals/parameter.py:62: RuntimeWarning: divide by zero encountered in log\n",
      "  logpdf = np.log(self.prior(value, **kwargs))\n",
      "/Users/aaron/Documents/GitHub/impulse_mcmc/impulse/mhsampler.py:66: RuntimeWarning: invalid value encountered in double_scalars\n",
      "  hastings_ratio = lnprob_star - self.lnprob0 + factor\n",
      "/Users/aaron/Documents/GitHub/enterprise/enterprise/signals/parameter.py:62: RuntimeWarning: divide by zero encountered in log\n",
      "  logpdf = np.log(self.prior(value, **kwargs))\n",
      "/Users/aaron/Documents/GitHub/impulse_mcmc/impulse/mhsampler.py:66: RuntimeWarning: invalid value encountered in double_scalars\n",
      "  hastings_ratio = lnprob_star - self.lnprob0 + factor\n",
      "/Users/aaron/Documents/GitHub/enterprise/enterprise/signals/parameter.py:62: RuntimeWarning: divide by zero encountered in log\n",
      "  logpdf = np.log(self.prior(value, **kwargs))\n",
      "/Users/aaron/Documents/GitHub/impulse_mcmc/impulse/mhsampler.py:66: RuntimeWarning: invalid value encountered in double_scalars\n",
      "  hastings_ratio = lnprob_star - self.lnprob0 + factor\n",
      "/Users/aaron/Documents/GitHub/impulse_mcmc/impulse/mhsampler.py:66: RuntimeWarning: invalid value encountered in double_scalars\n",
      "  hastings_ratio = lnprob_star - self.lnprob0 + factor\n",
      "/Users/aaron/Documents/GitHub/enterprise/enterprise/signals/parameter.py:62: RuntimeWarning: divide by zero encountered in log\n",
      "  logpdf = np.log(self.prior(value, **kwargs))\n",
      "/Users/aaron/Documents/GitHub/impulse_mcmc/impulse/mhsampler.py:66: RuntimeWarning: invalid value encountered in double_scalars\n",
      "  hastings_ratio = lnprob_star - self.lnprob0 + factor\n",
      "/Users/aaron/Documents/GitHub/enterprise/enterprise/signals/parameter.py:62: RuntimeWarning: divide by zero encountered in log\n",
      "  logpdf = np.log(self.prior(value, **kwargs))\n",
      "/Users/aaron/Documents/GitHub/impulse_mcmc/impulse/mhsampler.py:66: RuntimeWarning: invalid value encountered in double_scalars\n",
      "  hastings_ratio = lnprob_star - self.lnprob0 + factor\n",
      "  0%|          | 2/500 [00:08<35:44,  4.31s/it]/Users/aaron/Documents/GitHub/impulse_mcmc/impulse/mhsampler.py:64: RuntimeWarning: invalid value encountered in double_scalars\n",
      "  lnprob_star = 1 / self.temp * lnlike_star + lnprior_star\n",
      "/Users/aaron/Documents/GitHub/impulse_mcmc/impulse/mhsampler.py:64: RuntimeWarning: invalid value encountered in double_scalars\n",
      "  lnprob_star = 1 / self.temp * lnlike_star + lnprior_star\n",
      "/Users/aaron/Documents/GitHub/impulse_mcmc/impulse/mhsampler.py:64: RuntimeWarning: invalid value encountered in double_scalars\n",
      "  lnprob_star = 1 / self.temp * lnlike_star + lnprior_star\n",
      "  1%|          | 4/500 [00:17<34:59,  4.23s/it]/Users/aaron/Documents/GitHub/impulse_mcmc/impulse/mhsampler.py:64: RuntimeWarning: invalid value encountered in double_scalars\n",
      "  lnprob_star = 1 / self.temp * lnlike_star + lnprior_star\n",
      "/Users/aaron/Documents/GitHub/impulse_mcmc/impulse/mhsampler.py:64: RuntimeWarning: invalid value encountered in double_scalars\n",
      "  lnprob_star = 1 / self.temp * lnlike_star + lnprior_star\n",
      "  1%|          | 6/500 [00:25<34:31,  4.19s/it]/Users/aaron/Documents/GitHub/impulse_mcmc/impulse/mhsampler.py:43: RuntimeWarning: invalid value encountered in double_scalars\n",
      "  self.lnprob0 = 1 / self.temp * self.lnlike_fn(x0) + self.lnprior_fn(x0)\n",
      "  2%|▏         | 9/500 [00:39<37:07,  4.54s/it]Process ForkPoolWorker-5:\n",
      "Process ForkPoolWorker-8:\n",
      "  2%|▏         | 9/500 [00:40<36:53,  4.51s/it]Process ForkPoolWorker-3:\n",
      "Process ForkPoolWorker-9:\n",
      "Process ForkPoolWorker-7:\n",
      "Process ForkPoolWorker-10:\n",
      "Process ForkPoolWorker-1:\n",
      "Process ForkPoolWorker-2:\n",
      "Process ForkPoolWorker-6:\n",
      "Process ForkPoolWorker-4:\n",
      "Traceback (most recent call last):\n",
      "Traceback (most recent call last):\n",
      "Traceback (most recent call last):\n",
      "Traceback (most recent call last):\n",
      "Traceback (most recent call last):\n",
      "Traceback (most recent call last):\n",
      "Traceback (most recent call last):\n",
      "Traceback (most recent call last):\n",
      "Traceback (most recent call last):\n",
      "\n",
      "Traceback (most recent call last):\n",
      "  File \"/Users/aaron/mambaforge/envs/rosettaprise/lib/python3.9/site-packages/multiprocess/process.py\", line 315, in _bootstrap\n",
      "    self.run()\n",
      "  File \"/Users/aaron/mambaforge/envs/rosettaprise/lib/python3.9/site-packages/multiprocess/process.py\", line 315, in _bootstrap\n",
      "    self.run()\n",
      "  File \"/Users/aaron/mambaforge/envs/rosettaprise/lib/python3.9/site-packages/multiprocess/process.py\", line 315, in _bootstrap\n",
      "    self.run()\n",
      "  File \"/Users/aaron/mambaforge/envs/rosettaprise/lib/python3.9/site-packages/multiprocess/process.py\", line 315, in _bootstrap\n",
      "    self.run()\n",
      "  File \"/Users/aaron/mambaforge/envs/rosettaprise/lib/python3.9/site-packages/multiprocess/process.py\", line 315, in _bootstrap\n",
      "    self.run()\n",
      "  File \"/Users/aaron/mambaforge/envs/rosettaprise/lib/python3.9/site-packages/multiprocess/process.py\", line 315, in _bootstrap\n",
      "    self.run()\n",
      "  File \"/Users/aaron/mambaforge/envs/rosettaprise/lib/python3.9/site-packages/multiprocess/process.py\", line 315, in _bootstrap\n",
      "    self.run()\n",
      "  File \"/Users/aaron/mambaforge/envs/rosettaprise/lib/python3.9/site-packages/multiprocess/process.py\", line 315, in _bootstrap\n",
      "    self.run()\n",
      "  File \"/Users/aaron/mambaforge/envs/rosettaprise/lib/python3.9/site-packages/multiprocess/process.py\", line 315, in _bootstrap\n",
      "    self.run()\n",
      "  File \"/Users/aaron/mambaforge/envs/rosettaprise/lib/python3.9/site-packages/multiprocess/process.py\", line 315, in _bootstrap\n",
      "    self.run()\n",
      "  File \"/Users/aaron/mambaforge/envs/rosettaprise/lib/python3.9/site-packages/multiprocess/process.py\", line 108, in run\n",
      "    self._target(*self._args, **self._kwargs)\n",
      "  File \"/Users/aaron/mambaforge/envs/rosettaprise/lib/python3.9/site-packages/multiprocess/process.py\", line 108, in run\n",
      "    self._target(*self._args, **self._kwargs)\n",
      "  File \"/Users/aaron/mambaforge/envs/rosettaprise/lib/python3.9/site-packages/multiprocess/process.py\", line 108, in run\n",
      "    self._target(*self._args, **self._kwargs)\n",
      "  File \"/Users/aaron/mambaforge/envs/rosettaprise/lib/python3.9/site-packages/multiprocess/process.py\", line 108, in run\n",
      "    self._target(*self._args, **self._kwargs)\n",
      "  File \"/Users/aaron/mambaforge/envs/rosettaprise/lib/python3.9/site-packages/multiprocess/process.py\", line 108, in run\n",
      "    self._target(*self._args, **self._kwargs)\n",
      "  File \"/Users/aaron/mambaforge/envs/rosettaprise/lib/python3.9/site-packages/multiprocess/process.py\", line 108, in run\n",
      "    self._target(*self._args, **self._kwargs)\n",
      "  File \"/Users/aaron/mambaforge/envs/rosettaprise/lib/python3.9/site-packages/multiprocess/process.py\", line 108, in run\n",
      "    self._target(*self._args, **self._kwargs)\n",
      "  File \"/Users/aaron/mambaforge/envs/rosettaprise/lib/python3.9/site-packages/multiprocess/process.py\", line 108, in run\n",
      "    self._target(*self._args, **self._kwargs)\n",
      "  File \"/Users/aaron/mambaforge/envs/rosettaprise/lib/python3.9/site-packages/multiprocess/process.py\", line 108, in run\n",
      "    self._target(*self._args, **self._kwargs)\n",
      "  File \"/Users/aaron/mambaforge/envs/rosettaprise/lib/python3.9/site-packages/multiprocess/process.py\", line 108, in run\n",
      "    self._target(*self._args, **self._kwargs)\n"
     ]
    },
    {
     "ename": "KeyboardInterrupt",
     "evalue": "",
     "output_type": "error",
     "traceback": [
      "\u001b[0;31m---------------------------------------------------------------------------\u001b[0m",
      "\u001b[0;31mKeyboardInterrupt\u001b[0m                         Traceback (most recent call last)",
      "\u001b[1;32m/Users/aaron/Documents/GitHub/impulse_mcmc/examples/pta_test.ipynb Cell 6'\u001b[0m in \u001b[0;36m<cell line: 1>\u001b[0;34m()\u001b[0m\n\u001b[0;32m----> <a href='vscode-notebook-cell:/Users/aaron/Documents/GitHub/impulse_mcmc/examples/pta_test.ipynb#ch0000005?line=0'>1</a>\u001b[0m res \u001b[39m=\u001b[39m pt_sample(pta\u001b[39m.\u001b[39;49mget_lnlikelihood, pta\u001b[39m.\u001b[39;49mget_lnprior, ndim, x0, ntemps\u001b[39m=\u001b[39;49mntemps, ncores\u001b[39m=\u001b[39;49mntemps, tinf\u001b[39m=\u001b[39;49m\u001b[39mTrue\u001b[39;49;00m, num_samples\u001b[39m=\u001b[39;49m\u001b[39m500_000\u001b[39;49m, swap_count\u001b[39m=\u001b[39;49m\u001b[39m100\u001b[39;49m, outdir\u001b[39m=\u001b[39;49m\u001b[39m'\u001b[39;49m\u001b[39m./chains\u001b[39;49m\u001b[39m'\u001b[39;49m, temp_dir\u001b[39m=\u001b[39;49m\u001b[39m'\u001b[39;49m\u001b[39m./temp_data\u001b[39;49m\u001b[39m'\u001b[39;49m, ret_chain\u001b[39m=\u001b[39;49m\u001b[39mTrue\u001b[39;49;00m)\n",
      "File \u001b[0;32m~/Documents/GitHub/impulse_mcmc/impulse/base.py:68\u001b[0m, in \u001b[0;36mpt_sample\u001b[0;34m(lnlike, lnprior, ndim, x0, num_samples, buf_size, amweight, scamweight, deweight, ntemps, ncores, tmin, tmax, tstep, swap_count, ladder, tinf, adapt, adapt_t0, adapt_nu, loop_iterations, outdir, temp_dir, ret_chain)\u001b[0m\n\u001b[1;32m     66\u001b[0m \u001b[39mfor\u001b[39;00m _ \u001b[39min\u001b[39;00m \u001b[39mrange\u001b[39m(loop_iterations \u001b[39m/\u001b[39m\u001b[39m/\u001b[39m swap_count):\n\u001b[1;32m     67\u001b[0m     \u001b[39mwith\u001b[39;00m Pool(processes\u001b[39m=\u001b[39m\u001b[39mmin\u001b[39m(ntemps, ncores)) \u001b[39mas\u001b[39;00m p:\n\u001b[0;32m---> 68\u001b[0m         res \u001b[39m=\u001b[39m p\u001b[39m.\u001b[39;49mmap(\u001b[39mlambda\u001b[39;49;00m sampler: sampler\u001b[39m.\u001b[39;49msample(), samplers)\n\u001b[1;32m     69\u001b[0m     \u001b[39mfor\u001b[39;00m ii \u001b[39min\u001b[39;00m \u001b[39mrange\u001b[39m(\u001b[39mlen\u001b[39m(res)):\n\u001b[1;32m     70\u001b[0m         (chain[swap_tot:swap_tot \u001b[39m+\u001b[39m swap_count, :, ii],\n\u001b[1;32m     71\u001b[0m          lnlike_arr[swap_tot:swap_tot \u001b[39m+\u001b[39m swap_count, ii],\n\u001b[1;32m     72\u001b[0m          lnprob_arr[swap_tot:swap_tot \u001b[39m+\u001b[39m swap_count, ii],\n\u001b[1;32m     73\u001b[0m          accept_arr[swap_tot:swap_tot \u001b[39m+\u001b[39m swap_count, ii]) \u001b[39m=\u001b[39m res[ii]\n",
      "File \u001b[0;32m~/mambaforge/envs/rosettaprise/lib/python3.9/site-packages/pathos/multiprocessing.py:139\u001b[0m, in \u001b[0;36mProcessPool.map\u001b[0;34m(self, f, *args, **kwds)\u001b[0m\n\u001b[1;32m    137\u001b[0m AbstractWorkerPool\u001b[39m.\u001b[39m_AbstractWorkerPool__map(\u001b[39mself\u001b[39m, f, \u001b[39m*\u001b[39margs, \u001b[39m*\u001b[39m\u001b[39m*\u001b[39mkwds)\n\u001b[1;32m    138\u001b[0m _pool \u001b[39m=\u001b[39m \u001b[39mself\u001b[39m\u001b[39m.\u001b[39m_serve()\n\u001b[0;32m--> 139\u001b[0m \u001b[39mreturn\u001b[39;00m _pool\u001b[39m.\u001b[39;49mmap(star(f), \u001b[39mzip\u001b[39;49m(\u001b[39m*\u001b[39;49margs))\n",
      "File \u001b[0;32m~/mambaforge/envs/rosettaprise/lib/python3.9/site-packages/multiprocess/pool.py:364\u001b[0m, in \u001b[0;36mPool.map\u001b[0;34m(self, func, iterable, chunksize)\u001b[0m\n\u001b[1;32m    359\u001b[0m \u001b[39mdef\u001b[39;00m \u001b[39mmap\u001b[39m(\u001b[39mself\u001b[39m, func, iterable, chunksize\u001b[39m=\u001b[39m\u001b[39mNone\u001b[39;00m):\n\u001b[1;32m    360\u001b[0m     \u001b[39m'''\u001b[39;00m\n\u001b[1;32m    361\u001b[0m \u001b[39m    Apply `func` to each element in `iterable`, collecting the results\u001b[39;00m\n\u001b[1;32m    362\u001b[0m \u001b[39m    in a list that is returned.\u001b[39;00m\n\u001b[1;32m    363\u001b[0m \u001b[39m    '''\u001b[39;00m\n\u001b[0;32m--> 364\u001b[0m     \u001b[39mreturn\u001b[39;00m \u001b[39mself\u001b[39;49m\u001b[39m.\u001b[39;49m_map_async(func, iterable, mapstar, chunksize)\u001b[39m.\u001b[39;49mget()\n",
      "File \u001b[0;32m~/mambaforge/envs/rosettaprise/lib/python3.9/site-packages/multiprocess/pool.py:765\u001b[0m, in \u001b[0;36mApplyResult.get\u001b[0;34m(self, timeout)\u001b[0m\n\u001b[1;32m    764\u001b[0m \u001b[39mdef\u001b[39;00m \u001b[39mget\u001b[39m(\u001b[39mself\u001b[39m, timeout\u001b[39m=\u001b[39m\u001b[39mNone\u001b[39;00m):\n\u001b[0;32m--> 765\u001b[0m     \u001b[39mself\u001b[39;49m\u001b[39m.\u001b[39;49mwait(timeout)\n\u001b[1;32m    766\u001b[0m     \u001b[39mif\u001b[39;00m \u001b[39mnot\u001b[39;00m \u001b[39mself\u001b[39m\u001b[39m.\u001b[39mready():\n\u001b[1;32m    767\u001b[0m         \u001b[39mraise\u001b[39;00m \u001b[39mTimeoutError\u001b[39;00m\n",
      "File \u001b[0;32m~/mambaforge/envs/rosettaprise/lib/python3.9/site-packages/multiprocess/pool.py:762\u001b[0m, in \u001b[0;36mApplyResult.wait\u001b[0;34m(self, timeout)\u001b[0m\n\u001b[1;32m    761\u001b[0m \u001b[39mdef\u001b[39;00m \u001b[39mwait\u001b[39m(\u001b[39mself\u001b[39m, timeout\u001b[39m=\u001b[39m\u001b[39mNone\u001b[39;00m):\n\u001b[0;32m--> 762\u001b[0m     \u001b[39mself\u001b[39;49m\u001b[39m.\u001b[39;49m_event\u001b[39m.\u001b[39;49mwait(timeout)\n",
      "File \u001b[0;32m~/mambaforge/envs/rosettaprise/lib/python3.9/threading.py:574\u001b[0m, in \u001b[0;36mEvent.wait\u001b[0;34m(self, timeout)\u001b[0m\n\u001b[1;32m    572\u001b[0m signaled \u001b[39m=\u001b[39m \u001b[39mself\u001b[39m\u001b[39m.\u001b[39m_flag\n\u001b[1;32m    573\u001b[0m \u001b[39mif\u001b[39;00m \u001b[39mnot\u001b[39;00m signaled:\n\u001b[0;32m--> 574\u001b[0m     signaled \u001b[39m=\u001b[39m \u001b[39mself\u001b[39;49m\u001b[39m.\u001b[39;49m_cond\u001b[39m.\u001b[39;49mwait(timeout)\n\u001b[1;32m    575\u001b[0m \u001b[39mreturn\u001b[39;00m signaled\n",
      "File \u001b[0;32m~/mambaforge/envs/rosettaprise/lib/python3.9/threading.py:312\u001b[0m, in \u001b[0;36mCondition.wait\u001b[0;34m(self, timeout)\u001b[0m\n\u001b[1;32m    310\u001b[0m \u001b[39mtry\u001b[39;00m:    \u001b[39m# restore state no matter what (e.g., KeyboardInterrupt)\u001b[39;00m\n\u001b[1;32m    311\u001b[0m     \u001b[39mif\u001b[39;00m timeout \u001b[39mis\u001b[39;00m \u001b[39mNone\u001b[39;00m:\n\u001b[0;32m--> 312\u001b[0m         waiter\u001b[39m.\u001b[39;49macquire()\n\u001b[1;32m    313\u001b[0m         gotit \u001b[39m=\u001b[39m \u001b[39mTrue\u001b[39;00m\n\u001b[1;32m    314\u001b[0m     \u001b[39melse\u001b[39;00m:\n",
      "\u001b[0;31mKeyboardInterrupt\u001b[0m: "
     ]
    },
    {
     "name": "stderr",
     "output_type": "stream",
     "text": [
      "  File \"/Users/aaron/mambaforge/envs/rosettaprise/lib/python3.9/site-packages/multiprocess/pool.py\", line 114, in worker\n",
      "    task = get()\n",
      "  File \"/Users/aaron/mambaforge/envs/rosettaprise/lib/python3.9/site-packages/multiprocess/pool.py\", line 114, in worker\n",
      "    task = get()\n",
      "  File \"/Users/aaron/mambaforge/envs/rosettaprise/lib/python3.9/site-packages/multiprocess/pool.py\", line 114, in worker\n",
      "    task = get()\n",
      "  File \"/Users/aaron/mambaforge/envs/rosettaprise/lib/python3.9/site-packages/multiprocess/pool.py\", line 114, in worker\n",
      "    task = get()\n",
      "  File \"/Users/aaron/mambaforge/envs/rosettaprise/lib/python3.9/site-packages/multiprocess/pool.py\", line 114, in worker\n",
      "    task = get()\n",
      "  File \"/Users/aaron/mambaforge/envs/rosettaprise/lib/python3.9/site-packages/multiprocess/pool.py\", line 114, in worker\n",
      "    task = get()\n",
      "  File \"/Users/aaron/mambaforge/envs/rosettaprise/lib/python3.9/site-packages/multiprocess/pool.py\", line 114, in worker\n",
      "    task = get()\n",
      "  File \"/Users/aaron/mambaforge/envs/rosettaprise/lib/python3.9/site-packages/multiprocess/pool.py\", line 114, in worker\n",
      "    task = get()\n",
      "  File \"/Users/aaron/mambaforge/envs/rosettaprise/lib/python3.9/site-packages/multiprocess/pool.py\", line 114, in worker\n",
      "    task = get()\n",
      "  File \"/Users/aaron/mambaforge/envs/rosettaprise/lib/python3.9/site-packages/multiprocess/pool.py\", line 114, in worker\n",
      "    task = get()\n"
     ]
    },
    {
     "name": "stderr",
     "output_type": "stream",
     "text": [
      "  File \"/Users/aaron/mambaforge/envs/rosettaprise/lib/python3.9/site-packages/multiprocess/queues.py\", line 367, in get\n",
      "    with self._rlock:\n",
      "  File \"/Users/aaron/mambaforge/envs/rosettaprise/lib/python3.9/site-packages/multiprocess/queues.py\", line 367, in get\n",
      "    with self._rlock:\n",
      "  File \"/Users/aaron/mambaforge/envs/rosettaprise/lib/python3.9/site-packages/multiprocess/queues.py\", line 368, in get\n",
      "    res = self._reader.recv_bytes()\n",
      "  File \"/Users/aaron/mambaforge/envs/rosettaprise/lib/python3.9/site-packages/multiprocess/queues.py\", line 367, in get\n",
      "    with self._rlock:\n",
      "  File \"/Users/aaron/mambaforge/envs/rosettaprise/lib/python3.9/site-packages/multiprocess/queues.py\", line 367, in get\n",
      "    with self._rlock:\n",
      "  File \"/Users/aaron/mambaforge/envs/rosettaprise/lib/python3.9/site-packages/multiprocess/queues.py\", line 367, in get\n",
      "    with self._rlock:\n",
      "  File \"/Users/aaron/mambaforge/envs/rosettaprise/lib/python3.9/site-packages/multiprocess/queues.py\", line 367, in get\n",
      "    with self._rlock:\n",
      "  File \"/Users/aaron/mambaforge/envs/rosettaprise/lib/python3.9/site-packages/multiprocess/queues.py\", line 370, in get\n",
      "    return _ForkingPickler.loads(res)\n",
      "  File \"/Users/aaron/mambaforge/envs/rosettaprise/lib/python3.9/site-packages/multiprocess/queues.py\", line 367, in get\n",
      "    with self._rlock:\n",
      "  File \"/Users/aaron/mambaforge/envs/rosettaprise/lib/python3.9/site-packages/multiprocess/synchronize.py\", line 101, in __enter__\n",
      "    return self._semlock.__enter__()\n",
      "  File \"/Users/aaron/mambaforge/envs/rosettaprise/lib/python3.9/site-packages/multiprocess/queues.py\", line 367, in get\n",
      "    with self._rlock:\n",
      "  File \"/Users/aaron/mambaforge/envs/rosettaprise/lib/python3.9/site-packages/multiprocess/synchronize.py\", line 101, in __enter__\n",
      "    return self._semlock.__enter__()\n",
      "  File \"/Users/aaron/mambaforge/envs/rosettaprise/lib/python3.9/site-packages/multiprocess/synchronize.py\", line 101, in __enter__\n",
      "    return self._semlock.__enter__()\n",
      "  File \"/Users/aaron/mambaforge/envs/rosettaprise/lib/python3.9/site-packages/multiprocess/connection.py\", line 224, in recv_bytes\n",
      "    buf = self._recv_bytes(maxlength)\n",
      "  File \"/Users/aaron/mambaforge/envs/rosettaprise/lib/python3.9/site-packages/multiprocess/synchronize.py\", line 101, in __enter__\n",
      "    return self._semlock.__enter__()\n",
      "  File \"/Users/aaron/mambaforge/envs/rosettaprise/lib/python3.9/site-packages/multiprocess/synchronize.py\", line 101, in __enter__\n",
      "    return self._semlock.__enter__()\n",
      "  File \"/Users/aaron/mambaforge/envs/rosettaprise/lib/python3.9/site-packages/multiprocess/synchronize.py\", line 101, in __enter__\n",
      "    return self._semlock.__enter__()\n",
      "  File \"/Users/aaron/mambaforge/envs/rosettaprise/lib/python3.9/site-packages/dill/_dill.py\", line 387, in loads\n",
      "    return load(file, ignore, **kwds)\n",
      "  File \"/Users/aaron/mambaforge/envs/rosettaprise/lib/python3.9/site-packages/multiprocess/synchronize.py\", line 101, in __enter__\n",
      "    return self._semlock.__enter__()\n",
      "  File \"/Users/aaron/mambaforge/envs/rosettaprise/lib/python3.9/site-packages/multiprocess/synchronize.py\", line 101, in __enter__\n",
      "    return self._semlock.__enter__()\n",
      "KeyboardInterrupt\n",
      "KeyboardInterrupt\n",
      "KeyboardInterrupt\n",
      "  File \"/Users/aaron/mambaforge/envs/rosettaprise/lib/python3.9/site-packages/multiprocess/connection.py\", line 422, in _recv_bytes\n",
      "    buf = self._recv(4)\n",
      "KeyboardInterrupt\n",
      "KeyboardInterrupt\n",
      "KeyboardInterrupt\n",
      "  File \"/Users/aaron/mambaforge/envs/rosettaprise/lib/python3.9/site-packages/dill/_dill.py\", line 373, in load\n",
      "    return Unpickler(file, ignore=ignore, **kwds).load()\n",
      "KeyboardInterrupt\n",
      "KeyboardInterrupt\n",
      "  File \"/Users/aaron/mambaforge/envs/rosettaprise/lib/python3.9/site-packages/multiprocess/connection.py\", line 387, in _recv\n",
      "    chunk = read(handle, remaining)\n",
      "  File \"/Users/aaron/mambaforge/envs/rosettaprise/lib/python3.9/site-packages/dill/_dill.py\", line 646, in load\n",
      "    obj = StockUnpickler.load(self)\n",
      "  File \"/Users/aaron/mambaforge/envs/rosettaprise/lib/python3.9/site-packages/dill/_dill.py\", line 630, in find_class\n",
      "    def find_class(self, module, name):\n",
      "KeyboardInterrupt\n",
      "KeyboardInterrupt\n",
      "/Users/aaron/Documents/GitHub/impulse_mcmc/impulse/mhsampler.py:64: RuntimeWarning: invalid value encountered in double_scalars\n",
      "  lnprob_star = 1 / self.temp * lnlike_star + lnprior_star\n",
      "Process ForkPoolWorker-15:\n",
      "Process ForkPoolWorker-16:\n",
      "Process ForkPoolWorker-13:\n",
      "Process ForkPoolWorker-17:\n",
      "Process ForkPoolWorker-12:\n",
      "Process ForkPoolWorker-11:\n",
      "Process ForkPoolWorker-14:\n",
      "Traceback (most recent call last):\n",
      "Traceback (most recent call last):\n",
      "Traceback (most recent call last):\n",
      "Traceback (most recent call last):\n",
      "Traceback (most recent call last):\n",
      "Traceback (most recent call last):\n",
      "Traceback (most recent call last):\n",
      "  File \"/Users/aaron/mambaforge/envs/rosettaprise/lib/python3.9/site-packages/multiprocess/process.py\", line 315, in _bootstrap\n",
      "    self.run()\n",
      "  File \"/Users/aaron/mambaforge/envs/rosettaprise/lib/python3.9/site-packages/multiprocess/process.py\", line 315, in _bootstrap\n",
      "    self.run()\n",
      "  File \"/Users/aaron/mambaforge/envs/rosettaprise/lib/python3.9/site-packages/multiprocess/process.py\", line 315, in _bootstrap\n",
      "    self.run()\n",
      "  File \"/Users/aaron/mambaforge/envs/rosettaprise/lib/python3.9/site-packages/multiprocess/process.py\", line 315, in _bootstrap\n",
      "    self.run()\n",
      "  File \"/Users/aaron/mambaforge/envs/rosettaprise/lib/python3.9/site-packages/multiprocess/process.py\", line 315, in _bootstrap\n",
      "    self.run()\n",
      "  File \"/Users/aaron/mambaforge/envs/rosettaprise/lib/python3.9/site-packages/multiprocess/process.py\", line 315, in _bootstrap\n",
      "    self.run()\n",
      "  File \"/Users/aaron/mambaforge/envs/rosettaprise/lib/python3.9/site-packages/multiprocess/process.py\", line 315, in _bootstrap\n",
      "    self.run()\n",
      "  File \"/Users/aaron/mambaforge/envs/rosettaprise/lib/python3.9/site-packages/multiprocess/process.py\", line 108, in run\n",
      "    self._target(*self._args, **self._kwargs)\n",
      "  File \"/Users/aaron/mambaforge/envs/rosettaprise/lib/python3.9/site-packages/multiprocess/process.py\", line 108, in run\n",
      "    self._target(*self._args, **self._kwargs)\n",
      "  File \"/Users/aaron/mambaforge/envs/rosettaprise/lib/python3.9/site-packages/multiprocess/process.py\", line 108, in run\n",
      "    self._target(*self._args, **self._kwargs)\n",
      "  File \"/Users/aaron/mambaforge/envs/rosettaprise/lib/python3.9/site-packages/multiprocess/process.py\", line 108, in run\n",
      "    self._target(*self._args, **self._kwargs)\n",
      "  File \"/Users/aaron/mambaforge/envs/rosettaprise/lib/python3.9/site-packages/multiprocess/process.py\", line 108, in run\n",
      "    self._target(*self._args, **self._kwargs)\n",
      "  File \"/Users/aaron/mambaforge/envs/rosettaprise/lib/python3.9/site-packages/multiprocess/process.py\", line 108, in run\n",
      "    self._target(*self._args, **self._kwargs)\n",
      "  File \"/Users/aaron/mambaforge/envs/rosettaprise/lib/python3.9/site-packages/multiprocess/process.py\", line 108, in run\n",
      "    self._target(*self._args, **self._kwargs)\n",
      "  File \"/Users/aaron/mambaforge/envs/rosettaprise/lib/python3.9/site-packages/multiprocess/pool.py\", line 114, in worker\n",
      "    task = get()\n",
      "  File \"/Users/aaron/mambaforge/envs/rosettaprise/lib/python3.9/site-packages/multiprocess/pool.py\", line 114, in worker\n",
      "    task = get()\n",
      "  File \"/Users/aaron/mambaforge/envs/rosettaprise/lib/python3.9/site-packages/multiprocess/pool.py\", line 114, in worker\n",
      "    task = get()\n",
      "  File \"/Users/aaron/mambaforge/envs/rosettaprise/lib/python3.9/site-packages/multiprocess/pool.py\", line 114, in worker\n",
      "    task = get()\n",
      "  File \"/Users/aaron/mambaforge/envs/rosettaprise/lib/python3.9/site-packages/multiprocess/pool.py\", line 114, in worker\n",
      "    task = get()\n",
      "  File \"/Users/aaron/mambaforge/envs/rosettaprise/lib/python3.9/site-packages/multiprocess/pool.py\", line 114, in worker\n",
      "    task = get()\n",
      "  File \"/Users/aaron/mambaforge/envs/rosettaprise/lib/python3.9/site-packages/multiprocess/pool.py\", line 114, in worker\n",
      "    task = get()\n",
      "  File \"/Users/aaron/mambaforge/envs/rosettaprise/lib/python3.9/site-packages/multiprocess/queues.py\", line 367, in get\n",
      "    with self._rlock:\n",
      "  File \"/Users/aaron/mambaforge/envs/rosettaprise/lib/python3.9/site-packages/multiprocess/queues.py\", line 367, in get\n",
      "    with self._rlock:\n",
      "  File \"/Users/aaron/mambaforge/envs/rosettaprise/lib/python3.9/site-packages/multiprocess/queues.py\", line 367, in get\n",
      "    with self._rlock:\n",
      "  File \"/Users/aaron/mambaforge/envs/rosettaprise/lib/python3.9/site-packages/multiprocess/queues.py\", line 367, in get\n",
      "    with self._rlock:\n",
      "  File \"/Users/aaron/mambaforge/envs/rosettaprise/lib/python3.9/site-packages/multiprocess/queues.py\", line 367, in get\n",
      "    with self._rlock:\n",
      "  File \"/Users/aaron/mambaforge/envs/rosettaprise/lib/python3.9/site-packages/multiprocess/queues.py\", line 367, in get\n",
      "    with self._rlock:\n",
      "  File \"/Users/aaron/mambaforge/envs/rosettaprise/lib/python3.9/site-packages/multiprocess/queues.py\", line 368, in get\n",
      "    res = self._reader.recv_bytes()\n",
      "  File \"/Users/aaron/mambaforge/envs/rosettaprise/lib/python3.9/site-packages/multiprocess/synchronize.py\", line 101, in __enter__\n",
      "    return self._semlock.__enter__()\n",
      "  File \"/Users/aaron/mambaforge/envs/rosettaprise/lib/python3.9/site-packages/multiprocess/synchronize.py\", line 101, in __enter__\n",
      "    return self._semlock.__enter__()\n",
      "  File \"/Users/aaron/mambaforge/envs/rosettaprise/lib/python3.9/site-packages/multiprocess/synchronize.py\", line 101, in __enter__\n",
      "    return self._semlock.__enter__()\n",
      "  File \"/Users/aaron/mambaforge/envs/rosettaprise/lib/python3.9/site-packages/multiprocess/synchronize.py\", line 101, in __enter__\n",
      "    return self._semlock.__enter__()\n",
      "  File \"/Users/aaron/mambaforge/envs/rosettaprise/lib/python3.9/site-packages/multiprocess/synchronize.py\", line 101, in __enter__\n",
      "    return self._semlock.__enter__()\n",
      "  File \"/Users/aaron/mambaforge/envs/rosettaprise/lib/python3.9/site-packages/multiprocess/connection.py\", line 224, in recv_bytes\n",
      "    buf = self._recv_bytes(maxlength)\n",
      "  File \"/Users/aaron/mambaforge/envs/rosettaprise/lib/python3.9/site-packages/multiprocess/synchronize.py\", line 101, in __enter__\n",
      "    return self._semlock.__enter__()\n",
      "KeyboardInterrupt\n",
      "KeyboardInterrupt\n",
      "KeyboardInterrupt\n",
      "KeyboardInterrupt\n",
      "KeyboardInterrupt\n",
      "KeyboardInterrupt\n",
      "  File \"/Users/aaron/mambaforge/envs/rosettaprise/lib/python3.9/site-packages/multiprocess/connection.py\", line 422, in _recv_bytes\n",
      "    buf = self._recv(4)\n"
     ]
    }
   ],
   "source": [
    "res = pt_sample(pta.get_lnlikelihood, pta.get_lnprior, ndim, x0, ntemps=ntemps, ncores=ntemps, tinf=True, num_samples=500_000, swap_count=100, outdir='./chains', temp_dir='./temp_data', ret_chain=True)"
   ]
  },
  {
   "cell_type": "code",
   "execution_count": 11,
   "metadata": {},
   "outputs": [
    {
     "name": "stderr",
     "output_type": "stream",
     "text": [
      "  0%|          | 0/500 [00:00<?, ?it/s]\u001b[2m\u001b[36m(PMHSampler pid=74195)\u001b[0m WARNING: AstropyDeprecationWarning: The private astropy._erfa module has been made into its own package, pyerfa, which is a dependency of astropy and can be imported directly using \"import erfa\" [astropy._erfa]\n",
      "\u001b[2m\u001b[36m(PMHSampler pid=74196)\u001b[0m WARNING: AstropyDeprecationWarning: The private astropy._erfa module has been made into its own package, pyerfa, which is a dependency of astropy and can be imported directly using \"import erfa\" [astropy._erfa]\n",
      "\u001b[2m\u001b[36m(PMHSampler pid=74197)\u001b[0m WARNING: AstropyDeprecationWarning: The private astropy._erfa module has been made into its own package, pyerfa, which is a dependency of astropy and can be imported directly using \"import erfa\" [astropy._erfa]\n",
      "\u001b[2m\u001b[36m(PMHSampler pid=74198)\u001b[0m WARNING: AstropyDeprecationWarning: The private astropy._erfa module has been made into its own package, pyerfa, which is a dependency of astropy and can be imported directly using \"import erfa\" [astropy._erfa]\n",
      "\u001b[2m\u001b[36m(PMHSampler pid=74199)\u001b[0m WARNING: AstropyDeprecationWarning: The private astropy._erfa module has been made into its own package, pyerfa, which is a dependency of astropy and can be imported directly using \"import erfa\" [astropy._erfa]\n",
      "\u001b[2m\u001b[36m(PMHSampler pid=74200)\u001b[0m WARNING: AstropyDeprecationWarning: The private astropy._erfa module has been made into its own package, pyerfa, which is a dependency of astropy and can be imported directly using \"import erfa\" [astropy._erfa]\n",
      "\u001b[2m\u001b[36m(PMHSampler pid=74201)\u001b[0m WARNING: AstropyDeprecationWarning: The private astropy._erfa module has been made into its own package, pyerfa, which is a dependency of astropy and can be imported directly using \"import erfa\" [astropy._erfa]\n",
      "\u001b[2m\u001b[36m(PMHSampler pid=74202)\u001b[0m WARNING: AstropyDeprecationWarning: The private astropy._erfa module has been made into its own package, pyerfa, which is a dependency of astropy and can be imported directly using \"import erfa\" [astropy._erfa]\n",
      "\u001b[2m\u001b[36m(PMHSampler pid=74199)\u001b[0m /Users/aaron/Documents/GitHub/impulse_mcmc/impulse/mhsampler.py:66: RuntimeWarning: invalid value encountered in double_scalars\n",
      "\u001b[2m\u001b[36m(PMHSampler pid=74199)\u001b[0m   hastings_ratio = lnprob_star - self.lnprob0 + factor\n",
      "\u001b[2m\u001b[36m(PMHSampler pid=74201)\u001b[0m /Users/aaron/Documents/GitHub/enterprise/enterprise/signals/parameter.py:62: RuntimeWarning: divide by zero encountered in log\n",
      "\u001b[2m\u001b[36m(PMHSampler pid=74201)\u001b[0m   logpdf = np.log(self.prior(value, **kwargs))\n",
      "\u001b[2m\u001b[36m(PMHSampler pid=74202)\u001b[0m /Users/aaron/Documents/GitHub/impulse_mcmc/impulse/mhsampler.py:64: RuntimeWarning: invalid value encountered in double_scalars\n",
      "\u001b[2m\u001b[36m(PMHSampler pid=74202)\u001b[0m   lnprob_star = 1 / self.temp * lnlike_star + lnprior_star\n",
      "\u001b[2m\u001b[36m(PMHSampler pid=74199)\u001b[0m /Users/aaron/Documents/GitHub/enterprise/enterprise/signals/parameter.py:62: RuntimeWarning: divide by zero encountered in log\n",
      "\u001b[2m\u001b[36m(PMHSampler pid=74199)\u001b[0m   logpdf = np.log(self.prior(value, **kwargs))\n",
      "\u001b[2m\u001b[36m(PMHSampler pid=74200)\u001b[0m /Users/aaron/Documents/GitHub/enterprise/enterprise/signals/parameter.py:62: RuntimeWarning: divide by zero encountered in log\n",
      "\u001b[2m\u001b[36m(PMHSampler pid=74200)\u001b[0m   logpdf = np.log(self.prior(value, **kwargs))\n",
      "\u001b[2m\u001b[36m(PMHSampler pid=74198)\u001b[0m /Users/aaron/Documents/GitHub/enterprise/enterprise/signals/parameter.py:62: RuntimeWarning: divide by zero encountered in log\n",
      "\u001b[2m\u001b[36m(PMHSampler pid=74198)\u001b[0m   logpdf = np.log(self.prior(value, **kwargs))\n",
      "\u001b[2m\u001b[36m(PMHSampler pid=74202)\u001b[0m /Users/aaron/Documents/GitHub/enterprise/enterprise/signals/parameter.py:62: RuntimeWarning: divide by zero encountered in log\n",
      "\u001b[2m\u001b[36m(PMHSampler pid=74202)\u001b[0m   logpdf = np.log(self.prior(value, **kwargs))\n",
      "\u001b[2m\u001b[36m(PMHSampler pid=74197)\u001b[0m /Users/aaron/Documents/GitHub/enterprise/enterprise/signals/parameter.py:62: RuntimeWarning: divide by zero encountered in log\n",
      "\u001b[2m\u001b[36m(PMHSampler pid=74197)\u001b[0m   logpdf = np.log(self.prior(value, **kwargs))\n",
      "  0%|          | 1/500 [00:09<1:20:34,  9.69s/it]\u001b[2m\u001b[36m(PMHSampler pid=74195)\u001b[0m /Users/aaron/Documents/GitHub/enterprise/enterprise/signals/parameter.py:62: RuntimeWarning: divide by zero encountered in log\n",
      "\u001b[2m\u001b[36m(PMHSampler pid=74195)\u001b[0m   logpdf = np.log(self.prior(value, **kwargs))\n",
      "\u001b[2m\u001b[36m(PMHSampler pid=74196)\u001b[0m /Users/aaron/Documents/GitHub/enterprise/enterprise/signals/parameter.py:62: RuntimeWarning: divide by zero encountered in log\n",
      "\u001b[2m\u001b[36m(PMHSampler pid=74196)\u001b[0m   logpdf = np.log(self.prior(value, **kwargs))\n",
      "  2%|▏         | 9/500 [01:20<1:13:23,  8.97s/it]"
     ]
    },
    {
     "name": "stdout",
     "output_type": "stream",
     "text": [
      "Unexpected exception formatting exception. Falling back to standard exception\n"
     ]
    },
    {
     "name": "stderr",
     "output_type": "stream",
     "text": [
      "\n",
      "Traceback (most recent call last):\n",
      "  File \"/Users/aaron/mambaforge/envs/rosettaprise/lib/python3.9/site-packages/IPython/core/interactiveshell.py\", line 3369, in run_code\n",
      "    exec(code_obj, self.user_global_ns, self.user_ns)\n",
      "  File \"/var/folders/bt/hxhr8xxx7d11f4lwfyj1_b580000gn/T/ipykernel_71628/1486782116.py\", line 1, in <cell line: 1>\n",
      "    res = parallel_pt_sample(pta.get_lnlikelihood, pta.get_lnprior, ndim, x0, ntemps=ntemps, tinf=True, num_samples=500_000, swap_count=100, outdir='./chains', temp_dir='./temp_data', ret_chain=True)\n",
      "  File \"/Users/aaron/Documents/GitHub/impulse_mcmc/impulse/base.py\", line 129, in parallel_pt_sample\n",
      "    accept_arr[swap_tot:swap_tot + swap_count, ii]) = ray.get(sampler.sample.remote())\n",
      "  File \"/Users/aaron/mambaforge/envs/rosettaprise/lib/python3.9/site-packages/ray/_private/client_mode_hook.py\", line 105, in wrapper\n",
      "    return func(*args, **kwargs)\n",
      "  File \"/Users/aaron/mambaforge/envs/rosettaprise/lib/python3.9/site-packages/ray/worker.py\", line 1803, in get\n",
      "    values, debugger_breakpoint = worker.get_objects(object_refs, timeout=timeout)\n",
      "  File \"/Users/aaron/mambaforge/envs/rosettaprise/lib/python3.9/site-packages/ray/worker.py\", line 362, in get_objects\n",
      "    data_metadata_pairs = self.core_worker.get_objects(\n",
      "KeyboardInterrupt\n",
      "\n",
      "During handling of the above exception, another exception occurred:\n",
      "\n",
      "Traceback (most recent call last):\n",
      "  File \"/Users/aaron/mambaforge/envs/rosettaprise/lib/python3.9/site-packages/IPython/core/interactiveshell.py\", line 1982, in showtraceback\n",
      "    stb = self.InteractiveTB.structured_traceback(\n",
      "  File \"/Users/aaron/mambaforge/envs/rosettaprise/lib/python3.9/site-packages/IPython/core/ultratb.py\", line 1118, in structured_traceback\n",
      "    return FormattedTB.structured_traceback(\n",
      "  File \"/Users/aaron/mambaforge/envs/rosettaprise/lib/python3.9/site-packages/IPython/core/ultratb.py\", line 1012, in structured_traceback\n",
      "    return VerboseTB.structured_traceback(\n",
      "  File \"/Users/aaron/mambaforge/envs/rosettaprise/lib/python3.9/site-packages/IPython/core/ultratb.py\", line 865, in structured_traceback\n",
      "    formatted_exception = self.format_exception_as_a_whole(etype, evalue, etb, number_of_lines_of_context,\n",
      "  File \"/Users/aaron/mambaforge/envs/rosettaprise/lib/python3.9/site-packages/IPython/core/ultratb.py\", line 818, in format_exception_as_a_whole\n",
      "    frames.append(self.format_record(r))\n",
      "  File \"/Users/aaron/mambaforge/envs/rosettaprise/lib/python3.9/site-packages/IPython/core/ultratb.py\", line 736, in format_record\n",
      "    result += ''.join(_format_traceback_lines(frame_info.lines, Colors, self.has_colors, lvals))\n",
      "  File \"/Users/aaron/mambaforge/envs/rosettaprise/lib/python3.9/site-packages/stack_data/utils.py\", line 145, in cached_property_wrapper\n",
      "    value = obj.__dict__[self.func.__name__] = self.func(obj)\n",
      "  File \"/Users/aaron/mambaforge/envs/rosettaprise/lib/python3.9/site-packages/stack_data/core.py\", line 698, in lines\n",
      "    pieces = self.included_pieces\n",
      "  File \"/Users/aaron/mambaforge/envs/rosettaprise/lib/python3.9/site-packages/stack_data/utils.py\", line 145, in cached_property_wrapper\n",
      "    value = obj.__dict__[self.func.__name__] = self.func(obj)\n",
      "  File \"/Users/aaron/mambaforge/envs/rosettaprise/lib/python3.9/site-packages/stack_data/core.py\", line 649, in included_pieces\n",
      "    pos = scope_pieces.index(self.executing_piece)\n",
      "  File \"/Users/aaron/mambaforge/envs/rosettaprise/lib/python3.9/site-packages/stack_data/utils.py\", line 145, in cached_property_wrapper\n",
      "    value = obj.__dict__[self.func.__name__] = self.func(obj)\n",
      "  File \"/Users/aaron/mambaforge/envs/rosettaprise/lib/python3.9/site-packages/stack_data/core.py\", line 628, in executing_piece\n",
      "    return only(\n",
      "  File \"/Users/aaron/mambaforge/envs/rosettaprise/lib/python3.9/site-packages/executing/executing.py\", line 164, in only\n",
      "    raise NotOneValueFound('Expected one value, found 0')\n",
      "executing.executing.NotOneValueFound: Expected one value, found 0\n"
     ]
    }
   ],
   "source": [
    "res = pt_sample(pta.get_lnlikelihood, pta.get_lnprior, ndim, x0, ntemps=ntemps, ncores=ntemps, tinf=True, num_samples=500_000, swap_count=100, outdir='./chains', temp_dir='./temp_data', ret_chain=True)"
   ]
  },
  {
   "cell_type": "code",
   "execution_count": 161,
   "metadata": {},
   "outputs": [
    {
     "data": {
      "text/plain": [
       "[<matplotlib.lines.Line2D at 0x17f794b50>]"
      ]
     },
     "execution_count": 161,
     "metadata": {},
     "output_type": "execute_result"
    },
    {
     "data": {
      "image/png": "[encoded data removed]",
      "text/plain": [
       "<Figure size 432x288 with 1 Axes>"
      ]
     },
     "metadata": {
      "needs_background": "light"
     },
     "output_type": "display_data"
    }
   ],
   "source": [
    "plt.plot(res[:, 2, 0])"
   ]
  },
  {
   "cell_type": "code",
   "execution_count": 139,
   "metadata": {},
   "outputs": [
    {
     "data": {
      "image/png": "[encoded data removed]",
      "text/plain": [
       "<Figure size 432x288 with 1 Axes>"
      ]
     },
     "metadata": {
      "needs_background": "light"
     },
     "output_type": "display_data"
    }
   ],
   "source": [
    "ii = 2\n",
    "plt.plot(res[0:5000, ii, 0])\n",
    "plt.plot(res[0:5000, ii, 1])\n",
    "plt.plot(res[0:5000, ii, 2])\n",
    "plt.plot(res[0:5000, ii, 3])\n",
    "plt.show()"
   ]
  },
  {
   "cell_type": "code",
   "execution_count": 154,
   "metadata": {},
   "outputs": [
    {
     "name": "stdout",
     "output_type": "stream",
     "text": [
      "[3.51747252 3.51747252 3.51747252 ... 3.51747252 3.51747252 3.51747252]\n"
     ]
    }
   ],
   "source": [
    "print(np.vstack(temps)[:, 2])"
   ]
  },
  {
   "cell_type": "code",
   "execution_count": 163,
   "metadata": {},
   "outputs": [
    {
     "data": {
      "image/png": "[encoded data removed]",
      "text/plain": [
       "<Figure size 432x288 with 1 Axes>"
      ]
     },
     "metadata": {
      "needs_background": "light"
     },
     "output_type": "display_data"
    },
    {
     "data": {
      "image/png": "[encoded data removed]",
      "text/plain": [
       "<Figure size 432x288 with 1 Axes>"
      ]
     },
     "metadata": {
      "needs_background": "light"
     },
     "output_type": "display_data"
    },
    {
     "data": {
      "image/png": "[encoded data removed]",
      "text/plain": [
       "<Figure size 432x288 with 1 Axes>"
      ]
     },
     "metadata": {
      "needs_background": "light"
     },
     "output_type": "display_data"
    }
   ],
   "source": [
    "outDir = './chains/sngl/'\n",
    "with open(outDir + 'chain_1.txt', 'r') as f:\n",
    "    chain2 = np.loadtxt(f)\n",
    "for ii in range(3):\n",
    "    __, bins, __ = plt.hist(res[:, ii, 3], bins=100, density=True)\n",
    "    plt.hist(chain2[:, ii], bins=bins, density=True, alpha=0.5)\n",
    "    # plt.hist(samples[:, ii], bins=bins, density=True, alpha=0.5)\n",
    "    plt.show()"
   ]
  },
  {
   "cell_type": "code",
   "execution_count": 4,
   "metadata": {},
   "outputs": [],
   "source": [
    "x0 = np.array(list(sample_params(pta.params).values()))"
   ]
  },
  {
   "cell_type": "code",
   "execution_count": 13,
   "metadata": {},
   "outputs": [
    {
     "name": "stderr",
     "output_type": "stream",
     "text": [
      "100%|██████████| 1000/1000 [02:58<00:00,  5.60it/s]\n"
     ]
    }
   ],
   "source": [
    "res = sample(pta.get_lnlikelihood, pta.get_lnprior, len(x0), x0, num_samples=1_000_000, buf_size=50_000)"
   ]
  },
  {
   "cell_type": "code",
   "execution_count": 14,
   "metadata": {},
   "outputs": [
    {
     "data": {
      "image/png": "[encoded data removed]",
      "text/plain": [
       "<Figure size 432x288 with 1 Axes>"
      ]
     },
     "metadata": {
      "needs_background": "light"
     },
     "output_type": "display_data"
    }
   ],
   "source": [
    "ii = 2\n",
    "plt.plot(res[0:3000, ii])\n",
    "plt.show()"
   ]
  },
  {
   "cell_type": "code",
   "execution_count": 12,
   "metadata": {},
   "outputs": [],
   "source": [
    "ndim = len(x0)\n",
    "cov = np.diag(np.ones(ndim) * 0.01**2)\n",
    "\n",
    "outDir = './chains/sngl/'\n",
    "\n",
    "sampler = ptmcmc(ndim, pta.get_lnlikelihood, pta.get_lnprior, cov,\n",
    "                 outDir=outDir, resume=False)"
   ]
  },
  {
   "cell_type": "code",
   "execution_count": 13,
   "metadata": {},
   "outputs": [
    {
     "name": "stdout",
     "output_type": "stream",
     "text": [
      "Finished 0.10 percent in 0.266415 s Acceptance rate = 0.992"
     ]
    },
    {
     "name": "stderr",
     "output_type": "stream",
     "text": [
      "/Users/aaron/Documents/GitHub/enterprise/enterprise/signals/parameter.py:62: RuntimeWarning: divide by zero encountered in log\n",
      "  logpdf = np.log(self.prior(value, **kwargs))\n"
     ]
    },
    {
     "name": "stdout",
     "output_type": "stream",
     "text": [
      "Finished 1.00 percent in 2.080573 s Acceptance rate = 0.648571Adding DE jump with weight 50\n",
      "Finished 99.90 percent in 150.101597 s Acceptance rate = 0.351636\n",
      "Run Complete\n"
     ]
    }
   ],
   "source": [
    "N = int(1e6)\n",
    "x0 = np.hstack([p.sample() for p in pta.params])\n",
    "sampler.sample(x0, N, SCAMweight=30, AMweight=15, DEweight=50, ladder=[1e80])"
   ]
  },
  {
   "cell_type": "code",
   "execution_count": 16,
   "metadata": {},
   "outputs": [],
   "source": [
    "outDir = './chains/sngl/'\n",
    "with open(outDir + 'chain_1.txt', 'r') as f:\n",
    "    chain2 = np.loadtxt(f)"
   ]
  },
  {
   "cell_type": "code",
   "execution_count": 17,
   "metadata": {},
   "outputs": [
    {
     "data": {
      "image/png": "[encoded data removed]",
      "text/plain": [
       "<Figure size 432x288 with 1 Axes>"
      ]
     },
     "metadata": {
      "needs_background": "light"
     },
     "output_type": "display_data"
    },
    {
     "data": {
      "image/png": "[encoded data removed]",
      "text/plain": [
       "<Figure size 432x288 with 1 Axes>"
      ]
     },
     "metadata": {
      "needs_background": "light"
     },
     "output_type": "display_data"
    },
    {
     "data": {
      "image/png": "[encoded data removed]",
      "text/plain": [
       "<Figure size 432x288 with 1 Axes>"
      ]
     },
     "metadata": {
      "needs_background": "light"
     },
     "output_type": "display_data"
    }
   ],
   "source": [
    "for ii in range(3):\n",
    "    __, bins, __ = plt.hist(res[20_000:, ii], bins=100, density=True)\n",
    "    plt.hist(chain2[20_000:, ii], bins=bins, density=True, alpha=0.5)\n",
    "    # plt.hist(samples[:, ii], bins=bins, density=True, alpha=0.5)\n",
    "    plt.show()"
   ]
  },
  {
   "cell_type": "code",
   "execution_count": null,
   "metadata": {},
   "outputs": [],
   "source": [
    "plt.plot(res[:])"
   ]
  },
  {
   "cell_type": "code",
   "execution_count": 94,
   "metadata": {},
   "outputs": [
    {
     "name": "stdout",
     "output_type": "stream",
     "text": [
      "[10.69655161]\n",
      "[22.53624037]\n"
     ]
    }
   ],
   "source": [
    "ii = 2\n",
    "print(integrated_time(res[200000:, ii, 0]) / 10)\n",
    "print(integrated_time(chain2[20_000:, ii]))"
   ]
  },
  {
   "cell_type": "code",
   "execution_count": 49,
   "metadata": {},
   "outputs": [
    {
     "data": {
      "image/png": "[encoded data removed]",
      "text/plain": [
       "<Figure size 432x288 with 1 Axes>"
      ]
     },
     "metadata": {
      "needs_background": "light"
     },
     "output_type": "display_data"
    },
    {
     "data": {
      "image/png": "[encoded data removed]",
      "text/plain": [
       "<Figure size 432x288 with 1 Axes>"
      ]
     },
     "metadata": {
      "needs_background": "light"
     },
     "output_type": "display_data"
    },
    {
     "data": {
      "image/png": "[encoded data removed]",
      "text/plain": [
       "<Figure size 432x288 with 1 Axes>"
      ]
     },
     "metadata": {
      "needs_background": "light"
     },
     "output_type": "display_data"
    }
   ],
   "source": [
    "for ii in range(3):\n",
    "    plt.plot(res[::1000, ii, 0], alpha=0.5)\n",
    "    plt.plot(chain2[20_000::1000, ii], alpha=0.5)\n",
    "    # plt.hist(samples[:, ii], bins=bins, density=True, alpha=0.5)\n",
    "    plt.show()"
   ]
  },
  {
   "cell_type": "code",
   "execution_count": 22,
   "metadata": {},
   "outputs": [
    {
     "name": "stdout",
     "output_type": "stream",
     "text": [
      "[23.82986538]\n",
      "[528.53657667]\n"
     ]
    }
   ],
   "source": [
    "ii = 2\n",
    "print(integrated_time(chain2[:, ii]))\n",
    "print(integrated_time(res[:, ii, 0], quiet=True) / 10)\n",
    "# print(integrated_time(samples[:, ii], quiet=True))"
   ]
  },
  {
   "cell_type": "code",
   "execution_count": 4,
   "metadata": {},
   "outputs": [],
   "source": [
    "ntemps = 4\n",
    "x0 = [np.array(list(sample_params(pta.params).values())) for _ in range(ntemps)]"
   ]
  },
  {
   "cell_type": "code",
   "execution_count": 19,
   "metadata": {},
   "outputs": [
    {
     "name": "stderr",
     "output_type": "stream",
     "text": [
      "  0%|          | 0/400 [00:00<?, ?it/s]/Users/aaron/Documents/GitHub/enterprise/enterprise/signals/parameter.py:62: RuntimeWarning: divide by zero encountered in log\n",
      "  logpdf = np.log(self.prior(value, **kwargs))\n",
      "100%|██████████| 400/400 [04:08<00:00,  1.61it/s]\n"
     ]
    }
   ],
   "source": [
    "res = pt_sample(pta.get_lnlikelihood, pta.get_lnprior, len(x0[0]), x0, ntemps=ntemps, num_samples=400_000)"
   ]
  },
  {
   "cell_type": "code",
   "execution_count": 20,
   "metadata": {},
   "outputs": [
    {
     "name": "stdout",
     "output_type": "stream",
     "text": [
      "(400000, 3, 4)\n"
     ]
    }
   ],
   "source": [
    "print(res.shape)"
   ]
  },
  {
   "cell_type": "code",
   "execution_count": 21,
   "metadata": {},
   "outputs": [
    {
     "data": {
      "text/plain": [
       "[<matplotlib.lines.Line2D at 0x184883e80>]"
      ]
     },
     "execution_count": 21,
     "metadata": {},
     "output_type": "execute_result"
    },
    {
     "data": {
      "image/png": "[encoded data removed]",
      "text/plain": [
       "<Figure size 432x288 with 1 Axes>"
      ]
     },
     "metadata": {
      "needs_background": "light"
     },
     "output_type": "display_data"
    }
   ],
   "source": [
    "plt.plot(res[:, 0, 0])\n",
    "plt.plot(res[:, 0, 1])\n",
    "plt.plot(res[:, 0, 2])\n",
    "plt.plot(res[:, 0, 3])"
   ]
  },
  {
   "cell_type": "code",
   "execution_count": 22,
   "metadata": {},
   "outputs": [
    {
     "data": {
      "image/png": "[encoded data removed]",
      "text/plain": [
       "<Figure size 432x288 with 1 Axes>"
      ]
     },
     "metadata": {
      "needs_background": "light"
     },
     "output_type": "display_data"
    }
   ],
   "source": [
    "plt.hist(res[:, 0, 0], bins=50, density=True)\n",
    "plt.show()"
   ]
  },
  {
   "cell_type": "code",
   "execution_count": 21,
   "metadata": {},
   "outputs": [],
   "source": [
    "outDir = './chains/sngl/'\n",
    "with open(outDir + 'chain_1.txt', 'r') as f:\n",
    "    chain2 = np.loadtxt(f)"
   ]
  },
  {
   "cell_type": "code",
   "execution_count": 23,
   "metadata": {},
   "outputs": [
    {
     "data": {
      "image/png": "[encoded data removed]",
      "text/plain": [
       "<Figure size 432x288 with 1 Axes>"
      ]
     },
     "metadata": {
      "needs_background": "light"
     },
     "output_type": "display_data"
    },
    {
     "data": {
      "image/png": "[encoded data removed]",
      "text/plain": [
       "<Figure size 432x288 with 1 Axes>"
      ]
     },
     "metadata": {
      "needs_background": "light"
     },
     "output_type": "display_data"
    },
    {
     "data": {
      "image/png": "[encoded data removed]",
      "text/plain": [
       "<Figure size 432x288 with 1 Axes>"
      ]
     },
     "metadata": {
      "needs_background": "light"
     },
     "output_type": "display_data"
    }
   ],
   "source": [
    "for ii in range(3):\n",
    "    __, bins, __ = plt.hist(res[:, ii, 0], bins=100, density=True)\n",
    "    plt.hist(chain2[20_000:, ii], bins=bins, density=True, alpha=0.5)\n",
    "    # plt.hist(samples[:, ii], bins=bins, density=True, alpha=0.5)\n",
    "    plt.show()"
   ]
  },
  {
   "cell_type": "code",
   "execution_count": 9,
   "metadata": {},
   "outputs": [
    {
     "data": {
      "text/plain": [
       "[<matplotlib.lines.Line2D at 0x1867cd490>]"
      ]
     },
     "execution_count": 9,
     "metadata": {},
     "output_type": "execute_result"
    },
    {
     "data": {
      "image/png": "[encoded data removed]",
      "text/plain": [
       "<Figure size 432x288 with 1 Axes>"
      ]
     },
     "metadata": {
      "needs_background": "light"
     },
     "output_type": "display_data"
    }
   ],
   "source": [
    "plt.plot(res[0][:, 2])\n",
    "plt.plot(res[1][:, 2])\n",
    "plt.plot(res[2][:, 2])\n",
    "plt.plot(res[3][:, 2])"
   ]
  },
  {
   "cell_type": "code",
   "execution_count": 7,
   "metadata": {},
   "outputs": [],
   "source": [
    "ndim = 136\n",
    "tstep = 1 + np.sqrt(2 / ndim)"
   ]
  },
  {
   "cell_type": "code",
   "execution_count": 10,
   "metadata": {},
   "outputs": [],
   "source": [
    "ntemps = 4"
   ]
  },
  {
   "cell_type": "code",
   "execution_count": 11,
   "metadata": {},
   "outputs": [],
   "source": [
    "tmin = 1"
   ]
  },
  {
   "cell_type": "code",
   "execution_count": 23,
   "metadata": {},
   "outputs": [],
   "source": [
    "ii = np.arange(ntemps)\n",
    "ladder = tmin * tstep**ii"
   ]
  },
  {
   "cell_type": "code",
   "execution_count": 24,
   "metadata": {},
   "outputs": [
    {
     "name": "stderr",
     "output_type": "stream",
     "text": [
      "  0%|          | 0/1000 [00:00<?, ?it/s]/Users/aaron/Documents/GitHub/enterprise/enterprise/signals/parameter.py:62: RuntimeWarning: divide by zero encountered in log\n",
      "  logpdf = np.log(self.prior(value, **kwargs))\n",
      "100%|██████████| 1000/1000 [01:23<00:00, 12.04it/s]\n"
     ]
    }
   ],
   "source": [
    "res = sample(pta.get_lnprior, lambda x: 0, len(x0), x0, num_samples=1_000_000)"
   ]
  },
  {
   "cell_type": "code",
   "execution_count": 37,
   "metadata": {},
   "outputs": [
    {
     "data": {
      "image/png": "[encoded data removed]",
      "text/plain": [
       "<Figure size 432x288 with 1 Axes>"
      ]
     },
     "metadata": {
      "needs_background": "light"
     },
     "output_type": "display_data"
    }
   ],
   "source": [
    "plt.hist(res[:, 2], bins=100, density=True)\n",
    "plt.show()"
   ]
  },
  {
   "cell_type": "code",
   "execution_count": 58,
   "metadata": {},
   "outputs": [],
   "source": [
    "mean = [3, 5]\n",
    "cov = [[3, 4], [4, 20]]"
   ]
  },
  {
   "cell_type": "code",
   "execution_count": 64,
   "metadata": {},
   "outputs": [
    {
     "data": {
      "image/png": "[encoded data removed]",
      "text/plain": [
       "<Figure size 432x288 with 1 Axes>"
      ]
     },
     "metadata": {
      "needs_background": "light"
     },
     "output_type": "display_data"
    }
   ],
   "source": [
    "import matplotlib.pyplot as plt\n",
    "\n",
    "x, y = np.random.multivariate_normal(mean, cov, 200).T\n",
    "plt.plot(x, y, 'x')\n",
    "plt.axis('equal')\n",
    "plt.show()"
   ]
  },
  {
   "cell_type": "code",
   "execution_count": 10,
   "metadata": {},
   "outputs": [],
   "source": [
    "ladder = np.arange(1, 7)"
   ]
  },
  {
   "cell_type": "code",
   "execution_count": 11,
   "metadata": {},
   "outputs": [
    {
     "data": {
      "text/plain": [
       "array([1.        , 0.5       , 0.33333333, 0.25      , 0.2       ,\n",
       "       0.16666667])"
      ]
     },
     "execution_count": 11,
     "metadata": {},
     "output_type": "execute_result"
    }
   ],
   "source": [
    "1 / ladder"
   ]
  },
  {
   "cell_type": "code",
   "execution_count": 61,
   "metadata": {},
   "outputs": [],
   "source": [
    "from scipy.stats import multivariate_normal"
   ]
  },
  {
   "cell_type": "code",
   "execution_count": 43,
   "metadata": {},
   "outputs": [],
   "source": [
    "f = multivariate_normal(x, [1, 2], [2, 1])"
   ]
  },
  {
   "cell_type": "code",
   "execution_count": 41,
   "metadata": {},
   "outputs": [],
   "source": [
    "x = np.linspace(0, 7, num=2000)"
   ]
  },
  {
   "cell_type": "code",
   "execution_count": 6,
   "metadata": {},
   "outputs": [],
   "source": [
    "ntemps = 31\n",
    "nchains = 4\n",
    "x0 = [[np.array(list(sample_params(pta.params).values())) for _ in range(ntemps)] for _ in range(nchains)]"
   ]
  },
  {
   "cell_type": "code",
   "execution_count": 7,
   "metadata": {},
   "outputs": [
    {
     "name": "stderr",
     "output_type": "stream",
     "text": [
      "  0%|          | 0/300 [00:00<?, ?it/s]\n",
      "  0%|          | 0/300 [00:00<?, ?it/s]\n",
      "  0%|          | 0/300 [00:00<?, ?it/s]\n",
      "  0%|          | 0/300 [00:00<?, ?it/s]\n",
      "  0%|          | 1/300 [00:09<46:42,  9.37s/it]\n",
      "  0%|          | 1/300 [00:09<47:05,  9.45s/it]\n",
      "  0%|          | 1/300 [00:09<47:20,  9.50s/it]\n",
      "  0%|          | 1/300 [00:09<47:45,  9.58s/it]\n",
      "  1%|          | 2/300 [00:15<37:01,  7.46s/it]\n",
      "  1%|          | 2/300 [00:15<37:13,  7.49s/it]\n",
      "  1%|          | 2/300 [00:15<37:20,  7.52s/it]\n",
      "  1%|          | 2/300 [00:15<37:50,  7.62s/it]\n",
      "  1%|          | 3/300 [00:21<33:09,  6.70s/it]\n",
      "  1%|          | 3/300 [00:21<33:07,  6.69s/it]\n",
      "  1%|          | 3/300 [00:21<33:10,  6.70s/it]\n",
      "  1%|          | 3/300 [00:21<33:49,  6.83s/it]\n",
      "  1%|▏         | 4/300 [00:26<30:35,  6.20s/it]\n",
      "  1%|▏         | 4/300 [00:26<30:40,  6.22s/it]\n",
      "  1%|▏         | 4/300 [00:26<30:40,  6.22s/it]\n",
      "  1%|▏         | 4/300 [00:27<31:14,  6.33s/it]\n",
      "  2%|▏         | 5/300 [00:32<28:55,  5.88s/it]\n",
      "  2%|▏         | 5/300 [00:32<28:56,  5.89s/it]\n",
      "  2%|▏         | 5/300 [00:32<28:58,  5.89s/it]\n",
      "  2%|▏         | 5/300 [00:32<29:24,  5.98s/it]\n",
      "  2%|▏         | 6/300 [00:37<27:37,  5.64s/it]\n",
      "  2%|▏         | 6/300 [00:37<27:39,  5.65s/it]\n",
      "  2%|▏         | 6/300 [00:37<27:40,  5.65s/it]\n",
      "  2%|▏         | 6/300 [00:37<28:04,  5.73s/it]\n",
      "  2%|▏         | 7/300 [00:42<26:51,  5.50s/it]\n",
      "  2%|▏         | 7/300 [00:42<26:48,  5.49s/it]\n",
      "  2%|▏         | 7/300 [00:42<26:50,  5.49s/it]\n",
      "  2%|▏         | 7/300 [00:43<27:13,  5.58s/it]\n",
      "  3%|▎         | 8/300 [00:47<26:02,  5.35s/it]\n",
      "  3%|▎         | 8/300 [00:47<26:03,  5.35s/it]\n",
      "  3%|▎         | 8/300 [00:47<26:02,  5.35s/it]\n",
      "  3%|▎         | 8/300 [00:48<26:24,  5.43s/it]\n",
      "  3%|▎         | 9/300 [00:52<25:29,  5.26s/it]\n",
      "  3%|▎         | 9/300 [00:52<25:27,  5.25s/it]\n",
      "  3%|▎         | 9/300 [00:52<25:33,  5.27s/it]\n",
      "  3%|▎         | 9/300 [00:53<25:47,  5.32s/it]\n",
      "  3%|▎         | 10/300 [00:57<24:52,  5.15s/it]\n",
      "  3%|▎         | 10/300 [00:57<24:57,  5.16s/it]\n",
      "  3%|▎         | 10/300 [00:57<25:00,  5.17s/it]\n",
      "  3%|▎         | 10/300 [00:58<25:12,  5.22s/it]\n",
      "  4%|▎         | 11/300 [01:02<24:30,  5.09s/it]\n",
      "  4%|▎         | 11/300 [01:02<24:36,  5.11s/it]\n",
      "  4%|▎         | 11/300 [01:02<24:41,  5.13s/it]\n",
      "  4%|▎         | 11/300 [01:03<24:52,  5.16s/it]\n",
      "  4%|▍         | 12/300 [01:07<24:12,  5.04s/it]\n",
      "  4%|▍         | 12/300 [01:07<24:17,  5.06s/it]\n",
      "  4%|▍         | 12/300 [01:07<24:23,  5.08s/it]\n",
      "  4%|▍         | 12/300 [01:08<24:31,  5.11s/it]\n",
      "  4%|▍         | 13/300 [01:12<23:52,  4.99s/it]\n",
      "  4%|▍         | 13/300 [01:12<23:59,  5.02s/it]\n",
      "  4%|▍         | 13/300 [01:12<23:59,  5.02s/it]\n",
      "  4%|▍         | 13/300 [01:13<24:08,  5.05s/it]\n",
      "  5%|▍         | 14/300 [01:16<23:30,  4.93s/it]\n",
      "  5%|▍         | 14/300 [01:17<23:34,  4.94s/it]\n",
      "  5%|▍         | 14/300 [01:17<23:36,  4.95s/it]\n",
      "  5%|▍         | 14/300 [01:18<23:46,  4.99s/it]\n",
      "  5%|▌         | 15/300 [01:21<23:20,  4.91s/it]\n",
      "  5%|▌         | 15/300 [01:22<23:20,  4.91s/it]\n",
      "  5%|▌         | 15/300 [01:22<23:23,  4.93s/it]\n",
      "  5%|▌         | 15/300 [01:23<23:34,  4.96s/it]\n",
      "  5%|▌         | 16/300 [01:26<23:11,  4.90s/it]\n",
      "  5%|▌         | 16/300 [01:26<23:08,  4.89s/it]\n",
      "  5%|▌         | 16/300 [01:26<23:13,  4.91s/it]\n",
      "  5%|▌         | 16/300 [01:27<23:24,  4.95s/it]\n",
      "  6%|▌         | 17/300 [01:31<23:02,  4.88s/it]\n",
      "  6%|▌         | 17/300 [01:31<23:00,  4.88s/it]\n",
      "  6%|▌         | 17/300 [01:31<23:07,  4.90s/it]\n",
      "  6%|▌         | 17/300 [01:32<23:17,  4.94s/it]\n",
      "  6%|▌         | 18/300 [01:36<22:56,  4.88s/it]\n",
      "  6%|▌         | 18/300 [01:36<22:55,  4.88s/it]\n",
      "  6%|▌         | 18/300 [01:36<23:00,  4.90s/it]\n",
      "  6%|▌         | 18/300 [01:37<23:13,  4.94s/it]\n",
      "  6%|▋         | 19/300 [01:41<22:51,  4.88s/it]\n",
      "  6%|▋         | 19/300 [01:41<22:50,  4.88s/it]\n",
      "  6%|▋         | 19/300 [01:41<22:57,  4.90s/it]\n",
      "  6%|▋         | 19/300 [01:42<23:11,  4.95s/it]\n",
      "  7%|▋         | 20/300 [01:46<22:55,  4.91s/it]\n",
      "  7%|▋         | 20/300 [01:46<22:51,  4.90s/it]\n",
      "  7%|▋         | 20/300 [01:46<22:58,  4.92s/it]\n",
      "  7%|▋         | 20/300 [01:47<23:13,  4.98s/it]\n",
      "  7%|▋         | 21/300 [01:50<22:05,  4.75s/it]\n",
      "  7%|▋         | 21/300 [01:50<22:06,  4.76s/it]\n",
      "  7%|▋         | 21/300 [01:50<22:08,  4.76s/it]\n",
      "  7%|▋         | 21/300 [01:52<22:22,  4.81s/it]\n",
      "  7%|▋         | 22/300 [01:54<21:16,  4.59s/it]\n",
      "  7%|▋         | 22/300 [01:55<21:21,  4.61s/it]\n",
      "  7%|▋         | 22/300 [01:55<21:24,  4.62s/it]\n",
      "  7%|▋         | 22/300 [01:56<21:35,  4.66s/it]\n",
      "  8%|▊         | 23/300 [01:59<20:49,  4.51s/it]\n",
      "  8%|▊         | 23/300 [01:59<20:54,  4.53s/it]\n",
      "  8%|▊         | 23/300 [01:59<21:01,  4.55s/it]\n",
      "  8%|▊         | 23/300 [02:00<21:09,  4.58s/it]\n",
      "\u001b[2m\u001b[36m(ray_pt_sample pid=28130)\u001b[0m /Users/aaron/Documents/GitHub/impulse_mcmc/impulse/proposals.py:251: RuntimeWarning: invalid value encountered in double_scalars\n",
      "\u001b[2m\u001b[36m(ray_pt_sample pid=28130)\u001b[0m   q[groups[jumpind][ii]] += scale * sigma\n",
      "\u001b[2m\u001b[36m(ray_pt_sample pid=28127)\u001b[0m /Users/aaron/Documents/GitHub/impulse_mcmc/impulse/proposals.py:251: RuntimeWarning: invalid value encountered in double_scalars\n",
      "\u001b[2m\u001b[36m(ray_pt_sample pid=28127)\u001b[0m   q[groups[jumpind][ii]] += scale * sigma\n",
      "\u001b[2m\u001b[36m(ray_pt_sample pid=28128)\u001b[0m /Users/aaron/Documents/GitHub/impulse_mcmc/impulse/proposals.py:251: RuntimeWarning: invalid value encountered in double_scalars\n",
      "\u001b[2m\u001b[36m(ray_pt_sample pid=28128)\u001b[0m   q[groups[jumpind][ii]] += scale * sigma\n",
      "  8%|▊         | 24/300 [02:03<20:38,  4.49s/it]\n",
      "  8%|▊         | 24/300 [02:03<20:42,  4.50s/it]\n",
      "  8%|▊         | 24/300 [02:04<20:48,  4.52s/it]\n",
      "\u001b[2m\u001b[36m(ray_pt_sample pid=28129)\u001b[0m /Users/aaron/Documents/GitHub/impulse_mcmc/impulse/proposals.py:251: RuntimeWarning: invalid value encountered in double_scalars\n",
      "\u001b[2m\u001b[36m(ray_pt_sample pid=28129)\u001b[0m   q[groups[jumpind][ii]] += scale * sigma\n",
      "  8%|▊         | 24/300 [02:05<20:58,  4.56s/it]\n",
      "  8%|▊         | 25/300 [02:08<20:37,  4.50s/it]\n",
      "  8%|▊         | 25/300 [02:08<20:42,  4.52s/it]\n",
      "  8%|▊         | 25/300 [02:08<20:45,  4.53s/it]\n",
      "  8%|▊         | 25/300 [02:10<20:54,  4.56s/it]\n",
      "  9%|▊         | 26/300 [02:12<20:35,  4.51s/it]\n",
      "  9%|▊         | 26/300 [02:13<20:39,  4.53s/it]\n",
      "  9%|▊         | 26/300 [02:13<20:46,  4.55s/it]\n",
      "  9%|▊         | 26/300 [02:14<20:54,  4.58s/it]\n",
      "  9%|▉         | 27/300 [02:17<20:35,  4.52s/it]\n",
      "  9%|▉         | 27/300 [02:17<20:37,  4.53s/it]\n",
      "  9%|▉         | 27/300 [02:17<20:46,  4.57s/it]\n",
      "  9%|▉         | 27/300 [02:19<20:51,  4.59s/it]\n",
      "  9%|▉         | 28/300 [02:21<20:35,  4.54s/it]\n",
      "  9%|▉         | 28/300 [02:22<20:36,  4.55s/it]\n",
      "  9%|▉         | 28/300 [02:22<20:48,  4.59s/it]\n",
      "  9%|▉         | 28/300 [02:23<20:53,  4.61s/it]\n",
      " 10%|▉         | 29/300 [02:26<20:37,  4.57s/it]\n",
      " 10%|▉         | 29/300 [02:26<20:40,  4.58s/it]\n",
      " 10%|▉         | 29/300 [02:27<20:46,  4.60s/it]\n",
      " 10%|▉         | 29/300 [02:28<20:54,  4.63s/it]\n",
      " 10%|█         | 30/300 [02:31<20:35,  4.57s/it]\n",
      " 10%|█         | 30/300 [02:31<20:40,  4.59s/it]\n",
      " 10%|█         | 30/300 [02:31<20:46,  4.61s/it]\n",
      " 10%|█         | 30/300 [02:33<20:57,  4.66s/it]\n",
      " 10%|█         | 31/300 [02:35<20:33,  4.58s/it]\n",
      " 10%|█         | 31/300 [02:36<20:39,  4.61s/it]\n",
      " 10%|█         | 31/300 [02:36<20:44,  4.63s/it]\n",
      " 10%|█         | 31/300 [02:37<20:52,  4.65s/it]\n",
      " 11%|█         | 32/300 [02:40<20:27,  4.58s/it]\n",
      " 11%|█         | 32/300 [02:40<20:34,  4.61s/it]\n",
      " 11%|█         | 32/300 [02:41<20:39,  4.63s/it]\n",
      " 11%|█         | 32/300 [02:42<20:47,  4.65s/it]\n",
      " 11%|█         | 33/300 [02:44<20:27,  4.60s/it]\n",
      " 11%|█         | 33/300 [02:45<20:30,  4.61s/it]\n",
      " 11%|█         | 33/300 [02:45<20:36,  4.63s/it]\n",
      " 11%|█         | 33/300 [02:47<20:43,  4.66s/it]\n",
      " 11%|█▏        | 34/300 [02:49<20:23,  4.60s/it]\n",
      " 11%|█▏        | 34/300 [02:49<20:25,  4.61s/it]\n",
      " 11%|█▏        | 34/300 [02:50<20:32,  4.63s/it]\n",
      " 11%|█▏        | 34/300 [02:51<20:43,  4.67s/it]\n",
      " 12%|█▏        | 35/300 [02:54<20:24,  4.62s/it]\n",
      " 12%|█▏        | 35/300 [02:54<20:24,  4.62s/it]\n",
      " 12%|█▏        | 35/300 [02:55<20:32,  4.65s/it]\n",
      " 12%|█▏        | 35/300 [02:56<20:37,  4.67s/it]\n",
      " 12%|█▏        | 36/300 [02:58<20:16,  4.61s/it]\n",
      " 12%|█▏        | 36/300 [02:59<20:18,  4.61s/it]\n",
      " 12%|█▏        | 36/300 [02:59<20:26,  4.65s/it]\n",
      " 12%|█▏        | 36/300 [03:01<20:31,  4.66s/it]\n",
      " 12%|█▏        | 37/300 [03:03<20:10,  4.60s/it]\n",
      " 12%|█▏        | 37/300 [03:03<20:16,  4.63s/it]\n",
      " 12%|█▏        | 37/300 [03:04<20:19,  4.64s/it]\n",
      " 12%|█▏        | 37/300 [03:05<20:25,  4.66s/it]\n",
      " 13%|█▎        | 38/300 [03:07<20:07,  4.61s/it]\n",
      " 13%|█▎        | 38/300 [03:08<20:16,  4.64s/it]\n",
      " 13%|█▎        | 38/300 [03:08<20:16,  4.64s/it]\n",
      " 13%|█▎        | 38/300 [03:10<20:21,  4.66s/it]\n",
      " 13%|█▎        | 39/300 [03:12<20:07,  4.63s/it]\n",
      " 13%|█▎        | 39/300 [03:13<20:14,  4.65s/it]\n",
      " 13%|█▎        | 39/300 [03:13<20:15,  4.66s/it]\n",
      " 13%|█▎        | 39/300 [03:15<20:21,  4.68s/it]\n",
      " 13%|█▎        | 40/300 [03:17<20:03,  4.63s/it]\n",
      " 13%|█▎        | 40/300 [03:17<20:10,  4.66s/it]\n",
      " 13%|█▎        | 40/300 [03:18<20:09,  4.65s/it]\n",
      " 13%|█▎        | 40/300 [03:20<20:17,  4.68s/it]\n",
      " 14%|█▎        | 41/300 [03:21<19:57,  4.63s/it]\n",
      " 14%|█▎        | 41/300 [03:22<20:01,  4.64s/it]\n",
      " 14%|█▎        | 41/300 [03:22<20:04,  4.65s/it]\n",
      " 14%|█▎        | 41/300 [03:24<20:12,  4.68s/it]\n",
      " 14%|█▍        | 42/300 [03:26<19:53,  4.62s/it]\n",
      " 14%|█▍        | 42/300 [03:27<19:54,  4.63s/it]\n",
      " 14%|█▍        | 42/300 [03:27<19:58,  4.65s/it]\n",
      " 14%|█▍        | 42/300 [03:29<20:10,  4.69s/it]\n",
      " 14%|█▍        | 43/300 [03:31<19:48,  4.63s/it]\n",
      " 14%|█▍        | 43/300 [03:31<19:50,  4.63s/it]\n",
      " 14%|█▍        | 43/300 [03:32<19:53,  4.64s/it]\n",
      " 14%|█▍        | 43/300 [03:34<20:05,  4.69s/it]\n",
      " 15%|█▍        | 44/300 [03:35<19:41,  4.62s/it]\n",
      " 15%|█▍        | 44/300 [03:36<19:42,  4.62s/it]\n",
      " 15%|█▍        | 44/300 [03:36<19:49,  4.65s/it]\n",
      " 15%|█▍        | 44/300 [03:38<20:00,  4.69s/it]\n",
      " 15%|█▌        | 45/300 [03:40<19:35,  4.61s/it]\n",
      " 15%|█▌        | 45/300 [03:40<19:40,  4.63s/it]\n",
      " 15%|█▌        | 45/300 [03:41<19:42,  4.64s/it]\n",
      " 15%|█▌        | 45/300 [03:43<19:54,  4.69s/it]\n",
      " 15%|█▌        | 46/300 [03:44<19:31,  4.61s/it]\n",
      " 15%|█▌        | 46/300 [03:45<19:36,  4.63s/it]\n",
      " 15%|█▌        | 46/300 [03:46<19:36,  4.63s/it]\n",
      " 15%|█▌        | 46/300 [03:48<19:47,  4.68s/it]\n",
      " 16%|█▌        | 47/300 [03:49<19:26,  4.61s/it]\n",
      " 16%|█▌        | 47/300 [03:50<19:29,  4.62s/it]\n",
      " 16%|█▌        | 47/300 [03:50<19:32,  4.64s/it]\n",
      " 16%|█▌        | 47/300 [03:52<19:42,  4.67s/it]\n",
      " 16%|█▌        | 48/300 [03:54<19:18,  4.60s/it]\n",
      " 16%|█▌        | 48/300 [03:54<19:27,  4.63s/it]\n",
      " 16%|█▌        | 48/300 [03:55<19:26,  4.63s/it]\n",
      " 16%|█▌        | 48/300 [03:57<19:37,  4.67s/it]\n",
      " 16%|█▋        | 49/300 [03:58<19:13,  4.59s/it]\n",
      " 16%|█▋        | 49/300 [03:59<19:19,  4.62s/it]\n",
      " 16%|█▋        | 49/300 [03:59<19:20,  4.62s/it]\n",
      " 16%|█▋        | 49/300 [04:02<19:30,  4.67s/it]\n",
      " 17%|█▋        | 50/300 [04:03<19:09,  4.60s/it]\n",
      " 17%|█▋        | 50/300 [04:04<19:17,  4.63s/it]\n",
      " 17%|█▋        | 50/300 [04:04<19:15,  4.62s/it]\n",
      " 17%|█▋        | 50/300 [04:06<19:28,  4.67s/it]\n",
      " 17%|█▋        | 51/300 [04:07<19:04,  4.60s/it]\n",
      " 17%|█▋        | 51/300 [04:08<19:11,  4.63s/it]\n",
      " 17%|█▋        | 51/300 [04:09<19:10,  4.62s/it]\n",
      " 17%|█▋        | 51/300 [04:11<19:20,  4.66s/it]\n",
      " 17%|█▋        | 52/300 [04:12<19:00,  4.60s/it]\n",
      " 17%|█▋        | 52/300 [04:13<19:07,  4.63s/it]\n",
      " 17%|█▋        | 52/300 [04:13<19:07,  4.63s/it]\n",
      " 17%|█▋        | 52/300 [04:16<19:16,  4.66s/it]\n",
      " 18%|█▊        | 53/300 [04:17<18:57,  4.61s/it]\n",
      " 18%|█▊        | 53/300 [04:17<19:01,  4.62s/it]\n",
      " 18%|█▊        | 53/300 [04:18<19:04,  4.63s/it]\n",
      " 18%|█▊        | 53/300 [04:20<19:11,  4.66s/it]\n",
      " 18%|█▊        | 54/300 [04:21<18:51,  4.60s/it]\n",
      " 18%|█▊        | 54/300 [04:22<18:56,  4.62s/it]\n",
      " 18%|█▊        | 54/300 [04:23<19:01,  4.64s/it]\n",
      " 18%|█▊        | 54/300 [04:25<19:03,  4.65s/it]\n",
      " 18%|█▊        | 55/300 [04:26<18:47,  4.60s/it]\n",
      " 18%|█▊        | 55/300 [04:27<18:51,  4.62s/it]\n",
      " 18%|█▊        | 55/300 [04:27<18:56,  4.64s/it]\n",
      " 18%|█▊        | 55/300 [04:30<18:59,  4.65s/it]\n",
      " 19%|█▊        | 56/300 [04:30<18:41,  4.59s/it]\n",
      " 19%|█▊        | 56/300 [04:31<18:44,  4.61s/it]\n",
      " 19%|█▊        | 56/300 [04:32<18:49,  4.63s/it]\n",
      " 19%|█▊        | 56/300 [04:34<18:55,  4.65s/it]\n",
      " 19%|█▉        | 57/300 [04:35<18:36,  4.60s/it]\n",
      " 19%|█▉        | 57/300 [04:36<18:39,  4.61s/it]\n",
      " 19%|█▉        | 57/300 [04:36<18:43,  4.62s/it]\n",
      " 19%|█▉        | 57/300 [04:39<18:50,  4.65s/it]\n",
      " 19%|█▉        | 58/300 [04:40<18:30,  4.59s/it]\n",
      " 19%|█▉        | 58/300 [04:40<18:34,  4.61s/it]\n",
      " 19%|█▉        | 58/300 [04:41<18:37,  4.62s/it]\n",
      " 19%|█▉        | 58/300 [04:43<18:45,  4.65s/it]\n",
      " 20%|█▉        | 59/300 [04:44<18:24,  4.58s/it]\n",
      " 20%|█▉        | 59/300 [04:45<18:29,  4.60s/it]\n",
      " 20%|█▉        | 59/300 [04:46<18:34,  4.62s/it]\n",
      " 20%|█▉        | 59/300 [04:48<18:40,  4.65s/it]\n",
      " 20%|██        | 60/300 [04:49<18:21,  4.59s/it]\n",
      " 20%|██        | 60/300 [04:50<18:25,  4.61s/it]\n",
      " 20%|██        | 60/300 [04:50<18:31,  4.63s/it]\n",
      " 20%|██        | 60/300 [04:53<18:37,  4.66s/it]\n",
      " 20%|██        | 61/300 [04:53<18:18,  4.60s/it]\n",
      " 20%|██        | 61/300 [04:54<18:23,  4.62s/it]\n",
      " 20%|██        | 61/300 [04:55<18:27,  4.63s/it]\n",
      " 20%|██        | 61/300 [04:57<18:33,  4.66s/it]\n",
      " 21%|██        | 62/300 [04:58<18:16,  4.61s/it]\n",
      " 21%|██        | 62/300 [04:59<18:20,  4.62s/it]\n",
      " 21%|██        | 62/300 [05:00<18:22,  4.63s/it]\n",
      " 21%|██        | 62/300 [05:02<18:31,  4.67s/it]\n",
      " 21%|██        | 63/300 [05:03<18:14,  4.62s/it]\n",
      " 21%|██        | 63/300 [05:04<18:18,  4.64s/it]\n",
      " 21%|██        | 63/300 [05:04<18:18,  4.64s/it]\n",
      " 21%|██        | 63/300 [05:07<18:29,  4.68s/it]\n",
      " 21%|██▏       | 64/300 [05:07<18:11,  4.63s/it]\n",
      " 21%|██▏       | 64/300 [05:08<18:15,  4.64s/it]\n",
      " 21%|██▏       | 64/300 [05:09<18:16,  4.65s/it]\n",
      " 21%|██▏       | 64/300 [05:12<18:26,  4.69s/it]\n",
      " 22%|██▏       | 65/300 [05:12<18:05,  4.62s/it]\n",
      " 22%|██▏       | 65/300 [05:13<18:10,  4.64s/it]\n",
      " 22%|██▏       | 65/300 [05:14<18:12,  4.65s/it]\n",
      " 22%|██▏       | 65/300 [05:16<18:19,  4.68s/it]\n",
      " 22%|██▏       | 66/300 [05:16<18:00,  4.62s/it]\n",
      " 22%|██▏       | 66/300 [05:18<18:06,  4.64s/it]\n",
      " 22%|██▏       | 66/300 [05:18<18:09,  4.65s/it]\n",
      " 22%|██▏       | 66/300 [05:21<18:13,  4.67s/it]\n",
      " 22%|██▏       | 67/300 [05:21<17:55,  4.62s/it]\n",
      " 22%|██▏       | 67/300 [05:22<18:00,  4.64s/it]\n",
      " 22%|██▏       | 67/300 [05:23<18:01,  4.64s/it]\n",
      " 22%|██▏       | 67/300 [05:26<18:06,  4.66s/it]\n",
      " 23%|██▎       | 68/300 [05:26<17:49,  4.61s/it]\n",
      " 23%|██▎       | 68/300 [05:27<17:55,  4.63s/it]\n",
      " 23%|██▎       | 68/300 [05:28<17:56,  4.64s/it]\n",
      " 23%|██▎       | 69/300 [05:30<17:47,  4.62s/it]\n",
      " 23%|██▎       | 68/300 [05:30<18:03,  4.67s/it]\n",
      " 23%|██▎       | 69/300 [05:31<17:49,  4.63s/it]\n",
      " 23%|██▎       | 69/300 [05:32<17:49,  4.63s/it]\n",
      " 23%|██▎       | 70/300 [05:35<17:40,  4.61s/it]\n",
      " 23%|██▎       | 69/300 [05:35<17:59,  4.67s/it]\n",
      " 23%|██▎       | 70/300 [05:36<17:42,  4.62s/it]\n",
      " 23%|██▎       | 70/300 [05:37<17:47,  4.64s/it]\n",
      " 24%|██▎       | 71/300 [05:40<17:38,  4.62s/it]\n",
      " 23%|██▎       | 70/300 [05:40<17:53,  4.67s/it]\n",
      " 24%|██▎       | 71/300 [05:41<17:37,  4.62s/it]\n",
      " 24%|██▎       | 71/300 [05:41<17:44,  4.65s/it]\n",
      " 24%|██▍       | 72/300 [05:44<17:30,  4.61s/it]\n",
      " 24%|██▎       | 71/300 [05:44<17:49,  4.67s/it]\n",
      " 24%|██▍       | 72/300 [05:45<17:33,  4.62s/it]\n",
      " 24%|██▍       | 72/300 [05:46<17:37,  4.64s/it]\n",
      " 24%|██▍       | 73/300 [05:49<17:26,  4.61s/it]\n",
      " 24%|██▍       | 72/300 [05:49<17:44,  4.67s/it]\n",
      " 24%|██▍       | 73/300 [05:50<17:28,  4.62s/it]\n",
      " 24%|██▍       | 73/300 [05:51<17:33,  4.64s/it]\n",
      " 25%|██▍       | 74/300 [05:53<17:21,  4.61s/it]\n",
      " 24%|██▍       | 73/300 [05:54<17:39,  4.67s/it]\n",
      " 25%|██▍       | 74/300 [05:54<17:24,  4.62s/it]\n",
      " 25%|██▍       | 74/300 [05:55<17:28,  4.64s/it]\n",
      " 25%|██▌       | 75/300 [05:58<17:17,  4.61s/it]\n",
      " 25%|██▍       | 74/300 [05:58<17:35,  4.67s/it]\n",
      " 25%|██▌       | 75/300 [05:59<17:17,  4.61s/it]\n",
      " 25%|██▌       | 75/300 [06:00<17:22,  4.63s/it]\n",
      " 25%|██▌       | 76/300 [06:03<17:11,  4.60s/it]\n",
      " 25%|██▌       | 75/300 [06:03<17:30,  4.67s/it]\n",
      " 25%|██▌       | 76/300 [06:04<17:12,  4.61s/it]\n",
      " 25%|██▌       | 76/300 [06:05<17:15,  4.62s/it]\n",
      " 26%|██▌       | 77/300 [06:07<17:07,  4.61s/it]\n",
      " 25%|██▌       | 76/300 [06:08<17:25,  4.67s/it]\n",
      " 26%|██▌       | 77/300 [06:08<17:06,  4.60s/it]\n",
      " 26%|██▌       | 77/300 [06:09<17:10,  4.62s/it]\n",
      " 26%|██▌       | 78/300 [06:12<17:00,  4.60s/it]\n",
      " 26%|██▌       | 77/300 [06:12<17:22,  4.68s/it]\n",
      " 26%|██▌       | 78/300 [06:13<17:00,  4.60s/it]\n",
      " 26%|██▌       | 78/300 [06:14<17:02,  4.61s/it]\n",
      " 26%|██▋       | 79/300 [06:16<16:56,  4.60s/it]\n",
      " 26%|██▌       | 78/300 [06:17<17:14,  4.66s/it]\n",
      " 26%|██▋       | 79/300 [06:17<16:55,  4.59s/it]\n",
      " 26%|██▋       | 79/300 [06:18<16:59,  4.61s/it]\n",
      " 27%|██▋       | 80/300 [06:21<16:52,  4.60s/it]\n",
      " 26%|██▋       | 79/300 [06:22<17:11,  4.67s/it]\n",
      " 27%|██▋       | 80/300 [06:22<16:53,  4.61s/it]\n",
      " 27%|██▋       | 80/300 [06:23<16:54,  4.61s/it]\n",
      " 27%|██▋       | 81/300 [06:26<16:47,  4.60s/it]\n",
      " 27%|██▋       | 80/300 [06:26<17:06,  4.67s/it]\n",
      " 27%|██▋       | 81/300 [06:27<16:47,  4.60s/it]\n",
      " 27%|██▋       | 81/300 [06:28<16:50,  4.61s/it]\n",
      " 27%|██▋       | 82/300 [06:30<16:41,  4.60s/it]\n",
      " 27%|██▋       | 81/300 [06:31<16:59,  4.66s/it]\n",
      " 27%|██▋       | 82/300 [06:31<16:44,  4.61s/it]\n",
      " 27%|██▋       | 82/300 [06:32<16:46,  4.62s/it]\n",
      " 28%|██▊       | 83/300 [06:35<16:40,  4.61s/it]\n",
      " 27%|██▋       | 82/300 [06:35<16:51,  4.64s/it]\n",
      " 28%|██▊       | 83/300 [06:36<16:40,  4.61s/it]\n",
      " 28%|██▊       | 83/300 [06:37<16:43,  4.62s/it]\n",
      " 28%|██▊       | 84/300 [06:39<16:33,  4.60s/it]\n",
      " 28%|██▊       | 83/300 [06:40<16:49,  4.65s/it]\n",
      " 28%|██▊       | 84/300 [06:40<16:33,  4.60s/it]\n",
      " 28%|██▊       | 84/300 [06:42<16:38,  4.62s/it]\n",
      " 28%|██▊       | 85/300 [06:44<16:27,  4.59s/it]\n",
      " 28%|██▊       | 84/300 [06:45<16:46,  4.66s/it]\n",
      " 28%|██▊       | 85/300 [06:45<16:31,  4.61s/it]\n",
      " 28%|██▊       | 85/300 [06:46<16:33,  4.62s/it]\n",
      " 29%|██▊       | 86/300 [06:49<16:23,  4.60s/it]\n",
      " 28%|██▊       | 85/300 [06:50<16:44,  4.67s/it]\n",
      " 29%|██▊       | 86/300 [06:50<16:28,  4.62s/it]\n",
      " 29%|██▊       | 86/300 [06:51<16:28,  4.62s/it]\n",
      " 29%|██▉       | 87/300 [06:53<16:17,  4.59s/it]\n",
      " 29%|██▊       | 86/300 [06:54<16:40,  4.68s/it]\n",
      " 29%|██▉       | 87/300 [06:54<16:23,  4.62s/it]\n",
      " 29%|██▉       | 87/300 [06:55<16:25,  4.63s/it]\n",
      " 29%|██▉       | 88/300 [06:58<16:12,  4.58s/it]\n",
      " 29%|██▉       | 87/300 [06:59<16:33,  4.67s/it]\n",
      " 29%|██▉       | 88/300 [06:59<16:19,  4.62s/it]\n",
      " 29%|██▉       | 88/300 [07:00<16:19,  4.62s/it]\n",
      " 30%|██▉       | 89/300 [07:02<16:05,  4.58s/it]\n",
      " 29%|██▉       | 88/300 [07:03<16:27,  4.66s/it]\n",
      " 30%|██▉       | 89/300 [07:04<16:13,  4.62s/it]\n",
      " 30%|██▉       | 89/300 [07:05<16:14,  4.62s/it]\n",
      " 30%|███       | 90/300 [07:07<16:03,  4.59s/it]\n",
      " 30%|███       | 90/300 [07:08<16:11,  4.63s/it]\n",
      " 30%|██▉       | 89/300 [07:08<16:24,  4.67s/it]\n",
      " 30%|███       | 90/300 [07:09<16:11,  4.63s/it]\n",
      " 30%|███       | 91/300 [07:11<15:58,  4.58s/it]\n",
      " 30%|███       | 91/300 [07:13<16:06,  4.63s/it]\n",
      " 30%|███       | 90/300 [07:13<16:20,  4.67s/it]\n",
      " 30%|███       | 91/300 [07:14<16:04,  4.62s/it]\n",
      " 31%|███       | 92/300 [07:16<15:55,  4.59s/it]\n",
      " 31%|███       | 92/300 [07:17<16:01,  4.62s/it]\n",
      " 30%|███       | 91/300 [07:18<16:15,  4.67s/it]\n",
      " 31%|███       | 92/300 [07:18<16:00,  4.62s/it]\n",
      " 31%|███       | 93/300 [07:21<15:50,  4.59s/it]\n",
      " 31%|███       | 93/300 [07:22<15:55,  4.62s/it]\n",
      " 31%|███       | 92/300 [07:22<16:10,  4.67s/it]\n",
      " 31%|███       | 93/300 [07:23<15:52,  4.60s/it]\n",
      " 31%|███▏      | 94/300 [07:25<15:47,  4.60s/it]\n",
      " 31%|███▏      | 94/300 [07:27<15:51,  4.62s/it]\n",
      " 31%|███       | 93/300 [07:27<16:04,  4.66s/it]\n",
      " 31%|███▏      | 94/300 [07:28<15:49,  4.61s/it]\n",
      " 32%|███▏      | 95/300 [07:30<15:43,  4.60s/it]\n",
      " 32%|███▏      | 95/300 [07:31<15:45,  4.61s/it]\n",
      " 31%|███▏      | 94/300 [07:32<16:01,  4.67s/it]\n",
      " 32%|███▏      | 95/300 [07:32<15:45,  4.61s/it]\n",
      " 32%|███▏      | 96/300 [07:34<15:38,  4.60s/it]\n",
      " 32%|███▏      | 96/300 [07:36<15:43,  4.63s/it]\n",
      " 32%|███▏      | 95/300 [07:36<15:57,  4.67s/it]\n",
      " 32%|███▏      | 96/300 [07:37<15:43,  4.63s/it]\n",
      " 32%|███▏      | 97/300 [07:39<15:34,  4.60s/it]\n",
      " 32%|███▏      | 97/300 [07:41<15:36,  4.61s/it]\n",
      " 32%|███▏      | 96/300 [07:41<15:53,  4.67s/it]\n",
      " 32%|███▏      | 97/300 [07:42<15:39,  4.63s/it]\n",
      " 33%|███▎      | 98/300 [07:44<15:29,  4.60s/it]\n",
      " 33%|███▎      | 98/300 [07:45<15:31,  4.61s/it]\n",
      " 32%|███▏      | 97/300 [07:46<15:49,  4.68s/it]\n",
      " 33%|███▎      | 98/300 [07:46<15:35,  4.63s/it]\n",
      " 33%|███▎      | 99/300 [07:48<15:25,  4.61s/it]\n",
      " 33%|███▎      | 99/300 [07:50<15:27,  4.62s/it]\n",
      " 33%|███▎      | 98/300 [07:50<15:45,  4.68s/it]\n",
      " 33%|███▎      | 99/300 [07:51<15:30,  4.63s/it]\n",
      " 33%|███▎      | 100/300 [07:53<15:20,  4.60s/it]\n",
      " 33%|███▎      | 100/300 [07:54<15:23,  4.62s/it]\n",
      " 33%|███▎      | 99/300 [07:55<15:40,  4.68s/it]\n",
      " 33%|███▎      | 100/300 [07:55<15:24,  4.62s/it]\n",
      " 34%|███▎      | 101/300 [07:57<15:13,  4.59s/it]\n",
      " 34%|███▎      | 101/300 [07:59<15:15,  4.60s/it]\n",
      " 33%|███▎      | 100/300 [08:00<15:32,  4.66s/it]\n",
      " 34%|███▎      | 101/300 [08:00<15:17,  4.61s/it]\n",
      " 34%|███▍      | 102/300 [08:02<15:07,  4.58s/it]\n",
      " 34%|███▍      | 102/300 [08:04<15:08,  4.59s/it]\n",
      " 34%|███▎      | 101/300 [08:04<15:25,  4.65s/it]\n",
      " 34%|███▍      | 102/300 [08:05<15:11,  4.61s/it]\n",
      " 34%|███▍      | 103/300 [08:07<15:05,  4.60s/it]\n",
      " 34%|███▍      | 103/300 [08:08<15:04,  4.59s/it]\n",
      " 34%|███▍      | 102/300 [08:09<15:23,  4.66s/it]\n",
      " 34%|███▍      | 103/300 [08:09<15:09,  4.61s/it]\n",
      " 35%|███▍      | 104/300 [08:11<15:04,  4.61s/it]\n",
      " 35%|███▍      | 104/300 [08:13<15:03,  4.61s/it]\n",
      " 34%|███▍      | 103/300 [08:14<15:20,  4.67s/it]\n",
      " 35%|███▍      | 104/300 [08:14<15:07,  4.63s/it]\n",
      " 35%|███▌      | 105/300 [08:16<14:59,  4.61s/it]\n",
      " 35%|███▌      | 105/300 [08:17<14:57,  4.60s/it]\n",
      " 35%|███▍      | 104/300 [08:18<15:22,  4.71s/it]\n",
      " 35%|███▌      | 105/300 [08:19<15:08,  4.66s/it]\n",
      " 35%|███▌      | 106/300 [08:21<15:01,  4.65s/it]\n",
      " 35%|███▌      | 106/300 [08:22<15:01,  4.65s/it]\n",
      " 35%|███▌      | 105/300 [08:23<15:14,  4.69s/it]\n",
      " 35%|███▌      | 106/300 [08:23<15:01,  4.65s/it]\n",
      " 36%|███▌      | 107/300 [08:25<14:54,  4.63s/it]\n",
      " 36%|███▌      | 107/300 [08:27<14:57,  4.65s/it]\n",
      " 35%|███▌      | 106/300 [08:28<15:08,  4.68s/it]\n",
      " 36%|███▌      | 107/300 [08:28<14:56,  4.64s/it]\n",
      " 36%|███▌      | 108/300 [08:30<14:48,  4.63s/it]\n",
      " 36%|███▌      | 108/300 [08:31<14:51,  4.65s/it]\n",
      " 36%|███▌      | 107/300 [08:32<15:03,  4.68s/it]\n",
      " 36%|███▌      | 108/300 [08:33<14:50,  4.64s/it]\n",
      " 36%|███▋      | 109/300 [08:34<14:44,  4.63s/it]\n",
      " 36%|███▋      | 109/300 [08:36<14:46,  4.64s/it]\n",
      " 36%|███▋      | 109/300 [08:37<14:46,  4.64s/it]\n",
      " 36%|███▌      | 108/300 [08:37<15:01,  4.69s/it]\n",
      " 37%|███▋      | 110/300 [08:39<14:39,  4.63s/it]\n",
      " 37%|███▋      | 110/300 [08:41<14:40,  4.63s/it]\n",
      " 37%|███▋      | 110/300 [08:42<14:40,  4.64s/it]\n",
      " 36%|███▋      | 109/300 [08:42<14:55,  4.69s/it]\n",
      " 37%|███▋      | 111/300 [08:44<14:33,  4.62s/it]\n",
      " 37%|███▋      | 111/300 [08:45<14:33,  4.62s/it]\n",
      " 37%|███▋      | 111/300 [08:46<14:35,  4.63s/it]\n",
      " 37%|███▋      | 110/300 [08:46<14:51,  4.69s/it]\n",
      " 37%|███▋      | 112/300 [08:48<14:25,  4.60s/it]\n",
      " 37%|███▋      | 112/300 [08:50<14:28,  4.62s/it]\n",
      " 37%|███▋      | 112/300 [08:51<14:32,  4.64s/it]\n",
      " 37%|███▋      | 111/300 [08:51<14:41,  4.66s/it]\n",
      " 38%|███▊      | 113/300 [08:53<14:18,  4.59s/it]\n",
      " 38%|███▊      | 113/300 [08:54<14:23,  4.62s/it]\n",
      " 38%|███▊      | 113/300 [08:56<14:26,  4.63s/it]\n",
      " 37%|███▋      | 112/300 [08:56<14:37,  4.67s/it]\n",
      " 38%|███▊      | 114/300 [08:57<14:16,  4.60s/it]\n",
      " 38%|███▊      | 114/300 [08:59<14:18,  4.62s/it]\n",
      " 38%|███▊      | 114/300 [09:00<14:22,  4.64s/it]\n",
      " 38%|███▊      | 113/300 [09:00<14:33,  4.67s/it]\n",
      " 38%|███▊      | 115/300 [09:02<14:12,  4.61s/it]\n",
      " 38%|███▊      | 115/300 [09:04<14:15,  4.62s/it]\n",
      " 38%|███▊      | 115/300 [09:05<14:17,  4.64s/it]\n",
      " 38%|███▊      | 114/300 [09:05<14:31,  4.69s/it]\n",
      " 39%|███▊      | 116/300 [09:07<14:08,  4.61s/it]\n",
      " 39%|███▊      | 116/300 [09:08<14:11,  4.63s/it]\n",
      " 39%|███▊      | 116/300 [09:10<14:12,  4.63s/it]\n",
      " 38%|███▊      | 115/300 [09:10<14:27,  4.69s/it]\n",
      " 39%|███▉      | 117/300 [09:11<14:03,  4.61s/it]\n",
      " 39%|███▉      | 117/300 [09:13<14:07,  4.63s/it]\n",
      " 39%|███▉      | 117/300 [09:14<14:07,  4.63s/it]\n",
      " 39%|███▊      | 116/300 [09:14<14:20,  4.67s/it]\n",
      " 39%|███▉      | 118/300 [09:16<13:59,  4.61s/it]\n",
      " 39%|███▉      | 118/300 [09:18<14:00,  4.62s/it]\n",
      " 39%|███▉      | 118/300 [09:19<14:02,  4.63s/it]\n",
      " 39%|███▉      | 117/300 [09:19<14:15,  4.67s/it]\n",
      " 40%|███▉      | 119/300 [09:21<13:57,  4.62s/it]\n",
      " 40%|███▉      | 119/300 [09:22<13:58,  4.63s/it]\n",
      " 40%|███▉      | 119/300 [09:23<13:57,  4.63s/it]\n",
      " 39%|███▉      | 118/300 [09:24<14:11,  4.68s/it]\n",
      " 40%|████      | 120/300 [09:25<13:53,  4.63s/it]\n",
      " 40%|████      | 120/300 [09:27<13:53,  4.63s/it]\n",
      " 40%|████      | 120/300 [09:28<13:51,  4.62s/it]\n",
      " 40%|███▉      | 119/300 [09:28<14:07,  4.68s/it]\n",
      " 40%|████      | 121/300 [09:30<13:48,  4.63s/it]\n",
      " 40%|████      | 121/300 [09:32<13:51,  4.64s/it]\n",
      " 40%|████      | 121/300 [09:33<13:50,  4.64s/it]\n",
      " 40%|████      | 120/300 [09:33<14:01,  4.67s/it]\n",
      " 41%|████      | 122/300 [09:34<13:42,  4.62s/it]\n",
      " 41%|████      | 122/300 [09:36<13:46,  4.64s/it]\n",
      " 41%|████      | 122/300 [09:37<13:43,  4.63s/it]\n",
      " 40%|████      | 121/300 [09:38<13:57,  4.68s/it]\n",
      " 41%|████      | 123/300 [09:39<13:36,  4.61s/it]\n",
      " 41%|████      | 123/300 [09:41<13:39,  4.63s/it]\n",
      " 41%|████      | 123/300 [09:42<13:37,  4.62s/it]\n",
      " 41%|████      | 122/300 [09:42<13:50,  4.67s/it]\n",
      " 41%|████▏     | 124/300 [09:44<13:31,  4.61s/it]\n",
      " 41%|████▏     | 124/300 [09:45<13:34,  4.63s/it]\n",
      " 41%|████▏     | 124/300 [09:47<13:32,  4.62s/it]\n",
      " 41%|████      | 123/300 [09:47<13:46,  4.67s/it]\n",
      " 42%|████▏     | 125/300 [09:48<13:27,  4.62s/it]\n",
      " 42%|████▏     | 125/300 [09:50<13:30,  4.63s/it]\n",
      " 42%|████▏     | 125/300 [09:51<13:30,  4.63s/it]\n",
      " 41%|████▏     | 124/300 [09:52<13:43,  4.68s/it]\n",
      " 42%|████▏     | 126/300 [09:53<13:21,  4.61s/it]\n",
      " 42%|████▏     | 126/300 [09:55<13:25,  4.63s/it]\n",
      " 42%|████▏     | 126/300 [09:56<13:25,  4.63s/it]\n",
      " 42%|████▏     | 125/300 [09:56<13:36,  4.66s/it]\n",
      " 42%|████▏     | 127/300 [09:57<13:15,  4.60s/it]\n",
      " 42%|████▏     | 127/300 [09:59<13:23,  4.65s/it]\n",
      " 42%|████▏     | 127/300 [10:01<13:22,  4.64s/it]\n",
      " 42%|████▏     | 126/300 [10:01<13:30,  4.66s/it]\n",
      " 43%|████▎     | 128/300 [10:02<13:10,  4.60s/it]\n",
      " 43%|████▎     | 128/300 [10:04<13:18,  4.64s/it]\n",
      " 43%|████▎     | 128/300 [10:05<13:17,  4.64s/it]\n",
      " 42%|████▏     | 127/300 [10:06<13:28,  4.67s/it]\n",
      " 43%|████▎     | 129/300 [10:07<13:06,  4.60s/it]\n",
      " 43%|████▎     | 129/300 [10:09<13:15,  4.65s/it]\n",
      " 43%|████▎     | 129/300 [10:10<13:10,  4.62s/it]\n",
      " 43%|████▎     | 128/300 [10:11<13:24,  4.68s/it]\n",
      " 43%|████▎     | 130/300 [10:11<13:00,  4.59s/it]\n",
      " 43%|████▎     | 130/300 [10:13<13:08,  4.64s/it]\n",
      " 43%|████▎     | 130/300 [10:14<13:06,  4.63s/it]\n",
      " 43%|████▎     | 129/300 [10:15<13:17,  4.66s/it]\n",
      " 44%|████▎     | 131/300 [10:16<12:56,  4.59s/it]\n",
      " 44%|████▎     | 131/300 [10:18<13:01,  4.62s/it]\n",
      " 44%|████▎     | 131/300 [10:19<13:00,  4.62s/it]\n",
      " 43%|████▎     | 130/300 [10:20<13:10,  4.65s/it]\n",
      " 44%|████▍     | 132/300 [10:20<12:51,  4.59s/it]\n",
      " 44%|████▍     | 132/300 [10:23<12:59,  4.64s/it]\n",
      " 44%|████▍     | 132/300 [10:24<12:58,  4.64s/it]\n",
      " 44%|████▎     | 131/300 [10:24<13:09,  4.67s/it]\n",
      " 44%|████▍     | 133/300 [10:25<12:48,  4.60s/it]\n",
      " 44%|████▍     | 133/300 [10:27<12:53,  4.63s/it]\n",
      " 44%|████▍     | 133/300 [10:28<12:52,  4.63s/it]\n",
      " 44%|████▍     | 132/300 [10:29<13:04,  4.67s/it]\n",
      " 45%|████▍     | 134/300 [10:30<12:44,  4.61s/it]\n",
      " 45%|████▍     | 134/300 [10:32<12:47,  4.62s/it]\n",
      " 45%|████▍     | 134/300 [10:33<12:45,  4.61s/it]\n",
      " 44%|████▍     | 133/300 [10:34<12:59,  4.67s/it]\n",
      " 45%|████▌     | 135/300 [10:34<12:39,  4.60s/it]\n",
      " 45%|████▌     | 135/300 [10:36<12:40,  4.61s/it]\n",
      " 45%|████▌     | 135/300 [10:37<12:40,  4.61s/it]\n",
      " 45%|████▍     | 134/300 [10:38<12:53,  4.66s/it]\n",
      " 45%|████▌     | 136/300 [10:39<12:34,  4.60s/it]\n",
      " 45%|████▌     | 136/300 [10:41<12:36,  4.61s/it]\n",
      " 45%|████▌     | 136/300 [10:42<12:38,  4.62s/it]\n",
      " 45%|████▌     | 135/300 [10:43<12:52,  4.68s/it]\n",
      " 46%|████▌     | 137/300 [10:43<12:32,  4.62s/it]\n",
      " 46%|████▌     | 137/300 [10:46<12:32,  4.61s/it]\n",
      " 46%|████▌     | 137/300 [10:47<12:35,  4.64s/it]\n",
      " 45%|████▌     | 136/300 [10:48<12:46,  4.67s/it]\n",
      " 46%|████▌     | 138/300 [10:48<12:27,  4.61s/it]\n",
      " 46%|████▌     | 138/300 [10:50<12:27,  4.62s/it]\n",
      " 46%|████▌     | 138/300 [10:51<12:29,  4.62s/it]\n",
      " 46%|████▌     | 137/300 [10:53<12:42,  4.68s/it]\n",
      " 46%|████▋     | 139/300 [10:53<12:23,  4.62s/it]\n",
      " 46%|████▋     | 139/300 [10:55<12:23,  4.62s/it]\n",
      " 46%|████▋     | 139/300 [10:56<12:23,  4.62s/it]\n",
      " 47%|████▋     | 140/300 [10:57<12:18,  4.62s/it]\n",
      " 46%|████▌     | 138/300 [10:57<12:37,  4.67s/it]\n",
      " 47%|████▋     | 140/300 [10:59<12:17,  4.61s/it]\n",
      " 47%|████▋     | 140/300 [11:01<12:19,  4.62s/it]\n",
      " 47%|████▋     | 141/300 [11:02<12:12,  4.61s/it]\n",
      " 46%|████▋     | 139/300 [11:02<12:31,  4.67s/it]\n",
      " 47%|████▋     | 141/300 [11:04<12:13,  4.61s/it]\n",
      " 47%|████▋     | 141/300 [11:05<12:14,  4.62s/it]\n",
      " 47%|████▋     | 142/300 [11:07<12:08,  4.61s/it]\n",
      " 47%|████▋     | 140/300 [11:07<12:28,  4.68s/it]\n",
      " 47%|████▋     | 142/300 [11:09<12:09,  4.62s/it]\n",
      " 47%|████▋     | 142/300 [11:10<12:08,  4.61s/it]\n",
      " 48%|████▊     | 143/300 [11:11<12:01,  4.59s/it]\n",
      " 47%|████▋     | 141/300 [11:11<12:21,  4.67s/it]\n",
      " 48%|████▊     | 143/300 [11:13<12:03,  4.61s/it]\n",
      " 48%|████▊     | 143/300 [11:14<12:03,  4.61s/it]\n",
      " 48%|████▊     | 144/300 [11:16<11:56,  4.59s/it]\n",
      " 47%|████▋     | 142/300 [11:16<12:16,  4.66s/it]\n",
      " 48%|████▊     | 144/300 [11:18<11:59,  4.61s/it]\n",
      " 48%|████▊     | 144/300 [11:19<11:58,  4.61s/it]\n",
      " 48%|████▊     | 145/300 [11:20<11:51,  4.59s/it]\n",
      " 48%|████▊     | 143/300 [11:21<12:11,  4.66s/it]\n",
      " 48%|████▊     | 145/300 [11:22<11:54,  4.61s/it]\n",
      " 48%|████▊     | 145/300 [11:24<11:53,  4.60s/it]\n",
      " 49%|████▊     | 146/300 [11:25<11:47,  4.60s/it]\n",
      " 48%|████▊     | 144/300 [11:25<12:06,  4.65s/it]\n",
      " 49%|████▊     | 146/300 [11:27<11:50,  4.61s/it]\n",
      " 49%|████▊     | 146/300 [11:28<11:48,  4.60s/it]\n",
      " 49%|████▉     | 147/300 [11:29<11:43,  4.59s/it]\n",
      " 48%|████▊     | 145/300 [11:30<12:00,  4.65s/it]\n",
      " 49%|████▉     | 147/300 [11:32<11:46,  4.62s/it]\n",
      " 49%|████▉     | 147/300 [11:33<11:44,  4.60s/it]\n",
      " 49%|████▉     | 148/300 [11:34<11:38,  4.59s/it]\n",
      " 49%|████▊     | 146/300 [11:34<11:54,  4.64s/it]\n",
      " 49%|████▉     | 148/300 [11:36<11:41,  4.62s/it]\n",
      " 49%|████▉     | 148/300 [11:37<11:38,  4.60s/it]\n",
      " 50%|████▉     | 149/300 [11:39<11:33,  4.59s/it]\n",
      " 49%|████▉     | 147/300 [11:39<11:49,  4.63s/it]\n",
      " 50%|████▉     | 149/300 [11:41<11:36,  4.61s/it]\n",
      " 50%|████▉     | 149/300 [11:42<11:35,  4.60s/it]\n",
      " 50%|█████     | 150/300 [11:43<11:29,  4.60s/it]\n",
      " 49%|████▉     | 148/300 [11:44<11:43,  4.63s/it]\n",
      " 50%|█████     | 150/300 [11:46<11:32,  4.62s/it]\n",
      " 50%|█████     | 150/300 [11:47<11:30,  4.60s/it]\n",
      " 50%|█████     | 151/300 [11:48<11:25,  4.60s/it]\n",
      " 50%|████▉     | 149/300 [11:48<11:38,  4.63s/it]\n",
      " 50%|█████     | 151/300 [11:50<11:27,  4.62s/it]\n",
      " 50%|█████     | 151/300 [11:51<11:24,  4.59s/it]\n",
      " 51%|█████     | 152/300 [11:52<11:21,  4.60s/it]\n",
      " 50%|█████     | 150/300 [11:53<11:36,  4.64s/it]\n",
      " 51%|█████     | 152/300 [11:55<11:23,  4.62s/it]\n",
      " 51%|█████     | 152/300 [11:56<11:22,  4.61s/it]\n",
      " 51%|█████     | 153/300 [11:57<11:17,  4.61s/it]\n",
      " 50%|█████     | 151/300 [11:58<11:31,  4.64s/it]\n",
      " 51%|█████     | 153/300 [11:59<11:18,  4.62s/it]\n",
      " 51%|█████     | 153/300 [12:01<11:19,  4.63s/it]\n",
      " 51%|█████▏    | 154/300 [12:02<11:12,  4.61s/it]\n",
      " 51%|█████     | 152/300 [12:02<11:28,  4.65s/it]\n",
      " 51%|█████▏    | 154/300 [12:04<11:13,  4.62s/it]\n",
      " 51%|█████▏    | 154/300 [12:05<11:13,  4.62s/it]\n",
      " 52%|█████▏    | 155/300 [12:06<11:06,  4.60s/it]\n",
      " 51%|█████     | 153/300 [12:07<11:25,  4.66s/it]\n",
      " 52%|█████▏    | 155/300 [12:09<11:08,  4.61s/it]\n",
      " 52%|█████▏    | 155/300 [12:10<11:09,  4.62s/it]\n",
      " 52%|█████▏    | 156/300 [12:11<11:02,  4.60s/it]\n",
      " 51%|█████▏    | 154/300 [12:12<11:19,  4.65s/it]\n",
      " 52%|█████▏    | 156/300 [12:13<11:03,  4.61s/it]\n",
      " 52%|█████▏    | 156/300 [12:14<11:04,  4.61s/it]\n",
      " 52%|█████▏    | 157/300 [12:15<10:56,  4.59s/it]\n",
      " 52%|█████▏    | 155/300 [12:16<11:13,  4.65s/it]\n",
      " 52%|█████▏    | 157/300 [12:18<10:58,  4.60s/it]\n",
      " 52%|█████▏    | 157/300 [12:19<10:59,  4.61s/it]\n",
      " 53%|█████▎    | 158/300 [12:20<10:50,  4.58s/it]\n",
      " 52%|█████▏    | 156/300 [12:21<11:09,  4.65s/it]\n",
      " 53%|█████▎    | 158/300 [12:22<10:52,  4.60s/it]\n",
      " 53%|█████▎    | 158/300 [12:24<10:54,  4.61s/it]\n",
      " 53%|█████▎    | 159/300 [12:25<10:46,  4.59s/it]\n",
      " 52%|█████▏    | 157/300 [12:25<11:03,  4.64s/it]\n",
      " 53%|█████▎    | 159/300 [12:27<10:48,  4.60s/it]\n",
      " 53%|█████▎    | 159/300 [12:28<10:52,  4.63s/it]\n",
      " 53%|█████▎    | 160/300 [12:29<10:42,  4.59s/it]\n",
      " 53%|█████▎    | 158/300 [12:30<10:58,  4.64s/it]\n",
      " 53%|█████▎    | 160/300 [12:32<10:45,  4.61s/it]\n",
      " 53%|█████▎    | 160/300 [12:33<10:49,  4.64s/it]\n",
      " 54%|█████▎    | 161/300 [12:34<10:39,  4.60s/it]\n",
      " 53%|█████▎    | 159/300 [12:35<10:55,  4.65s/it]\n",
      " 54%|█████▎    | 161/300 [12:36<10:41,  4.62s/it]\n",
      " 54%|█████▎    | 161/300 [12:38<10:45,  4.64s/it]\n",
      " 54%|█████▍    | 162/300 [12:38<10:35,  4.60s/it]\n",
      " 53%|█████▎    | 160/300 [12:39<10:52,  4.66s/it]\n",
      " 54%|█████▍    | 162/300 [12:41<10:38,  4.62s/it]\n",
      " 54%|█████▍    | 162/300 [12:42<10:40,  4.64s/it]\n",
      " 54%|█████▍    | 163/300 [12:43<10:31,  4.61s/it]\n",
      " 54%|█████▎    | 161/300 [12:44<10:47,  4.66s/it]\n",
      " 54%|█████▍    | 163/300 [12:46<10:33,  4.62s/it]\n",
      " 54%|█████▍    | 163/300 [12:47<10:36,  4.64s/it]\n",
      " 55%|█████▍    | 164/300 [12:48<10:26,  4.61s/it]\n",
      " 54%|█████▍    | 162/300 [12:49<10:44,  4.67s/it]\n",
      " 55%|█████▍    | 164/300 [12:50<10:29,  4.63s/it]\n",
      " 55%|█████▍    | 164/300 [12:51<10:30,  4.64s/it]\n",
      " 55%|█████▌    | 165/300 [12:52<10:20,  4.60s/it]\n",
      " 54%|█████▍    | 163/300 [12:53<10:38,  4.66s/it]\n",
      " 55%|█████▌    | 165/300 [12:55<10:23,  4.62s/it]\n",
      " 55%|█████▌    | 165/300 [12:56<10:26,  4.64s/it]\n",
      " 55%|█████▌    | 166/300 [12:57<10:16,  4.60s/it]\n",
      " 55%|█████▍    | 164/300 [12:58<10:34,  4.67s/it]\n",
      " 55%|█████▌    | 166/300 [12:59<10:19,  4.63s/it]\n",
      " 55%|█████▌    | 166/300 [13:01<10:22,  4.65s/it]\n",
      " 56%|█████▌    | 167/300 [13:01<10:11,  4.60s/it]\n",
      " 55%|█████▌    | 165/300 [13:03<10:30,  4.67s/it]\n",
      " 56%|█████▌    | 167/300 [13:04<10:15,  4.63s/it]\n",
      " 56%|█████▌    | 167/300 [13:05<10:17,  4.64s/it]\n",
      " 56%|█████▌    | 168/300 [13:06<10:07,  4.60s/it]\n",
      " 55%|█████▌    | 166/300 [13:07<10:25,  4.66s/it]\n",
      " 56%|█████▌    | 168/300 [13:09<10:10,  4.62s/it]\n",
      " 56%|█████▌    | 168/300 [13:10<10:11,  4.63s/it]\n",
      " 56%|█████▋    | 169/300 [13:11<10:03,  4.60s/it]\n",
      " 56%|█████▌    | 167/300 [13:12<10:21,  4.67s/it]\n",
      " 56%|█████▋    | 169/300 [13:13<10:05,  4.62s/it]\n",
      " 56%|█████▋    | 169/300 [13:15<10:07,  4.64s/it]\n",
      " 57%|█████▋    | 170/300 [13:15<09:57,  4.60s/it]\n",
      " 56%|█████▌    | 168/300 [13:17<10:15,  4.66s/it]\n",
      " 57%|█████▋    | 170/300 [13:18<10:01,  4.62s/it]\n",
      " 57%|█████▋    | 170/300 [13:19<10:02,  4.64s/it]\n",
      " 57%|█████▋    | 171/300 [13:20<09:52,  4.59s/it]\n",
      " 56%|█████▋    | 169/300 [13:21<10:11,  4.66s/it]\n",
      " 57%|█████▋    | 171/300 [13:22<09:55,  4.62s/it]\n",
      " 57%|█████▋    | 171/300 [13:24<09:57,  4.63s/it]\n",
      " 57%|█████▋    | 172/300 [13:24<09:48,  4.59s/it]\n",
      " 57%|█████▋    | 170/300 [13:26<10:06,  4.66s/it]\n",
      " 57%|█████▋    | 172/300 [13:27<09:52,  4.63s/it]\n",
      " 57%|█████▋    | 172/300 [13:29<09:53,  4.64s/it]\n",
      " 58%|█████▊    | 173/300 [13:29<09:44,  4.60s/it]\n",
      " 57%|█████▋    | 171/300 [13:31<09:59,  4.65s/it]\n",
      " 58%|█████▊    | 173/300 [13:32<09:47,  4.63s/it]\n",
      " 58%|█████▊    | 173/300 [13:33<09:50,  4.65s/it]\n",
      " 58%|█████▊    | 174/300 [13:34<09:40,  4.60s/it]\n",
      " 57%|█████▋    | 172/300 [13:35<09:56,  4.66s/it]\n",
      " 58%|█████▊    | 174/300 [13:36<09:42,  4.62s/it]\n",
      " 58%|█████▊    | 174/300 [13:38<09:43,  4.63s/it]\n",
      " 58%|█████▊    | 175/300 [13:38<09:34,  4.60s/it]\n",
      " 58%|█████▊    | 173/300 [13:40<09:49,  4.64s/it]\n",
      " 58%|█████▊    | 175/300 [13:41<09:34,  4.60s/it]\n",
      " 58%|█████▊    | 175/300 [13:42<09:36,  4.61s/it]\n",
      " 59%|█████▊    | 176/300 [13:43<09:28,  4.58s/it]\n",
      " 58%|█████▊    | 174/300 [13:45<09:47,  4.66s/it]\n",
      " 59%|█████▊    | 176/300 [13:46<09:32,  4.61s/it]\n",
      " 59%|█████▊    | 176/300 [13:47<09:34,  4.63s/it]\n",
      " 59%|█████▉    | 177/300 [13:47<09:25,  4.60s/it]\n",
      " 58%|█████▊    | 175/300 [13:49<09:44,  4.67s/it]\n",
      " 59%|█████▉    | 177/300 [13:50<09:27,  4.62s/it]\n",
      " 59%|█████▉    | 177/300 [13:52<09:30,  4.64s/it]\n",
      " 59%|█████▉    | 178/300 [13:52<09:23,  4.62s/it]\n",
      " 59%|█████▊    | 176/300 [13:54<09:39,  4.68s/it]\n",
      " 59%|█████▉    | 178/300 [13:55<09:23,  4.62s/it]\n",
      " 59%|█████▉    | 178/300 [13:56<09:25,  4.64s/it]\n",
      " 60%|█████▉    | 179/300 [13:57<09:18,  4.61s/it]\n",
      " 59%|█████▉    | 177/300 [13:59<09:35,  4.68s/it]\n",
      " 60%|█████▉    | 179/300 [13:59<09:18,  4.61s/it]\n",
      " 60%|█████▉    | 179/300 [14:01<09:20,  4.63s/it]\n",
      " 60%|██████    | 180/300 [14:01<09:13,  4.61s/it]\n",
      " 59%|█████▉    | 178/300 [14:03<09:30,  4.68s/it]\n",
      " 60%|██████    | 180/300 [14:04<09:12,  4.60s/it]\n",
      " 60%|██████    | 180/300 [14:06<09:15,  4.63s/it]\n",
      " 60%|██████    | 181/300 [14:06<09:07,  4.60s/it]\n",
      " 60%|█████▉    | 179/300 [14:08<09:24,  4.67s/it]\n",
      " 60%|██████    | 181/300 [14:09<09:07,  4.60s/it]\n",
      " 60%|██████    | 181/300 [14:10<09:11,  4.64s/it]\n",
      " 61%|██████    | 182/300 [14:10<09:01,  4.59s/it]\n",
      " 60%|██████    | 180/300 [14:13<09:19,  4.66s/it]\n",
      " 61%|██████    | 182/300 [14:13<09:02,  4.60s/it]\n",
      " 61%|██████    | 182/300 [14:15<09:06,  4.63s/it]\n",
      " 61%|██████    | 183/300 [14:15<08:58,  4.60s/it]\n",
      " 60%|██████    | 181/300 [14:17<09:14,  4.66s/it]\n",
      " 61%|██████    | 183/300 [14:18<08:58,  4.60s/it]\n",
      " 61%|██████    | 183/300 [14:19<09:02,  4.63s/it]\n",
      " 61%|██████▏   | 184/300 [14:20<08:54,  4.60s/it]\n",
      " 61%|██████    | 182/300 [14:22<09:10,  4.67s/it]\n",
      " 61%|██████▏   | 184/300 [14:22<08:53,  4.60s/it]\n",
      " 61%|██████▏   | 184/300 [14:24<08:58,  4.64s/it]\n",
      " 62%|██████▏   | 185/300 [14:24<08:48,  4.60s/it]\n",
      " 61%|██████    | 183/300 [14:27<09:06,  4.67s/it]\n",
      " 62%|██████▏   | 185/300 [14:27<08:49,  4.61s/it]\n",
      " 62%|██████▏   | 185/300 [14:29<08:51,  4.62s/it]\n",
      " 62%|██████▏   | 186/300 [14:29<08:43,  4.59s/it]\n",
      " 61%|██████▏   | 184/300 [14:31<09:01,  4.67s/it]\n",
      " 62%|██████▏   | 186/300 [14:32<08:45,  4.61s/it]\n",
      " 62%|██████▏   | 186/300 [14:33<08:46,  4.62s/it]\n",
      " 62%|██████▏   | 187/300 [14:33<08:39,  4.59s/it]\n",
      " 62%|██████▏   | 185/300 [14:36<08:55,  4.65s/it]\n",
      " 62%|██████▏   | 187/300 [14:36<08:40,  4.61s/it]\n",
      " 62%|██████▏   | 187/300 [14:38<08:41,  4.61s/it]\n",
      " 63%|██████▎   | 188/300 [14:38<08:34,  4.59s/it]\n",
      " 63%|██████▎   | 188/300 [14:41<08:35,  4.60s/it]\n",
      " 62%|██████▏   | 186/300 [14:41<08:49,  4.65s/it]\n",
      " 63%|██████▎   | 188/300 [14:43<08:36,  4.61s/it]\n",
      " 63%|██████▎   | 189/300 [14:43<08:29,  4.59s/it]\n",
      " 63%|██████▎   | 189/300 [14:45<08:31,  4.61s/it]\n",
      " 62%|██████▏   | 187/300 [14:45<08:44,  4.64s/it]\n",
      " 63%|██████▎   | 189/300 [14:47<08:32,  4.62s/it]\n",
      " 63%|██████▎   | 190/300 [14:47<08:27,  4.61s/it]\n",
      " 63%|██████▎   | 190/300 [14:50<08:26,  4.61s/it]\n",
      " 63%|██████▎   | 188/300 [14:50<08:40,  4.65s/it]\n",
      " 63%|██████▎   | 190/300 [14:52<08:28,  4.62s/it]\n",
      " 64%|██████▎   | 191/300 [14:52<08:22,  4.61s/it]\n",
      " 64%|██████▎   | 191/300 [14:55<08:23,  4.62s/it]\n",
      " 63%|██████▎   | 189/300 [14:55<08:37,  4.66s/it]\n",
      " 64%|██████▎   | 191/300 [14:56<08:23,  4.62s/it]\n",
      " 64%|██████▍   | 192/300 [14:56<08:18,  4.62s/it]\n",
      " 64%|██████▍   | 192/300 [14:59<08:19,  4.62s/it]\n",
      " 63%|██████▎   | 190/300 [14:59<08:33,  4.67s/it]\n",
      " 64%|██████▍   | 192/300 [15:01<08:19,  4.62s/it]\n",
      " 64%|██████▍   | 193/300 [15:01<08:13,  4.61s/it]\n",
      " 64%|██████▍   | 193/300 [15:04<08:14,  4.62s/it]\n",
      " 64%|██████▎   | 191/300 [15:04<08:28,  4.66s/it]\n",
      " 64%|██████▍   | 193/300 [15:06<08:14,  4.62s/it]\n",
      " 65%|██████▍   | 194/300 [15:06<08:07,  4.60s/it]\n",
      " 65%|██████▍   | 194/300 [15:09<08:09,  4.62s/it]\n",
      " 64%|██████▍   | 192/300 [15:09<08:22,  4.65s/it]\n",
      " 65%|██████▌   | 195/300 [15:10<08:02,  4.59s/it]\n",
      " 65%|██████▍   | 194/300 [15:10<08:09,  4.62s/it]\n",
      " 65%|██████▌   | 195/300 [15:13<08:04,  4.61s/it]\n",
      " 64%|██████▍   | 193/300 [15:13<08:18,  4.66s/it]\n",
      " 65%|██████▌   | 195/300 [15:15<08:05,  4.62s/it]\n",
      " 65%|██████▌   | 196/300 [15:15<07:58,  4.60s/it]\n",
      " 65%|██████▌   | 196/300 [15:18<08:00,  4.62s/it]\n",
      " 65%|██████▍   | 194/300 [15:18<08:13,  4.66s/it]\n",
      " 65%|██████▌   | 196/300 [15:20<08:00,  4.62s/it]\n",
      " 66%|██████▌   | 197/300 [15:19<07:52,  4.59s/it]\n",
      " 66%|██████▌   | 197/300 [15:22<07:56,  4.62s/it]\n",
      " 65%|██████▌   | 195/300 [15:23<08:10,  4.67s/it]\n",
      " 66%|██████▌   | 198/300 [15:24<07:48,  4.59s/it]\n",
      " 66%|██████▌   | 197/300 [15:24<07:55,  4.62s/it]\n",
      " 66%|██████▌   | 198/300 [15:27<07:51,  4.63s/it]\n",
      " 65%|██████▌   | 196/300 [15:27<08:05,  4.67s/it]\n",
      " 66%|██████▋   | 199/300 [15:29<07:43,  4.59s/it]\n",
      " 66%|██████▌   | 198/300 [15:29<07:51,  4.62s/it]\n",
      " 66%|██████▋   | 199/300 [15:32<07:46,  4.62s/it]\n",
      " 66%|██████▌   | 197/300 [15:32<08:00,  4.66s/it]\n",
      " 67%|██████▋   | 200/300 [15:33<07:38,  4.59s/it]\n",
      " 66%|██████▋   | 199/300 [15:33<07:46,  4.62s/it]\n",
      " 67%|██████▋   | 200/300 [15:36<07:42,  4.62s/it]\n",
      " 66%|██████▌   | 198/300 [15:37<07:56,  4.67s/it]\n",
      " 67%|██████▋   | 201/300 [15:38<07:33,  4.58s/it]\n",
      " 67%|██████▋   | 200/300 [15:38<07:42,  4.63s/it]\n",
      " 67%|██████▋   | 201/300 [15:41<07:37,  4.62s/it]\n",
      " 66%|██████▋   | 199/300 [15:41<07:50,  4.66s/it]\n",
      " 67%|██████▋   | 202/300 [15:42<07:29,  4.58s/it]\n",
      " 67%|██████▋   | 201/300 [15:43<07:37,  4.62s/it]\n",
      " 67%|██████▋   | 202/300 [15:46<07:32,  4.62s/it]\n",
      " 67%|██████▋   | 200/300 [15:46<07:46,  4.67s/it]\n",
      " 68%|██████▊   | 203/300 [15:47<07:24,  4.58s/it]\n",
      " 67%|██████▋   | 202/300 [15:47<07:32,  4.62s/it]\n",
      " 68%|██████▊   | 203/300 [15:50<07:27,  4.62s/it]\n",
      " 67%|██████▋   | 201/300 [15:51<07:41,  4.66s/it]\n",
      " 68%|██████▊   | 204/300 [15:52<07:22,  4.60s/it]\n",
      " 68%|██████▊   | 203/300 [15:52<07:28,  4.62s/it]\n",
      " 68%|██████▊   | 204/300 [15:55<07:23,  4.62s/it]\n",
      " 67%|██████▋   | 202/300 [15:55<07:36,  4.66s/it]\n",
      " 68%|██████▊   | 205/300 [15:56<07:16,  4.59s/it]\n",
      " 68%|██████▊   | 204/300 [15:57<07:24,  4.63s/it]\n",
      " 68%|██████▊   | 205/300 [15:59<07:16,  4.60s/it]\n",
      " 68%|██████▊   | 203/300 [16:00<07:31,  4.65s/it]\n",
      " 69%|██████▊   | 206/300 [16:01<07:12,  4.60s/it]\n",
      " 68%|██████▊   | 205/300 [16:01<07:19,  4.63s/it]\n",
      " 69%|██████▊   | 206/300 [16:04<07:11,  4.60s/it]\n",
      " 68%|██████▊   | 204/300 [16:05<07:26,  4.65s/it]\n",
      " 69%|██████▉   | 207/300 [16:05<07:08,  4.61s/it]\n",
      " 69%|██████▊   | 206/300 [16:06<07:14,  4.62s/it]\n",
      " 69%|██████▉   | 207/300 [16:09<07:07,  4.60s/it]\n",
      " 68%|██████▊   | 205/300 [16:09<07:21,  4.65s/it]\n",
      " 69%|██████▉   | 208/300 [16:10<07:03,  4.61s/it]\n",
      " 69%|██████▉   | 207/300 [16:10<07:09,  4.61s/it]\n",
      " 69%|██████▉   | 208/300 [16:13<07:04,  4.62s/it]\n",
      " 69%|██████▊   | 206/300 [16:14<07:17,  4.66s/it]\n",
      " 70%|██████▉   | 209/300 [16:15<06:58,  4.60s/it]\n",
      " 69%|██████▉   | 208/300 [16:15<07:05,  4.63s/it]\n",
      " 70%|██████▉   | 209/300 [16:18<07:00,  4.62s/it]\n",
      " 69%|██████▉   | 207/300 [16:19<07:12,  4.66s/it]\n",
      " 70%|███████   | 210/300 [16:19<06:54,  4.61s/it]\n",
      " 70%|██████▉   | 209/300 [16:20<07:01,  4.63s/it]\n",
      " 70%|███████   | 210/300 [16:22<06:56,  4.62s/it]\n",
      " 69%|██████▉   | 208/300 [16:23<07:10,  4.68s/it]\n",
      " 70%|███████   | 211/300 [16:24<06:50,  4.61s/it]\n",
      " 70%|███████   | 210/300 [16:24<06:56,  4.62s/it]\n",
      " 70%|███████   | 211/300 [16:27<06:52,  4.63s/it]\n",
      " 70%|██████▉   | 209/300 [16:28<07:06,  4.68s/it]\n",
      " 71%|███████   | 212/300 [16:28<06:44,  4.60s/it]\n",
      " 70%|███████   | 211/300 [16:29<06:51,  4.62s/it]\n",
      " 71%|███████   | 212/300 [16:32<06:46,  4.62s/it]\n",
      " 70%|███████   | 210/300 [16:33<07:01,  4.68s/it]\n",
      " 71%|███████   | 213/300 [16:33<06:40,  4.60s/it]\n",
      " 71%|███████   | 212/300 [16:33<06:46,  4.62s/it]\n",
      " 71%|███████   | 213/300 [16:36<06:41,  4.62s/it]\n",
      " 70%|███████   | 211/300 [16:37<06:56,  4.68s/it]\n",
      " 71%|███████▏  | 214/300 [16:38<06:35,  4.60s/it]\n",
      " 71%|███████   | 213/300 [16:38<06:42,  4.62s/it]\n",
      " 71%|███████▏  | 214/300 [16:41<06:36,  4.62s/it]\n",
      " 71%|███████   | 212/300 [16:42<06:52,  4.68s/it]\n",
      " 72%|███████▏  | 215/300 [16:42<06:31,  4.61s/it]\n",
      " 71%|███████▏  | 214/300 [16:43<06:38,  4.63s/it]\n",
      " 72%|███████▏  | 215/300 [16:46<06:32,  4.62s/it]\n",
      " 72%|███████▏  | 216/300 [16:47<06:27,  4.61s/it]\n",
      " 71%|███████   | 213/300 [16:47<06:47,  4.68s/it]\n",
      " 72%|███████▏  | 215/300 [16:47<06:31,  4.61s/it]\n",
      " 72%|███████▏  | 216/300 [16:50<06:28,  4.62s/it]\n",
      " 72%|███████▏  | 217/300 [16:51<06:22,  4.61s/it]\n",
      " 71%|███████▏  | 214/300 [16:51<06:42,  4.68s/it]\n",
      " 72%|███████▏  | 216/300 [16:52<06:27,  4.62s/it]\n",
      " 72%|███████▏  | 217/300 [16:55<06:24,  4.63s/it]\n",
      " 73%|███████▎  | 218/300 [16:56<06:18,  4.61s/it]\n",
      " 72%|███████▏  | 215/300 [16:56<06:37,  4.68s/it]\n",
      " 72%|███████▏  | 217/300 [16:57<06:23,  4.62s/it]\n",
      " 73%|███████▎  | 218/300 [16:59<06:19,  4.62s/it]\n",
      " 73%|███████▎  | 219/300 [17:01<06:13,  4.61s/it]\n",
      " 72%|███████▏  | 216/300 [17:01<06:33,  4.68s/it]\n",
      " 73%|███████▎  | 218/300 [17:01<06:18,  4.62s/it]\n",
      " 73%|███████▎  | 219/300 [17:04<06:13,  4.62s/it]\n",
      " 73%|███████▎  | 220/300 [17:05<06:08,  4.61s/it]\n",
      " 72%|███████▏  | 217/300 [17:05<06:28,  4.68s/it]\n",
      " 73%|███████▎  | 219/300 [17:06<06:14,  4.62s/it]\n",
      " 73%|███████▎  | 220/300 [17:09<06:09,  4.61s/it]\n",
      " 74%|███████▎  | 221/300 [17:10<06:03,  4.60s/it]\n",
      " 73%|███████▎  | 218/300 [17:10<06:23,  4.68s/it]\n",
      " 73%|███████▎  | 220/300 [17:10<06:09,  4.61s/it]\n",
      " 74%|███████▎  | 221/300 [17:13<06:04,  4.61s/it]\n",
      " 74%|███████▍  | 222/300 [17:14<05:59,  4.61s/it]\n",
      " 73%|███████▎  | 219/300 [17:15<06:18,  4.68s/it]\n",
      " 74%|███████▎  | 221/300 [17:15<06:04,  4.62s/it]\n",
      " 74%|███████▍  | 222/300 [17:18<05:59,  4.61s/it]\n",
      " 74%|███████▍  | 223/300 [17:19<05:54,  4.60s/it]\n",
      " 73%|███████▎  | 220/300 [17:19<06:14,  4.68s/it]\n",
      " 74%|███████▍  | 222/300 [17:20<05:59,  4.61s/it]\n",
      " 74%|███████▍  | 223/300 [17:22<05:55,  4.62s/it]\n",
      " 75%|███████▍  | 224/300 [17:24<05:49,  4.61s/it]\n",
      " 74%|███████▎  | 221/300 [17:24<06:09,  4.68s/it]\n",
      " 74%|███████▍  | 223/300 [17:24<05:56,  4.63s/it]\n",
      " 75%|███████▍  | 224/300 [17:27<05:50,  4.62s/it]\n",
      " 75%|███████▌  | 225/300 [17:28<05:44,  4.60s/it]\n",
      " 74%|███████▍  | 222/300 [17:29<06:04,  4.68s/it]\n",
      " 75%|███████▍  | 224/300 [17:29<05:51,  4.62s/it]\n",
      " 75%|███████▌  | 225/300 [17:32<05:45,  4.61s/it]\n",
      " 75%|███████▌  | 226/300 [17:33<05:39,  4.59s/it]\n",
      " 75%|███████▌  | 225/300 [17:34<05:46,  4.62s/it]\n",
      " 74%|███████▍  | 223/300 [17:33<06:00,  4.68s/it]\n",
      " 75%|███████▌  | 226/300 [17:36<05:41,  4.61s/it]\n",
      " 76%|███████▌  | 227/300 [17:37<05:35,  4.59s/it]\n",
      " 75%|███████▌  | 226/300 [17:38<05:41,  4.61s/it]\n",
      " 75%|███████▍  | 224/300 [17:38<05:56,  4.69s/it]\n",
      " 76%|███████▌  | 227/300 [17:41<05:36,  4.61s/it]\n",
      " 76%|███████▌  | 228/300 [17:42<05:31,  4.61s/it]\n",
      " 76%|███████▌  | 227/300 [17:43<05:36,  4.61s/it]\n",
      " 75%|███████▌  | 225/300 [17:43<05:51,  4.69s/it]\n",
      " 76%|███████▌  | 228/300 [17:45<05:31,  4.60s/it]\n",
      " 76%|███████▋  | 229/300 [17:47<05:27,  4.61s/it]\n",
      " 76%|███████▌  | 228/300 [17:47<05:33,  4.63s/it]\n",
      " 75%|███████▌  | 226/300 [17:48<05:45,  4.67s/it]\n",
      " 76%|███████▋  | 229/300 [17:50<05:28,  4.62s/it]\n",
      " 77%|███████▋  | 230/300 [17:51<05:23,  4.62s/it]\n",
      " 76%|███████▋  | 229/300 [17:52<05:29,  4.64s/it]\n",
      " 76%|███████▌  | 227/300 [17:52<05:41,  4.68s/it]\n",
      " 77%|███████▋  | 230/300 [17:55<05:23,  4.62s/it]\n",
      " 77%|███████▋  | 231/300 [17:56<05:18,  4.62s/it]\n",
      " 77%|███████▋  | 230/300 [17:57<05:24,  4.64s/it]\n",
      " 76%|███████▌  | 228/300 [17:57<05:37,  4.68s/it]\n",
      " 77%|███████▋  | 231/300 [17:59<05:18,  4.61s/it]\n",
      " 77%|███████▋  | 232/300 [18:01<05:14,  4.63s/it]\n",
      " 77%|███████▋  | 231/300 [18:01<05:20,  4.65s/it]\n",
      " 76%|███████▋  | 229/300 [18:02<05:31,  4.67s/it]\n",
      " 77%|███████▋  | 232/300 [18:04<05:14,  4.62s/it]\n",
      " 78%|███████▊  | 233/300 [18:05<05:10,  4.63s/it]\n",
      " 77%|███████▋  | 232/300 [18:06<05:15,  4.64s/it]\n",
      " 77%|███████▋  | 230/300 [18:06<05:26,  4.67s/it]\n",
      " 78%|███████▊  | 233/300 [18:09<05:09,  4.62s/it]\n",
      " 78%|███████▊  | 234/300 [18:10<05:05,  4.62s/it]\n",
      " 78%|███████▊  | 233/300 [18:11<05:10,  4.63s/it]\n",
      " 77%|███████▋  | 231/300 [18:11<05:22,  4.67s/it]\n",
      " 78%|███████▊  | 234/300 [18:13<05:05,  4.62s/it]\n",
      " 78%|███████▊  | 235/300 [18:14<05:00,  4.62s/it]\n",
      " 78%|███████▊  | 234/300 [18:15<05:04,  4.62s/it]\n",
      " 77%|███████▋  | 232/300 [18:16<05:17,  4.67s/it]\n",
      " 78%|███████▊  | 235/300 [18:18<05:00,  4.63s/it]\n",
      " 79%|███████▊  | 236/300 [18:19<04:56,  4.63s/it]\n",
      " 78%|███████▊  | 235/300 [18:20<05:00,  4.63s/it]\n",
      " 78%|███████▊  | 233/300 [18:20<05:13,  4.68s/it]\n",
      " 79%|███████▊  | 236/300 [18:23<04:56,  4.64s/it]\n",
      " 79%|███████▉  | 237/300 [18:24<04:51,  4.62s/it]\n",
      " 79%|███████▊  | 236/300 [18:24<04:55,  4.62s/it]\n",
      " 78%|███████▊  | 234/300 [18:25<05:09,  4.68s/it]\n",
      " 79%|███████▉  | 237/300 [18:27<04:50,  4.62s/it]\n",
      " 79%|███████▉  | 238/300 [18:28<04:46,  4.62s/it]\n",
      " 79%|███████▉  | 237/300 [18:29<04:50,  4.61s/it]\n",
      " 78%|███████▊  | 235/300 [18:30<05:04,  4.69s/it]\n",
      " 79%|███████▉  | 238/300 [18:32<04:46,  4.61s/it]\n",
      " 80%|███████▉  | 239/300 [18:33<04:41,  4.62s/it]\n",
      " 79%|███████▉  | 238/300 [18:34<04:45,  4.61s/it]\n",
      " 79%|███████▊  | 236/300 [18:34<04:59,  4.69s/it]\n",
      " 80%|███████▉  | 239/300 [18:36<04:41,  4.62s/it]\n",
      " 80%|████████  | 240/300 [18:38<04:37,  4.62s/it]\n",
      " 80%|███████▉  | 239/300 [18:38<04:41,  4.62s/it]\n",
      " 79%|███████▉  | 237/300 [18:39<04:54,  4.67s/it]\n",
      " 80%|████████  | 240/300 [18:41<04:37,  4.62s/it]\n",
      " 80%|████████  | 241/300 [18:42<04:33,  4.63s/it]\n",
      " 80%|████████  | 240/300 [18:43<04:37,  4.62s/it]\n",
      " 79%|███████▉  | 238/300 [18:44<04:49,  4.66s/it]\n",
      " 80%|████████  | 241/300 [18:46<04:32,  4.62s/it]\n",
      " 81%|████████  | 242/300 [18:47<04:26,  4.60s/it]\n",
      " 80%|████████  | 241/300 [18:48<04:32,  4.61s/it]\n",
      " 80%|███████▉  | 239/300 [18:48<04:43,  4.65s/it]\n",
      " 81%|████████  | 242/300 [18:50<04:27,  4.61s/it]\n",
      " 81%|████████  | 243/300 [18:51<04:22,  4.61s/it]\n",
      " 81%|████████  | 242/300 [18:52<04:27,  4.61s/it]\n",
      " 80%|████████  | 240/300 [18:53<04:39,  4.66s/it]\n",
      " 81%|████████  | 243/300 [18:55<04:22,  4.60s/it]\n",
      " 81%|████████▏ | 244/300 [18:56<04:17,  4.60s/it]\n",
      " 81%|████████  | 243/300 [18:57<04:23,  4.62s/it]\n",
      " 80%|████████  | 241/300 [18:58<04:35,  4.66s/it]\n",
      " 81%|████████▏ | 244/300 [18:59<04:17,  4.60s/it]\n",
      " 82%|████████▏ | 245/300 [19:01<04:14,  4.62s/it]\n",
      " 81%|████████▏ | 244/300 [19:01<04:18,  4.61s/it]\n",
      " 81%|████████  | 242/300 [19:02<04:30,  4.66s/it]\n",
      " 82%|████████▏ | 245/300 [19:04<04:13,  4.61s/it]\n",
      " 82%|████████▏ | 246/300 [19:05<04:08,  4.61s/it]\n",
      " 82%|████████▏ | 245/300 [19:06<04:14,  4.62s/it]\n",
      " 81%|████████  | 243/300 [19:07<04:25,  4.66s/it]\n",
      " 82%|████████▏ | 246/300 [19:09<04:08,  4.61s/it]\n",
      " 82%|████████▏ | 247/300 [19:10<04:04,  4.62s/it]\n",
      " 82%|████████▏ | 246/300 [19:11<04:09,  4.62s/it]\n",
      " 81%|████████▏ | 244/300 [19:12<04:20,  4.66s/it]\n",
      " 82%|████████▏ | 247/300 [19:13<04:05,  4.63s/it]\n",
      " 83%|████████▎ | 248/300 [19:14<03:59,  4.61s/it]\n",
      " 82%|████████▏ | 247/300 [19:15<04:04,  4.62s/it]\n",
      " 82%|████████▏ | 245/300 [19:16<04:16,  4.67s/it]\n",
      " 83%|████████▎ | 248/300 [19:18<04:00,  4.63s/it]\n",
      " 83%|████████▎ | 249/300 [19:19<03:55,  4.61s/it]\n",
      " 83%|████████▎ | 248/300 [19:20<04:00,  4.62s/it]\n",
      " 82%|████████▏ | 246/300 [19:21<04:12,  4.68s/it]\n",
      " 83%|████████▎ | 249/300 [19:23<03:55,  4.62s/it]\n",
      " 83%|████████▎ | 250/300 [19:24<03:50,  4.61s/it]\n",
      " 83%|████████▎ | 249/300 [19:25<03:56,  4.64s/it]\n",
      " 82%|████████▏ | 247/300 [19:26<04:07,  4.67s/it]\n",
      " 83%|████████▎ | 250/300 [19:27<03:51,  4.63s/it]\n",
      " 84%|████████▎ | 251/300 [19:28<03:45,  4.61s/it]\n",
      " 83%|████████▎ | 250/300 [19:29<03:51,  4.64s/it]\n",
      " 83%|████████▎ | 248/300 [19:30<04:03,  4.68s/it]\n",
      " 84%|████████▎ | 251/300 [19:32<03:46,  4.63s/it]\n",
      " 84%|████████▍ | 252/300 [19:33<03:40,  4.60s/it]\n",
      " 84%|████████▎ | 251/300 [19:34<03:47,  4.64s/it]\n",
      " 83%|████████▎ | 249/300 [19:35<03:58,  4.68s/it]\n",
      " 84%|████████▍ | 252/300 [19:36<03:42,  4.63s/it]\n",
      " 84%|████████▍ | 253/300 [19:37<03:36,  4.60s/it]\n",
      " 84%|████████▍ | 252/300 [19:38<03:42,  4.63s/it]\n",
      " 83%|████████▎ | 250/300 [19:40<03:53,  4.68s/it]\n",
      " 84%|████████▍ | 253/300 [19:41<03:37,  4.63s/it]\n",
      " 85%|████████▍ | 254/300 [19:42<03:31,  4.60s/it]\n",
      " 84%|████████▍ | 253/300 [19:43<03:37,  4.63s/it]\n",
      " 84%|████████▎ | 251/300 [19:44<03:49,  4.68s/it]\n",
      " 85%|████████▍ | 254/300 [19:46<03:32,  4.62s/it]\n",
      " 85%|████████▌ | 255/300 [19:47<03:27,  4.61s/it]\n",
      " 85%|████████▍ | 254/300 [19:48<03:33,  4.63s/it]\n",
      " 84%|████████▍ | 252/300 [19:49<03:44,  4.67s/it]\n",
      " 85%|████████▌ | 255/300 [19:50<03:27,  4.62s/it]\n",
      " 85%|████████▌ | 256/300 [19:51<03:23,  4.62s/it]\n",
      " 85%|████████▌ | 255/300 [19:52<03:28,  4.63s/it]\n",
      " 84%|████████▍ | 253/300 [19:54<03:39,  4.66s/it]\n",
      " 85%|████████▌ | 256/300 [19:55<03:23,  4.62s/it]\n",
      " 86%|████████▌ | 257/300 [19:56<03:18,  4.61s/it]\n",
      " 85%|████████▌ | 256/300 [19:57<03:23,  4.62s/it]\n",
      " 85%|████████▍ | 254/300 [19:58<03:34,  4.67s/it]\n",
      " 86%|████████▌ | 257/300 [20:00<03:18,  4.62s/it]\n",
      " 86%|████████▌ | 258/300 [20:00<03:13,  4.60s/it]\n",
      " 86%|████████▌ | 257/300 [20:02<03:18,  4.61s/it]\n",
      " 85%|████████▌ | 255/300 [20:03<03:29,  4.65s/it]\n",
      " 86%|████████▌ | 258/300 [20:04<03:13,  4.61s/it]\n",
      " 86%|████████▋ | 259/300 [20:05<03:08,  4.60s/it]\n",
      " 86%|████████▌ | 258/300 [20:06<03:14,  4.62s/it]\n",
      " 85%|████████▌ | 256/300 [20:08<03:24,  4.65s/it]\n",
      " 86%|████████▋ | 259/300 [20:09<03:08,  4.61s/it]\n",
      " 87%|████████▋ | 260/300 [20:10<03:03,  4.60s/it]\n",
      " 86%|████████▋ | 259/300 [20:11<03:09,  4.62s/it]\n",
      " 86%|████████▌ | 257/300 [20:12<03:20,  4.66s/it]\n",
      " 87%|████████▋ | 260/300 [20:13<03:03,  4.60s/it]\n",
      " 87%|████████▋ | 261/300 [20:14<02:58,  4.58s/it]\n",
      " 87%|████████▋ | 260/300 [20:15<03:04,  4.61s/it]\n",
      " 86%|████████▌ | 258/300 [20:17<03:15,  4.66s/it]\n",
      " 87%|████████▋ | 261/300 [20:18<02:59,  4.60s/it]\n",
      " 87%|████████▋ | 262/300 [20:19<02:54,  4.58s/it]\n",
      " 87%|████████▋ | 261/300 [20:20<03:00,  4.62s/it]\n",
      " 86%|████████▋ | 259/300 [20:22<03:10,  4.65s/it]\n",
      " 87%|████████▋ | 262/300 [20:22<02:54,  4.60s/it]\n",
      " 88%|████████▊ | 263/300 [20:23<02:49,  4.58s/it]\n",
      " 87%|████████▋ | 262/300 [20:25<02:55,  4.62s/it]\n",
      " 87%|████████▋ | 260/300 [20:26<03:06,  4.66s/it]\n",
      " 88%|████████▊ | 263/300 [20:27<02:50,  4.61s/it]\n",
      " 88%|████████▊ | 264/300 [20:28<02:44,  4.58s/it]\n",
      " 88%|████████▊ | 263/300 [20:29<02:50,  4.62s/it]\n",
      " 87%|████████▋ | 261/300 [20:31<03:01,  4.66s/it]\n",
      " 88%|████████▊ | 264/300 [20:32<02:45,  4.60s/it]\n",
      " 88%|████████▊ | 265/300 [20:33<02:40,  4.58s/it]\n",
      " 88%|████████▊ | 264/300 [20:34<02:46,  4.61s/it]\n",
      " 87%|████████▋ | 262/300 [20:36<02:56,  4.65s/it]\n",
      " 88%|████████▊ | 265/300 [20:36<02:41,  4.60s/it]\n",
      " 89%|████████▊ | 266/300 [20:37<02:35,  4.59s/it]\n",
      " 88%|████████▊ | 265/300 [20:38<02:41,  4.62s/it]\n",
      " 88%|████████▊ | 263/300 [20:40<02:52,  4.65s/it]\n",
      " 89%|████████▊ | 266/300 [20:41<02:36,  4.59s/it]\n",
      " 89%|████████▉ | 267/300 [20:42<02:31,  4.59s/it]\n",
      " 89%|████████▊ | 266/300 [20:43<02:37,  4.62s/it]\n",
      " 88%|████████▊ | 264/300 [20:45<02:47,  4.64s/it]\n",
      " 89%|████████▉ | 267/300 [20:45<02:31,  4.60s/it]\n",
      " 89%|████████▉ | 268/300 [20:46<02:26,  4.58s/it]\n",
      " 89%|████████▉ | 267/300 [20:48<02:32,  4.61s/it]\n",
      " 88%|████████▊ | 265/300 [20:49<02:42,  4.65s/it]\n",
      " 89%|████████▉ | 268/300 [20:50<02:27,  4.60s/it]\n",
      " 90%|████████▉ | 269/300 [20:51<02:22,  4.60s/it]\n",
      " 89%|████████▉ | 268/300 [20:52<02:27,  4.62s/it]\n",
      " 89%|████████▊ | 266/300 [20:54<02:38,  4.65s/it]\n",
      " 90%|████████▉ | 269/300 [20:55<02:23,  4.62s/it]\n",
      " 90%|█████████ | 270/300 [20:56<02:17,  4.60s/it]\n",
      " 90%|████████▉ | 269/300 [20:57<02:23,  4.63s/it]\n",
      " 89%|████████▉ | 267/300 [20:59<02:33,  4.65s/it]\n",
      " 90%|█████████ | 270/300 [20:59<02:18,  4.61s/it]\n",
      " 90%|█████████ | 271/300 [21:00<02:13,  4.59s/it]\n",
      " 90%|█████████ | 270/300 [21:02<02:18,  4.63s/it]\n",
      " 89%|████████▉ | 268/300 [21:03<02:28,  4.65s/it]\n",
      " 90%|█████████ | 271/300 [21:04<02:13,  4.61s/it]\n",
      " 91%|█████████ | 272/300 [21:05<02:08,  4.60s/it]\n",
      " 90%|█████████ | 271/300 [21:06<02:14,  4.63s/it]\n",
      " 90%|████████▉ | 269/300 [21:08<02:24,  4.66s/it]\n",
      " 91%|█████████ | 272/300 [21:09<02:09,  4.61s/it]\n",
      " 91%|█████████ | 273/300 [21:09<02:04,  4.60s/it]\n",
      " 91%|█████████ | 272/300 [21:11<02:10,  4.64s/it]\n",
      " 90%|█████████ | 270/300 [21:13<02:20,  4.67s/it]\n",
      " 91%|█████████ | 273/300 [21:13<02:04,  4.62s/it]\n",
      " 91%|█████████▏| 274/300 [21:14<01:59,  4.60s/it]\n",
      " 91%|█████████ | 273/300 [21:16<02:05,  4.65s/it]\n",
      " 90%|█████████ | 271/300 [21:17<02:15,  4.68s/it]\n",
      " 91%|█████████▏| 274/300 [21:18<02:00,  4.62s/it]\n",
      " 92%|█████████▏| 275/300 [21:19<01:55,  4.61s/it]\n",
      " 91%|█████████▏| 274/300 [21:20<02:00,  4.63s/it]\n",
      " 91%|█████████ | 272/300 [21:22<02:11,  4.68s/it]\n",
      " 92%|█████████▏| 275/300 [21:22<01:55,  4.62s/it]\n",
      " 92%|█████████▏| 276/300 [21:23<01:50,  4.61s/it]\n",
      " 92%|█████████▏| 275/300 [21:25<01:55,  4.63s/it]\n",
      " 91%|█████████ | 273/300 [21:27<02:05,  4.67s/it]\n",
      " 92%|█████████▏| 276/300 [21:27<01:50,  4.62s/it]\n",
      " 92%|█████████▏| 277/300 [21:28<01:46,  4.61s/it]\n",
      " 92%|█████████▏| 276/300 [21:29<01:51,  4.63s/it]\n",
      " 91%|█████████▏| 274/300 [21:31<02:01,  4.67s/it]\n",
      " 92%|█████████▏| 277/300 [21:32<01:46,  4.62s/it]\n",
      " 93%|█████████▎| 278/300 [21:32<01:41,  4.60s/it]\n",
      " 92%|█████████▏| 277/300 [21:34<01:46,  4.64s/it]\n",
      " 92%|█████████▏| 275/300 [21:36<01:56,  4.67s/it]\n",
      " 93%|█████████▎| 278/300 [21:36<01:41,  4.63s/it]\n",
      " 93%|█████████▎| 279/300 [21:37<01:36,  4.59s/it]\n",
      " 93%|█████████▎| 278/300 [21:39<01:41,  4.63s/it]\n",
      " 93%|█████████▎| 279/300 [21:41<01:37,  4.62s/it]\n",
      " 92%|█████████▏| 276/300 [21:41<01:52,  4.68s/it]\n",
      " 93%|█████████▎| 280/300 [21:41<01:31,  4.58s/it]\n",
      " 93%|█████████▎| 279/300 [21:43<01:37,  4.63s/it]\n",
      " 93%|█████████▎| 280/300 [21:45<01:32,  4.61s/it]\n",
      " 92%|█████████▏| 277/300 [21:46<01:47,  4.68s/it]\n",
      " 94%|█████████▎| 281/300 [21:46<01:27,  4.60s/it]\n",
      " 93%|█████████▎| 280/300 [21:48<01:32,  4.63s/it]\n",
      " 94%|█████████▎| 281/300 [21:50<01:27,  4.62s/it]\n",
      " 93%|█████████▎| 278/300 [21:50<01:42,  4.67s/it]\n",
      " 94%|█████████▍| 282/300 [21:51<01:22,  4.59s/it]\n",
      " 94%|█████████▎| 281/300 [21:53<01:28,  4.64s/it]\n",
      " 94%|█████████▍| 282/300 [21:55<01:23,  4.62s/it]\n",
      " 93%|█████████▎| 279/300 [21:55<01:38,  4.68s/it]\n",
      " 94%|█████████▍| 283/300 [21:55<01:18,  4.59s/it]\n",
      " 94%|█████████▍| 282/300 [21:57<01:23,  4.63s/it]\n",
      " 94%|█████████▍| 283/300 [21:59<01:18,  4.63s/it]\n",
      " 93%|█████████▎| 280/300 [22:00<01:33,  4.68s/it]\n",
      " 95%|█████████▍| 284/300 [22:00<01:13,  4.59s/it]\n",
      " 94%|█████████▍| 283/300 [22:02<01:18,  4.63s/it]\n",
      " 95%|█████████▍| 284/300 [22:04<01:14,  4.63s/it]\n",
      " 94%|█████████▎| 281/300 [22:04<01:28,  4.68s/it]\n",
      " 95%|█████████▌| 285/300 [22:04<01:08,  4.58s/it]\n",
      " 95%|█████████▍| 284/300 [22:06<01:14,  4.63s/it]\n",
      " 95%|█████████▌| 285/300 [22:09<01:09,  4.62s/it]\n",
      " 94%|█████████▍| 282/300 [22:09<01:23,  4.66s/it]\n",
      " 95%|█████████▌| 286/300 [22:09<01:04,  4.58s/it]\n",
      " 95%|█████████▌| 285/300 [22:11<01:09,  4.62s/it]\n",
      " 95%|█████████▌| 286/300 [22:13<01:04,  4.62s/it]\n",
      " 96%|█████████▌| 287/300 [22:14<00:59,  4.58s/it]\n",
      " 94%|█████████▍| 283/300 [22:14<01:19,  4.66s/it]\n",
      " 95%|█████████▌| 286/300 [22:16<01:04,  4.62s/it]\n",
      " 96%|█████████▌| 287/300 [22:18<00:59,  4.61s/it]\n",
      " 96%|█████████▌| 288/300 [22:18<00:55,  4.59s/it]\n",
      " 95%|█████████▍| 284/300 [22:18<01:14,  4.66s/it]\n",
      " 96%|█████████▌| 287/300 [22:20<01:00,  4.62s/it]\n",
      " 96%|█████████▌| 288/300 [22:22<00:55,  4.61s/it]\n",
      " 96%|█████████▋| 289/300 [22:23<00:50,  4.59s/it]\n",
      " 95%|█████████▌| 285/300 [22:23<01:10,  4.67s/it]\n",
      " 96%|█████████▌| 288/300 [22:25<00:55,  4.62s/it]\n",
      " 96%|█████████▋| 289/300 [22:27<00:50,  4.61s/it]\n",
      " 97%|█████████▋| 290/300 [22:27<00:45,  4.60s/it]\n",
      " 95%|█████████▌| 286/300 [22:28<01:05,  4.67s/it]\n",
      " 96%|█████████▋| 289/300 [22:30<00:50,  4.63s/it]\n",
      " 97%|█████████▋| 290/300 [22:32<00:46,  4.62s/it]\n",
      " 97%|█████████▋| 291/300 [22:32<00:41,  4.59s/it]\n",
      " 96%|█████████▌| 287/300 [22:32<01:00,  4.66s/it]\n",
      " 97%|█████████▋| 290/300 [22:34<00:46,  4.63s/it]\n",
      " 97%|█████████▋| 291/300 [22:36<00:41,  4.62s/it]\n",
      " 97%|█████████▋| 292/300 [22:37<00:36,  4.61s/it]\n",
      " 96%|█████████▌| 288/300 [22:37<00:56,  4.67s/it]\n",
      " 97%|█████████▋| 291/300 [22:39<00:41,  4.65s/it]\n",
      " 97%|█████████▋| 292/300 [22:41<00:37,  4.63s/it]\n",
      " 98%|█████████▊| 293/300 [22:41<00:32,  4.61s/it]\n",
      " 96%|█████████▋| 289/300 [22:42<00:51,  4.68s/it]\n",
      " 97%|█████████▋| 292/300 [22:44<00:37,  4.65s/it]\n",
      " 98%|█████████▊| 293/300 [22:46<00:32,  4.63s/it]\n",
      " 98%|█████████▊| 294/300 [22:46<00:27,  4.62s/it]\n",
      " 97%|█████████▋| 290/300 [22:46<00:46,  4.69s/it]\n",
      " 98%|█████████▊| 293/300 [22:48<00:32,  4.65s/it]\n",
      " 98%|█████████▊| 294/300 [22:50<00:27,  4.63s/it]\n",
      " 98%|█████████▊| 295/300 [22:50<00:23,  4.62s/it]\n",
      " 97%|█████████▋| 291/300 [22:51<00:42,  4.69s/it]\n",
      " 98%|█████████▊| 294/300 [22:53<00:27,  4.66s/it]\n",
      " 98%|█████████▊| 295/300 [22:55<00:23,  4.62s/it]\n",
      " 99%|█████████▊| 296/300 [22:55<00:18,  4.61s/it]\n",
      " 97%|█████████▋| 292/300 [22:56<00:37,  4.68s/it]\n",
      " 98%|█████████▊| 295/300 [22:58<00:23,  4.67s/it]\n",
      " 99%|█████████▊| 296/300 [23:00<00:18,  4.64s/it]\n",
      " 99%|█████████▉| 297/300 [23:00<00:13,  4.62s/it]\n",
      " 98%|█████████▊| 293/300 [23:00<00:32,  4.70s/it]\n",
      " 99%|█████████▊| 296/300 [23:02<00:18,  4.66s/it]\n",
      " 99%|█████████▉| 297/300 [23:04<00:13,  4.63s/it]\n",
      " 99%|█████████▉| 298/300 [23:04<00:09,  4.62s/it]\n",
      " 98%|█████████▊| 294/300 [23:05<00:28,  4.69s/it]\n",
      " 99%|█████████▉| 297/300 [23:07<00:13,  4.66s/it]\n",
      " 99%|█████████▉| 298/300 [23:09<00:09,  4.63s/it]\n",
      "100%|█████████▉| 299/300 [23:09<00:04,  4.61s/it]\n",
      " 98%|█████████▊| 295/300 [23:10<00:23,  4.69s/it]\n",
      " 99%|█████████▉| 298/300 [23:12<00:09,  4.65s/it]\n",
      "100%|█████████▉| 299/300 [23:13<00:04,  4.62s/it]\n",
      "100%|██████████| 300/300 [23:13<00:00,  4.65s/it]\n",
      " 99%|█████████▊| 296/300 [23:14<00:18,  4.68s/it]\n",
      "100%|█████████▉| 299/300 [23:16<00:04,  4.64s/it]\n",
      "100%|██████████| 300/300 [23:18<00:00,  4.66s/it]\n",
      " 99%|█████████▉| 297/300 [23:19<00:13,  4.66s/it]\n",
      "100%|██████████| 300/300 [23:21<00:00,  4.67s/it]\n",
      " 99%|█████████▉| 298/300 [23:24<00:09,  4.62s/it]\n",
      "100%|█████████▉| 299/300 [23:28<00:04,  4.57s/it]\n",
      "100%|██████████| 300/300 [23:32<00:00,  4.71s/it]\n"
     ]
    }
   ],
   "source": [
    "res = parallel_pt_sample(4, 4, ntemps, pta.get_lnlikelihood, pta.get_lnprior, len(x0[0][0]), x0, num_samples=300_000, inf_temp=True)"
   ]
  },
  {
   "cell_type": "code",
   "execution_count": 8,
   "metadata": {},
   "outputs": [
    {
     "data": {
      "text/plain": [
       "[array([[[  4.00511251,   6.51172063,   4.00511251,   5.009179  ],\n",
       "         [-17.73330368, -11.64794878, -17.73330368, -16.17193606],\n",
       "         [-15.57792294, -17.92143203, -15.57792294, -16.76595402]],\n",
       " \n",
       "        [[  6.52020394,   4.00550655,   5.009179  ,   2.31721637],\n",
       "         [-11.65192694, -17.7518517 , -16.17193606, -16.6210223 ],\n",
       "         [-17.9282875 , -15.56345792, -16.79210703, -14.24319771]],\n",
       " \n",
       "        [[  6.51540729,   4.01952282,   5.0178995 ,   2.28798291],\n",
       "         [-11.65192694, -17.74487144, -16.18946333, -16.6210223 ],\n",
       "         [-17.9282875 , -15.55900242, -16.80542894, -14.24319771]],\n",
       " \n",
       "        ...,\n",
       " \n",
       "        [[  5.90346392,   1.03918823,   6.19190994,   1.25016934],\n",
       "         [-19.50806762, -17.08173094, -14.25300568, -12.6859441 ],\n",
       "         [-14.15724348, -14.09565915, -15.11600225, -15.6779985 ]],\n",
       " \n",
       "        [[  1.28148046,   0.75983489,   6.19190994,   1.25016934],\n",
       "         [-16.20431115, -16.9685849 , -14.25300568, -12.6859441 ],\n",
       "         [-14.1809837 , -14.0949473 , -15.11600225, -15.6779985 ]],\n",
       " \n",
       "        [[  1.28148046,   0.75983489,   6.19190994,   1.25016934],\n",
       "         [-16.20431115, -16.9685849 , -14.25300568, -12.6859441 ],\n",
       "         [-14.1809837 , -14.0949473 , -15.11600225, -15.6779985 ]]]),\n",
       " array([[[  2.40119043,   5.42145972,   2.40119043,   6.93225502],\n",
       "         [-12.60587278, -13.68577011, -12.60587278, -15.71872818],\n",
       "         [-17.95650592, -14.43614379, -17.95650592, -15.97943715]],\n",
       " \n",
       "        [[  5.42994303,   2.40158448,   6.93225502,   2.80587838],\n",
       "         [-13.68974827, -12.6244208 , -15.71872818, -19.70738129],\n",
       "         [-14.44299926, -17.9420409 , -16.00559016, -15.79584427]],\n",
       " \n",
       "        [[  5.42514638,   2.41560075,   6.94097551,   2.77664491],\n",
       "         [-13.68974827, -12.61744054, -15.73625545, -19.70738129],\n",
       "         [-14.44299926, -17.9375854 , -16.01891207, -15.79584427]],\n",
       " \n",
       "        ...,\n",
       " \n",
       "        [[  4.38277694,   5.66786883,   4.01149961,   5.90949815],\n",
       "         [-14.09525314, -15.10064942, -13.67319428, -14.80430457],\n",
       "         [-14.90047492, -14.42608206, -16.14272233, -14.62219651]],\n",
       " \n",
       "        [[  4.38277694,   5.37298415,   4.01149961,   5.90949815],\n",
       "         [-14.09525314, -15.02264249, -13.67319428, -14.80430457],\n",
       "         [-14.90047492, -14.4056204 , -16.14272233, -14.62219651]],\n",
       " \n",
       "        [[  4.38277694,   5.37298415,   4.01149961,   5.90949815],\n",
       "         [-14.09525314, -15.02264249, -13.67319428, -14.80430457],\n",
       "         [-14.90047492, -14.4056204 , -16.14272233, -14.62219651]]]),\n",
       " array([[[  0.76475459,   4.12485705,   0.76475459,   5.39212722],\n",
       "         [-18.77743979, -15.9378947 , -18.77743979, -18.07331402],\n",
       "         [-15.41880366, -14.20390253, -15.41880366, -14.36838911]],\n",
       " \n",
       "        [[  4.13334037,   0.76514864,   5.39212722,   2.37366037],\n",
       "         [-15.94187286, -18.79598781, -18.07331402, -11.62691976],\n",
       "         [-14.210758  , -15.40433864, -14.39454211, -15.48984373]],\n",
       " \n",
       "        [[  4.12854371,   0.7791649 ,   5.40084772,   2.3444269 ],\n",
       "         [-15.94187286, -18.78900755, -18.09084129, -11.62691976],\n",
       "         [-14.210758  , -15.39988314, -14.40786403, -15.48984373]],\n",
       " \n",
       "        ...,\n",
       " \n",
       "        [[  3.24326279,   3.27373293,   1.45864322,   2.03341743],\n",
       "         [-13.57303145, -17.97013721, -12.999026  , -13.69431006],\n",
       "         [-17.0613408 , -14.03429274, -14.18199329, -17.14982195]],\n",
       " \n",
       "        [[  3.24326279,   2.9889886 ,   1.45864322,   3.25362998],\n",
       "         [-13.57303145, -17.8743402 , -12.999026  , -13.32156964],\n",
       "         [-17.0613408 , -14.02210555, -14.18199329, -17.20157692]],\n",
       " \n",
       "        [[  3.24326279,   2.9889886 ,   3.81062538,   3.25362998],\n",
       "         [-13.57303145, -17.8743402 , -16.7542518 , -13.32156964],\n",
       "         [-17.0613408 , -14.02210555, -14.10754254, -17.20157692]]]),\n",
       " array([[[  0.90076151,   1.92493979,   0.90076151,   2.88632728],\n",
       "         [-15.41396053, -13.69831899, -15.41396053, -14.63696588],\n",
       "         [-14.06674031, -15.94370222, -14.06674031, -16.0820348 ]],\n",
       " \n",
       "        [[  1.9334231 ,   0.90115555,   2.88632728,   1.679508  ],\n",
       "         [-13.70229715, -15.43250855, -14.63696588, -14.64398923],\n",
       "         [-15.95055768, -14.05227529, -16.10818781, -17.36993542]],\n",
       " \n",
       "        [[  1.92862644,   0.91517182,   2.89504777,   1.65027453],\n",
       "         [-13.70229715, -15.42552829, -14.65449314, -14.64398923],\n",
       "         [-15.95055768, -14.04781979, -16.12150972, -17.36993542]],\n",
       " \n",
       "        ...,\n",
       " \n",
       "        [[  5.48298625,   4.0519774 ,   2.69697131,   1.12588004],\n",
       "         [-15.07918951, -14.32111833, -14.69589642, -13.42978483],\n",
       "         [-14.0029176 , -14.09394717, -14.33300785, -17.12728193]],\n",
       " \n",
       "        [[  5.48298625,   3.75820546,   2.69697131,   2.33322786],\n",
       "         [-15.07918951, -14.2447893 , -14.69589642, -13.07524662],\n",
       "         [-14.0029176 , -14.07186053, -14.33300785, -17.16487463]],\n",
       " \n",
       "        [[  5.48298625,   3.75820546,   2.69697131,   2.33322786],\n",
       "         [-15.07918951, -14.2447893 , -14.69589642, -13.07524662],\n",
       "         [-14.0029176 , -14.07186053, -14.33300785, -17.16487463]]])]"
      ]
     },
     "execution_count": 8,
     "metadata": {},
     "output_type": "execute_result"
    }
   ],
   "source": [
    "res"
   ]
  },
  {
   "cell_type": "code",
   "execution_count": 24,
   "metadata": {},
   "outputs": [
    {
     "data": {
      "image/png": "[encoded data removed]",
      "text/plain": [
       "<Figure size 432x288 with 1 Axes>"
      ]
     },
     "metadata": {
      "needs_background": "light"
     },
     "output_type": "display_data"
    },
    {
     "data": {
      "image/png": "[encoded data removed]",
      "text/plain": [
       "<Figure size 432x288 with 1 Axes>"
      ]
     },
     "metadata": {
      "needs_background": "light"
     },
     "output_type": "display_data"
    },
    {
     "data": {
      "image/png": "[encoded data removed]",
      "text/plain": [
       "<Figure size 432x288 with 1 Axes>"
      ]
     },
     "metadata": {
      "needs_background": "light"
     },
     "output_type": "display_data"
    }
   ],
   "source": [
    "for ii in range(3):\n",
    "    __, bins, __ = plt.hist(np.vstack(res)[50000:, ii, 0], bins=50, density=True)\n",
    "    plt.hist(chain2[20_000:, ii], bins=bins, density=True, alpha=0.5)\n",
    "    plt.show()"
   ]
  },
  {
   "cell_type": "code",
   "execution_count": 56,
   "metadata": {},
   "outputs": [
    {
     "name": "stdout",
     "output_type": "stream",
     "text": [
      "[5.9327601]\n",
      "[22.53624037]\n"
     ]
    }
   ],
   "source": [
    "print(integrated_time(res[:, 2, 0]) / 10)\n",
    "print(integrated_time(chain2[20_000:, 2]))"
   ]
  },
  {
   "cell_type": "code",
   "execution_count": null,
   "metadata": {},
   "outputs": [],
   "source": []
  }
 ],
 "metadata": {
  "interpreter": {
   "hash": "258a98146d7b1fc4fd042f4c4462c9ac0b2f193510c2bf5e68563398d2b8ef68"
  },
  "kernelspec": {
   "display_name": "Python 3.9.12 ('rosettaprise')",
   "language": "python",
   "name": "python3"
  },
  "language_info": {
   "codemirror_mode": {
    "name": "ipython",
    "version": 3
   },
   "file_extension": ".py",
   "mimetype": "text/x-python",
   "name": "python",
   "nbconvert_exporter": "python",
   "pygments_lexer": "ipython3",
   "version": "3.9.13"
  },
  "orig_nbformat": 4
 },
 "nbformat": 4,
 "nbformat_minor": 2
}
